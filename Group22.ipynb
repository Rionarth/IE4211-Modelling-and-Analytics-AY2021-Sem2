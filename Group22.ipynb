{
 "cells": [
  {
   "cell_type": "markdown",
   "metadata": {},
   "source": [
    "Skimming:<br>Part1.Pycaret initial data exploration<br>Part2.Linear Regression (Simple/Lasso/Ridge) with KFold in-sample analysis <br>Part3.Random Forest: Parametre Tuning and KFold in-sample analysis<br>Part4.Gradient Boosting: Parametre Tuning and KFold in-sample analysis<br>Part5.SVM(Kernel=linear/radial/polynomial)<br>Part6.Sales Prediction, inventory Decision and out-of-sample Profit with the best fit model\n",
    "    "
   ]
  },
  {
   "cell_type": "code",
   "execution_count": 1,
   "metadata": {},
   "outputs": [],
   "source": [
    "from pycaret.regression import *"
   ]
  },
  {
   "cell_type": "code",
   "execution_count": 2,
   "metadata": {},
   "outputs": [],
   "source": [
    "import pandas as pd"
   ]
  },
  {
   "cell_type": "code",
   "execution_count": 3,
   "metadata": {},
   "outputs": [
    {
     "data": {
      "text/html": [
       "<div>\n",
       "<style scoped>\n",
       "    .dataframe tbody tr th:only-of-type {\n",
       "        vertical-align: middle;\n",
       "    }\n",
       "\n",
       "    .dataframe tbody tr th {\n",
       "        vertical-align: top;\n",
       "    }\n",
       "\n",
       "    .dataframe thead th {\n",
       "        text-align: right;\n",
       "    }\n",
       "</style>\n",
       "<table border=\"1\" class=\"dataframe\">\n",
       "  <thead>\n",
       "    <tr style=\"text-align: right;\">\n",
       "      <th></th>\n",
       "      <th>productID</th>\n",
       "      <th>brandID</th>\n",
       "      <th>attribute1</th>\n",
       "      <th>attribute2</th>\n",
       "      <th>clickVolume</th>\n",
       "      <th>avgOriginalUnitPrice</th>\n",
       "      <th>avgFinalUnitPrice</th>\n",
       "      <th>ma14SalesVolume</th>\n",
       "      <th>weekday</th>\n",
       "      <th>meanAge</th>\n",
       "      <th>gender</th>\n",
       "      <th>meanEducation</th>\n",
       "      <th>maritalStatus</th>\n",
       "      <th>plus</th>\n",
       "      <th>meanPurchasePower</th>\n",
       "      <th>meanUserLevel</th>\n",
       "      <th>meanCityLevel</th>\n",
       "      <th>sales</th>\n",
       "    </tr>\n",
       "  </thead>\n",
       "  <tbody>\n",
       "    <tr>\n",
       "      <td>0</td>\n",
       "      <td>6</td>\n",
       "      <td>24</td>\n",
       "      <td>3.0</td>\n",
       "      <td>100.0</td>\n",
       "      <td>2418.0</td>\n",
       "      <td>278.97561</td>\n",
       "      <td>216.768293</td>\n",
       "      <td>56.928571</td>\n",
       "      <td>5</td>\n",
       "      <td>31.694915</td>\n",
       "      <td>0.338983</td>\n",
       "      <td>2.929825</td>\n",
       "      <td>0.431034</td>\n",
       "      <td>0.269841</td>\n",
       "      <td>2.120690</td>\n",
       "      <td>3.079365</td>\n",
       "      <td>1.943396</td>\n",
       "      <td>82</td>\n",
       "    </tr>\n",
       "    <tr>\n",
       "      <td>1</td>\n",
       "      <td>47</td>\n",
       "      <td>25</td>\n",
       "      <td>4.0</td>\n",
       "      <td>100.0</td>\n",
       "      <td>1723.0</td>\n",
       "      <td>79.90000</td>\n",
       "      <td>59.233333</td>\n",
       "      <td>49.285714</td>\n",
       "      <td>6</td>\n",
       "      <td>30.652174</td>\n",
       "      <td>0.217391</td>\n",
       "      <td>2.928571</td>\n",
       "      <td>0.604651</td>\n",
       "      <td>0.191489</td>\n",
       "      <td>2.302326</td>\n",
       "      <td>2.446809</td>\n",
       "      <td>2.093023</td>\n",
       "      <td>48</td>\n",
       "    </tr>\n",
       "    <tr>\n",
       "      <td>2</td>\n",
       "      <td>6</td>\n",
       "      <td>24</td>\n",
       "      <td>3.0</td>\n",
       "      <td>100.0</td>\n",
       "      <td>1666.0</td>\n",
       "      <td>298.00000</td>\n",
       "      <td>214.410714</td>\n",
       "      <td>48.857143</td>\n",
       "      <td>4</td>\n",
       "      <td>31.370370</td>\n",
       "      <td>0.148148</td>\n",
       "      <td>2.941176</td>\n",
       "      <td>0.519231</td>\n",
       "      <td>0.357143</td>\n",
       "      <td>2.153846</td>\n",
       "      <td>2.839286</td>\n",
       "      <td>2.104167</td>\n",
       "      <td>56</td>\n",
       "    </tr>\n",
       "    <tr>\n",
       "      <td>3</td>\n",
       "      <td>48</td>\n",
       "      <td>25</td>\n",
       "      <td>3.0</td>\n",
       "      <td>80.0</td>\n",
       "      <td>386.0</td>\n",
       "      <td>69.90000</td>\n",
       "      <td>40.664706</td>\n",
       "      <td>19.714286</td>\n",
       "      <td>4</td>\n",
       "      <td>32.222222</td>\n",
       "      <td>0.333333</td>\n",
       "      <td>3.111111</td>\n",
       "      <td>0.333333</td>\n",
       "      <td>0.272727</td>\n",
       "      <td>2.444444</td>\n",
       "      <td>2.700000</td>\n",
       "      <td>2.888889</td>\n",
       "      <td>17</td>\n",
       "    </tr>\n",
       "    <tr>\n",
       "      <td>4</td>\n",
       "      <td>47</td>\n",
       "      <td>25</td>\n",
       "      <td>4.0</td>\n",
       "      <td>100.0</td>\n",
       "      <td>1419.0</td>\n",
       "      <td>79.90000</td>\n",
       "      <td>58.703279</td>\n",
       "      <td>66.214286</td>\n",
       "      <td>4</td>\n",
       "      <td>31.020408</td>\n",
       "      <td>0.183673</td>\n",
       "      <td>2.978723</td>\n",
       "      <td>0.425532</td>\n",
       "      <td>0.218182</td>\n",
       "      <td>2.468085</td>\n",
       "      <td>2.490909</td>\n",
       "      <td>2.042553</td>\n",
       "      <td>61</td>\n",
       "    </tr>\n",
       "  </tbody>\n",
       "</table>\n",
       "</div>"
      ],
      "text/plain": [
       "   productID  brandID  attribute1  attribute2  clickVolume  \\\n",
       "0          6       24         3.0       100.0       2418.0   \n",
       "1         47       25         4.0       100.0       1723.0   \n",
       "2          6       24         3.0       100.0       1666.0   \n",
       "3         48       25         3.0        80.0        386.0   \n",
       "4         47       25         4.0       100.0       1419.0   \n",
       "\n",
       "   avgOriginalUnitPrice  avgFinalUnitPrice  ma14SalesVolume  weekday  \\\n",
       "0             278.97561         216.768293        56.928571        5   \n",
       "1              79.90000          59.233333        49.285714        6   \n",
       "2             298.00000         214.410714        48.857143        4   \n",
       "3              69.90000          40.664706        19.714286        4   \n",
       "4              79.90000          58.703279        66.214286        4   \n",
       "\n",
       "     meanAge    gender  meanEducation  maritalStatus      plus  \\\n",
       "0  31.694915  0.338983       2.929825       0.431034  0.269841   \n",
       "1  30.652174  0.217391       2.928571       0.604651  0.191489   \n",
       "2  31.370370  0.148148       2.941176       0.519231  0.357143   \n",
       "3  32.222222  0.333333       3.111111       0.333333  0.272727   \n",
       "4  31.020408  0.183673       2.978723       0.425532  0.218182   \n",
       "\n",
       "   meanPurchasePower  meanUserLevel  meanCityLevel  sales  \n",
       "0           2.120690       3.079365       1.943396     82  \n",
       "1           2.302326       2.446809       2.093023     48  \n",
       "2           2.153846       2.839286       2.104167     56  \n",
       "3           2.444444       2.700000       2.888889     17  \n",
       "4           2.468085       2.490909       2.042553     61  "
      ]
     },
     "execution_count": 3,
     "metadata": {},
     "output_type": "execute_result"
    }
   ],
   "source": [
    "data = pd.read_csv('Data-train.csv',index_col=0)\n",
    "data=data.dropna()\n",
    "data.head()"
   ]
  },
  {
   "cell_type": "markdown",
   "metadata": {},
   "source": [
    "### setting up data for pycaret"
   ]
  },
  {
   "cell_type": "code",
   "execution_count": 4,
   "metadata": {},
   "outputs": [
    {
     "name": "stdout",
     "output_type": "stream",
     "text": [
      " \n",
      "Setup Succesfully Completed.\n"
     ]
    },
    {
     "data": {
      "text/html": [
       "<style  type=\"text/css\" >\n",
       "</style><table id=\"T_3ec479fa_9f5b_11eb_941c_acde48001122\" ><thead>    <tr>        <th class=\"blank level0\" ></th>        <th class=\"col_heading level0 col0\" >Description</th>        <th class=\"col_heading level0 col1\" >Value</th>    </tr></thead><tbody>\n",
       "                <tr>\n",
       "                        <th id=\"T_3ec479fa_9f5b_11eb_941c_acde48001122level0_row0\" class=\"row_heading level0 row0\" >0</th>\n",
       "                        <td id=\"T_3ec479fa_9f5b_11eb_941c_acde48001122row0_col0\" class=\"data row0 col0\" >session_id</td>\n",
       "                        <td id=\"T_3ec479fa_9f5b_11eb_941c_acde48001122row0_col1\" class=\"data row0 col1\" >2000</td>\n",
       "            </tr>\n",
       "            <tr>\n",
       "                        <th id=\"T_3ec479fa_9f5b_11eb_941c_acde48001122level0_row1\" class=\"row_heading level0 row1\" >1</th>\n",
       "                        <td id=\"T_3ec479fa_9f5b_11eb_941c_acde48001122row1_col0\" class=\"data row1 col0\" >Transform Target </td>\n",
       "                        <td id=\"T_3ec479fa_9f5b_11eb_941c_acde48001122row1_col1\" class=\"data row1 col1\" >False</td>\n",
       "            </tr>\n",
       "            <tr>\n",
       "                        <th id=\"T_3ec479fa_9f5b_11eb_941c_acde48001122level0_row2\" class=\"row_heading level0 row2\" >2</th>\n",
       "                        <td id=\"T_3ec479fa_9f5b_11eb_941c_acde48001122row2_col0\" class=\"data row2 col0\" >Transform Target Method</td>\n",
       "                        <td id=\"T_3ec479fa_9f5b_11eb_941c_acde48001122row2_col1\" class=\"data row2 col1\" >None</td>\n",
       "            </tr>\n",
       "            <tr>\n",
       "                        <th id=\"T_3ec479fa_9f5b_11eb_941c_acde48001122level0_row3\" class=\"row_heading level0 row3\" >3</th>\n",
       "                        <td id=\"T_3ec479fa_9f5b_11eb_941c_acde48001122row3_col0\" class=\"data row3 col0\" >Original Data</td>\n",
       "                        <td id=\"T_3ec479fa_9f5b_11eb_941c_acde48001122row3_col1\" class=\"data row3 col1\" >(2491, 18)</td>\n",
       "            </tr>\n",
       "            <tr>\n",
       "                        <th id=\"T_3ec479fa_9f5b_11eb_941c_acde48001122level0_row4\" class=\"row_heading level0 row4\" >4</th>\n",
       "                        <td id=\"T_3ec479fa_9f5b_11eb_941c_acde48001122row4_col0\" class=\"data row4 col0\" >Missing Values </td>\n",
       "                        <td id=\"T_3ec479fa_9f5b_11eb_941c_acde48001122row4_col1\" class=\"data row4 col1\" >False</td>\n",
       "            </tr>\n",
       "            <tr>\n",
       "                        <th id=\"T_3ec479fa_9f5b_11eb_941c_acde48001122level0_row5\" class=\"row_heading level0 row5\" >5</th>\n",
       "                        <td id=\"T_3ec479fa_9f5b_11eb_941c_acde48001122row5_col0\" class=\"data row5 col0\" >Numeric Features </td>\n",
       "                        <td id=\"T_3ec479fa_9f5b_11eb_941c_acde48001122row5_col1\" class=\"data row5 col1\" >12</td>\n",
       "            </tr>\n",
       "            <tr>\n",
       "                        <th id=\"T_3ec479fa_9f5b_11eb_941c_acde48001122level0_row6\" class=\"row_heading level0 row6\" >6</th>\n",
       "                        <td id=\"T_3ec479fa_9f5b_11eb_941c_acde48001122row6_col0\" class=\"data row6 col0\" >Categorical Features </td>\n",
       "                        <td id=\"T_3ec479fa_9f5b_11eb_941c_acde48001122row6_col1\" class=\"data row6 col1\" >5</td>\n",
       "            </tr>\n",
       "            <tr>\n",
       "                        <th id=\"T_3ec479fa_9f5b_11eb_941c_acde48001122level0_row7\" class=\"row_heading level0 row7\" >7</th>\n",
       "                        <td id=\"T_3ec479fa_9f5b_11eb_941c_acde48001122row7_col0\" class=\"data row7 col0\" >Ordinal Features </td>\n",
       "                        <td id=\"T_3ec479fa_9f5b_11eb_941c_acde48001122row7_col1\" class=\"data row7 col1\" >False</td>\n",
       "            </tr>\n",
       "            <tr>\n",
       "                        <th id=\"T_3ec479fa_9f5b_11eb_941c_acde48001122level0_row8\" class=\"row_heading level0 row8\" >8</th>\n",
       "                        <td id=\"T_3ec479fa_9f5b_11eb_941c_acde48001122row8_col0\" class=\"data row8 col0\" >High Cardinality Features </td>\n",
       "                        <td id=\"T_3ec479fa_9f5b_11eb_941c_acde48001122row8_col1\" class=\"data row8 col1\" >False</td>\n",
       "            </tr>\n",
       "            <tr>\n",
       "                        <th id=\"T_3ec479fa_9f5b_11eb_941c_acde48001122level0_row9\" class=\"row_heading level0 row9\" >9</th>\n",
       "                        <td id=\"T_3ec479fa_9f5b_11eb_941c_acde48001122row9_col0\" class=\"data row9 col0\" >High Cardinality Method </td>\n",
       "                        <td id=\"T_3ec479fa_9f5b_11eb_941c_acde48001122row9_col1\" class=\"data row9 col1\" >None</td>\n",
       "            </tr>\n",
       "            <tr>\n",
       "                        <th id=\"T_3ec479fa_9f5b_11eb_941c_acde48001122level0_row10\" class=\"row_heading level0 row10\" >10</th>\n",
       "                        <td id=\"T_3ec479fa_9f5b_11eb_941c_acde48001122row10_col0\" class=\"data row10 col0\" >Sampled Data</td>\n",
       "                        <td id=\"T_3ec479fa_9f5b_11eb_941c_acde48001122row10_col1\" class=\"data row10 col1\" >(2491, 18)</td>\n",
       "            </tr>\n",
       "            <tr>\n",
       "                        <th id=\"T_3ec479fa_9f5b_11eb_941c_acde48001122level0_row11\" class=\"row_heading level0 row11\" >11</th>\n",
       "                        <td id=\"T_3ec479fa_9f5b_11eb_941c_acde48001122row11_col0\" class=\"data row11 col0\" >Transformed Train Set</td>\n",
       "                        <td id=\"T_3ec479fa_9f5b_11eb_941c_acde48001122row11_col1\" class=\"data row11 col1\" >(1743, 134)</td>\n",
       "            </tr>\n",
       "            <tr>\n",
       "                        <th id=\"T_3ec479fa_9f5b_11eb_941c_acde48001122level0_row12\" class=\"row_heading level0 row12\" >12</th>\n",
       "                        <td id=\"T_3ec479fa_9f5b_11eb_941c_acde48001122row12_col0\" class=\"data row12 col0\" >Transformed Test Set</td>\n",
       "                        <td id=\"T_3ec479fa_9f5b_11eb_941c_acde48001122row12_col1\" class=\"data row12 col1\" >(748, 134)</td>\n",
       "            </tr>\n",
       "            <tr>\n",
       "                        <th id=\"T_3ec479fa_9f5b_11eb_941c_acde48001122level0_row13\" class=\"row_heading level0 row13\" >13</th>\n",
       "                        <td id=\"T_3ec479fa_9f5b_11eb_941c_acde48001122row13_col0\" class=\"data row13 col0\" >Numeric Imputer </td>\n",
       "                        <td id=\"T_3ec479fa_9f5b_11eb_941c_acde48001122row13_col1\" class=\"data row13 col1\" >mean</td>\n",
       "            </tr>\n",
       "            <tr>\n",
       "                        <th id=\"T_3ec479fa_9f5b_11eb_941c_acde48001122level0_row14\" class=\"row_heading level0 row14\" >14</th>\n",
       "                        <td id=\"T_3ec479fa_9f5b_11eb_941c_acde48001122row14_col0\" class=\"data row14 col0\" >Categorical Imputer </td>\n",
       "                        <td id=\"T_3ec479fa_9f5b_11eb_941c_acde48001122row14_col1\" class=\"data row14 col1\" >constant</td>\n",
       "            </tr>\n",
       "            <tr>\n",
       "                        <th id=\"T_3ec479fa_9f5b_11eb_941c_acde48001122level0_row15\" class=\"row_heading level0 row15\" >15</th>\n",
       "                        <td id=\"T_3ec479fa_9f5b_11eb_941c_acde48001122row15_col0\" class=\"data row15 col0\" >Normalize </td>\n",
       "                        <td id=\"T_3ec479fa_9f5b_11eb_941c_acde48001122row15_col1\" class=\"data row15 col1\" >False</td>\n",
       "            </tr>\n",
       "            <tr>\n",
       "                        <th id=\"T_3ec479fa_9f5b_11eb_941c_acde48001122level0_row16\" class=\"row_heading level0 row16\" >16</th>\n",
       "                        <td id=\"T_3ec479fa_9f5b_11eb_941c_acde48001122row16_col0\" class=\"data row16 col0\" >Normalize Method </td>\n",
       "                        <td id=\"T_3ec479fa_9f5b_11eb_941c_acde48001122row16_col1\" class=\"data row16 col1\" >None</td>\n",
       "            </tr>\n",
       "            <tr>\n",
       "                        <th id=\"T_3ec479fa_9f5b_11eb_941c_acde48001122level0_row17\" class=\"row_heading level0 row17\" >17</th>\n",
       "                        <td id=\"T_3ec479fa_9f5b_11eb_941c_acde48001122row17_col0\" class=\"data row17 col0\" >Transformation </td>\n",
       "                        <td id=\"T_3ec479fa_9f5b_11eb_941c_acde48001122row17_col1\" class=\"data row17 col1\" >False</td>\n",
       "            </tr>\n",
       "            <tr>\n",
       "                        <th id=\"T_3ec479fa_9f5b_11eb_941c_acde48001122level0_row18\" class=\"row_heading level0 row18\" >18</th>\n",
       "                        <td id=\"T_3ec479fa_9f5b_11eb_941c_acde48001122row18_col0\" class=\"data row18 col0\" >Transformation Method </td>\n",
       "                        <td id=\"T_3ec479fa_9f5b_11eb_941c_acde48001122row18_col1\" class=\"data row18 col1\" >None</td>\n",
       "            </tr>\n",
       "            <tr>\n",
       "                        <th id=\"T_3ec479fa_9f5b_11eb_941c_acde48001122level0_row19\" class=\"row_heading level0 row19\" >19</th>\n",
       "                        <td id=\"T_3ec479fa_9f5b_11eb_941c_acde48001122row19_col0\" class=\"data row19 col0\" >PCA </td>\n",
       "                        <td id=\"T_3ec479fa_9f5b_11eb_941c_acde48001122row19_col1\" class=\"data row19 col1\" >False</td>\n",
       "            </tr>\n",
       "            <tr>\n",
       "                        <th id=\"T_3ec479fa_9f5b_11eb_941c_acde48001122level0_row20\" class=\"row_heading level0 row20\" >20</th>\n",
       "                        <td id=\"T_3ec479fa_9f5b_11eb_941c_acde48001122row20_col0\" class=\"data row20 col0\" >PCA Method </td>\n",
       "                        <td id=\"T_3ec479fa_9f5b_11eb_941c_acde48001122row20_col1\" class=\"data row20 col1\" >None</td>\n",
       "            </tr>\n",
       "            <tr>\n",
       "                        <th id=\"T_3ec479fa_9f5b_11eb_941c_acde48001122level0_row21\" class=\"row_heading level0 row21\" >21</th>\n",
       "                        <td id=\"T_3ec479fa_9f5b_11eb_941c_acde48001122row21_col0\" class=\"data row21 col0\" >PCA Components </td>\n",
       "                        <td id=\"T_3ec479fa_9f5b_11eb_941c_acde48001122row21_col1\" class=\"data row21 col1\" >None</td>\n",
       "            </tr>\n",
       "            <tr>\n",
       "                        <th id=\"T_3ec479fa_9f5b_11eb_941c_acde48001122level0_row22\" class=\"row_heading level0 row22\" >22</th>\n",
       "                        <td id=\"T_3ec479fa_9f5b_11eb_941c_acde48001122row22_col0\" class=\"data row22 col0\" >Ignore Low Variance </td>\n",
       "                        <td id=\"T_3ec479fa_9f5b_11eb_941c_acde48001122row22_col1\" class=\"data row22 col1\" >False</td>\n",
       "            </tr>\n",
       "            <tr>\n",
       "                        <th id=\"T_3ec479fa_9f5b_11eb_941c_acde48001122level0_row23\" class=\"row_heading level0 row23\" >23</th>\n",
       "                        <td id=\"T_3ec479fa_9f5b_11eb_941c_acde48001122row23_col0\" class=\"data row23 col0\" >Combine Rare Levels </td>\n",
       "                        <td id=\"T_3ec479fa_9f5b_11eb_941c_acde48001122row23_col1\" class=\"data row23 col1\" >False</td>\n",
       "            </tr>\n",
       "            <tr>\n",
       "                        <th id=\"T_3ec479fa_9f5b_11eb_941c_acde48001122level0_row24\" class=\"row_heading level0 row24\" >24</th>\n",
       "                        <td id=\"T_3ec479fa_9f5b_11eb_941c_acde48001122row24_col0\" class=\"data row24 col0\" >Rare Level Threshold </td>\n",
       "                        <td id=\"T_3ec479fa_9f5b_11eb_941c_acde48001122row24_col1\" class=\"data row24 col1\" >None</td>\n",
       "            </tr>\n",
       "            <tr>\n",
       "                        <th id=\"T_3ec479fa_9f5b_11eb_941c_acde48001122level0_row25\" class=\"row_heading level0 row25\" >25</th>\n",
       "                        <td id=\"T_3ec479fa_9f5b_11eb_941c_acde48001122row25_col0\" class=\"data row25 col0\" >Numeric Binning </td>\n",
       "                        <td id=\"T_3ec479fa_9f5b_11eb_941c_acde48001122row25_col1\" class=\"data row25 col1\" >False</td>\n",
       "            </tr>\n",
       "            <tr>\n",
       "                        <th id=\"T_3ec479fa_9f5b_11eb_941c_acde48001122level0_row26\" class=\"row_heading level0 row26\" >26</th>\n",
       "                        <td id=\"T_3ec479fa_9f5b_11eb_941c_acde48001122row26_col0\" class=\"data row26 col0\" >Remove Outliers </td>\n",
       "                        <td id=\"T_3ec479fa_9f5b_11eb_941c_acde48001122row26_col1\" class=\"data row26 col1\" >False</td>\n",
       "            </tr>\n",
       "            <tr>\n",
       "                        <th id=\"T_3ec479fa_9f5b_11eb_941c_acde48001122level0_row27\" class=\"row_heading level0 row27\" >27</th>\n",
       "                        <td id=\"T_3ec479fa_9f5b_11eb_941c_acde48001122row27_col0\" class=\"data row27 col0\" >Outliers Threshold </td>\n",
       "                        <td id=\"T_3ec479fa_9f5b_11eb_941c_acde48001122row27_col1\" class=\"data row27 col1\" >None</td>\n",
       "            </tr>\n",
       "            <tr>\n",
       "                        <th id=\"T_3ec479fa_9f5b_11eb_941c_acde48001122level0_row28\" class=\"row_heading level0 row28\" >28</th>\n",
       "                        <td id=\"T_3ec479fa_9f5b_11eb_941c_acde48001122row28_col0\" class=\"data row28 col0\" >Remove Multicollinearity </td>\n",
       "                        <td id=\"T_3ec479fa_9f5b_11eb_941c_acde48001122row28_col1\" class=\"data row28 col1\" >False</td>\n",
       "            </tr>\n",
       "            <tr>\n",
       "                        <th id=\"T_3ec479fa_9f5b_11eb_941c_acde48001122level0_row29\" class=\"row_heading level0 row29\" >29</th>\n",
       "                        <td id=\"T_3ec479fa_9f5b_11eb_941c_acde48001122row29_col0\" class=\"data row29 col0\" >Multicollinearity Threshold </td>\n",
       "                        <td id=\"T_3ec479fa_9f5b_11eb_941c_acde48001122row29_col1\" class=\"data row29 col1\" >None</td>\n",
       "            </tr>\n",
       "            <tr>\n",
       "                        <th id=\"T_3ec479fa_9f5b_11eb_941c_acde48001122level0_row30\" class=\"row_heading level0 row30\" >30</th>\n",
       "                        <td id=\"T_3ec479fa_9f5b_11eb_941c_acde48001122row30_col0\" class=\"data row30 col0\" >Clustering </td>\n",
       "                        <td id=\"T_3ec479fa_9f5b_11eb_941c_acde48001122row30_col1\" class=\"data row30 col1\" >False</td>\n",
       "            </tr>\n",
       "            <tr>\n",
       "                        <th id=\"T_3ec479fa_9f5b_11eb_941c_acde48001122level0_row31\" class=\"row_heading level0 row31\" >31</th>\n",
       "                        <td id=\"T_3ec479fa_9f5b_11eb_941c_acde48001122row31_col0\" class=\"data row31 col0\" >Clustering Iteration </td>\n",
       "                        <td id=\"T_3ec479fa_9f5b_11eb_941c_acde48001122row31_col1\" class=\"data row31 col1\" >None</td>\n",
       "            </tr>\n",
       "            <tr>\n",
       "                        <th id=\"T_3ec479fa_9f5b_11eb_941c_acde48001122level0_row32\" class=\"row_heading level0 row32\" >32</th>\n",
       "                        <td id=\"T_3ec479fa_9f5b_11eb_941c_acde48001122row32_col0\" class=\"data row32 col0\" >Polynomial Features </td>\n",
       "                        <td id=\"T_3ec479fa_9f5b_11eb_941c_acde48001122row32_col1\" class=\"data row32 col1\" >False</td>\n",
       "            </tr>\n",
       "            <tr>\n",
       "                        <th id=\"T_3ec479fa_9f5b_11eb_941c_acde48001122level0_row33\" class=\"row_heading level0 row33\" >33</th>\n",
       "                        <td id=\"T_3ec479fa_9f5b_11eb_941c_acde48001122row33_col0\" class=\"data row33 col0\" >Polynomial Degree </td>\n",
       "                        <td id=\"T_3ec479fa_9f5b_11eb_941c_acde48001122row33_col1\" class=\"data row33 col1\" >None</td>\n",
       "            </tr>\n",
       "            <tr>\n",
       "                        <th id=\"T_3ec479fa_9f5b_11eb_941c_acde48001122level0_row34\" class=\"row_heading level0 row34\" >34</th>\n",
       "                        <td id=\"T_3ec479fa_9f5b_11eb_941c_acde48001122row34_col0\" class=\"data row34 col0\" >Trignometry Features </td>\n",
       "                        <td id=\"T_3ec479fa_9f5b_11eb_941c_acde48001122row34_col1\" class=\"data row34 col1\" >False</td>\n",
       "            </tr>\n",
       "            <tr>\n",
       "                        <th id=\"T_3ec479fa_9f5b_11eb_941c_acde48001122level0_row35\" class=\"row_heading level0 row35\" >35</th>\n",
       "                        <td id=\"T_3ec479fa_9f5b_11eb_941c_acde48001122row35_col0\" class=\"data row35 col0\" >Polynomial Threshold </td>\n",
       "                        <td id=\"T_3ec479fa_9f5b_11eb_941c_acde48001122row35_col1\" class=\"data row35 col1\" >None</td>\n",
       "            </tr>\n",
       "            <tr>\n",
       "                        <th id=\"T_3ec479fa_9f5b_11eb_941c_acde48001122level0_row36\" class=\"row_heading level0 row36\" >36</th>\n",
       "                        <td id=\"T_3ec479fa_9f5b_11eb_941c_acde48001122row36_col0\" class=\"data row36 col0\" >Group Features </td>\n",
       "                        <td id=\"T_3ec479fa_9f5b_11eb_941c_acde48001122row36_col1\" class=\"data row36 col1\" >False</td>\n",
       "            </tr>\n",
       "            <tr>\n",
       "                        <th id=\"T_3ec479fa_9f5b_11eb_941c_acde48001122level0_row37\" class=\"row_heading level0 row37\" >37</th>\n",
       "                        <td id=\"T_3ec479fa_9f5b_11eb_941c_acde48001122row37_col0\" class=\"data row37 col0\" >Feature Selection </td>\n",
       "                        <td id=\"T_3ec479fa_9f5b_11eb_941c_acde48001122row37_col1\" class=\"data row37 col1\" >False</td>\n",
       "            </tr>\n",
       "            <tr>\n",
       "                        <th id=\"T_3ec479fa_9f5b_11eb_941c_acde48001122level0_row38\" class=\"row_heading level0 row38\" >38</th>\n",
       "                        <td id=\"T_3ec479fa_9f5b_11eb_941c_acde48001122row38_col0\" class=\"data row38 col0\" >Features Selection Threshold </td>\n",
       "                        <td id=\"T_3ec479fa_9f5b_11eb_941c_acde48001122row38_col1\" class=\"data row38 col1\" >None</td>\n",
       "            </tr>\n",
       "            <tr>\n",
       "                        <th id=\"T_3ec479fa_9f5b_11eb_941c_acde48001122level0_row39\" class=\"row_heading level0 row39\" >39</th>\n",
       "                        <td id=\"T_3ec479fa_9f5b_11eb_941c_acde48001122row39_col0\" class=\"data row39 col0\" >Feature Interaction </td>\n",
       "                        <td id=\"T_3ec479fa_9f5b_11eb_941c_acde48001122row39_col1\" class=\"data row39 col1\" >False</td>\n",
       "            </tr>\n",
       "            <tr>\n",
       "                        <th id=\"T_3ec479fa_9f5b_11eb_941c_acde48001122level0_row40\" class=\"row_heading level0 row40\" >40</th>\n",
       "                        <td id=\"T_3ec479fa_9f5b_11eb_941c_acde48001122row40_col0\" class=\"data row40 col0\" >Feature Ratio </td>\n",
       "                        <td id=\"T_3ec479fa_9f5b_11eb_941c_acde48001122row40_col1\" class=\"data row40 col1\" >False</td>\n",
       "            </tr>\n",
       "            <tr>\n",
       "                        <th id=\"T_3ec479fa_9f5b_11eb_941c_acde48001122level0_row41\" class=\"row_heading level0 row41\" >41</th>\n",
       "                        <td id=\"T_3ec479fa_9f5b_11eb_941c_acde48001122row41_col0\" class=\"data row41 col0\" >Interaction Threshold </td>\n",
       "                        <td id=\"T_3ec479fa_9f5b_11eb_941c_acde48001122row41_col1\" class=\"data row41 col1\" >None</td>\n",
       "            </tr>\n",
       "    </tbody></table>"
      ],
      "text/plain": [
       "<pandas.io.formats.style.Styler at 0x7f9785f9b950>"
      ]
     },
     "metadata": {},
     "output_type": "display_data"
    }
   ],
   "source": [
    "clf = setup(data=data,target='sales',session_id=2000,categorical_features =['productID','brandID','attribute1','attribute2'])"
   ]
  },
  {
   "cell_type": "markdown",
   "metadata": {},
   "source": [
    "### compare_models gives different models' results based on MSE, R2 and other performance metrics."
   ]
  },
  {
   "cell_type": "code",
   "execution_count": 5,
   "metadata": {},
   "outputs": [
    {
     "data": {
      "text/html": [
       "<style  type=\"text/css\" >\n",
       "    #T_c934e084_9f5b_11eb_941c_acde48001122 th {\n",
       "          text-align: left;\n",
       "    }    #T_c934e084_9f5b_11eb_941c_acde48001122row0_col0 {\n",
       "            text-align:  left;\n",
       "        }    #T_c934e084_9f5b_11eb_941c_acde48001122row0_col1 {\n",
       "            background-color:  yellow;\n",
       "            text-align:  left;\n",
       "        }    #T_c934e084_9f5b_11eb_941c_acde48001122row0_col2 {\n",
       "            background-color:  yellow;\n",
       "            text-align:  left;\n",
       "        }    #T_c934e084_9f5b_11eb_941c_acde48001122row0_col3 {\n",
       "            background-color:  yellow;\n",
       "            text-align:  left;\n",
       "        }    #T_c934e084_9f5b_11eb_941c_acde48001122row0_col4 {\n",
       "            background-color:  yellow;\n",
       "            text-align:  left;\n",
       "        }    #T_c934e084_9f5b_11eb_941c_acde48001122row0_col5 {\n",
       "            background-color:  yellow;\n",
       "            text-align:  left;\n",
       "        }    #T_c934e084_9f5b_11eb_941c_acde48001122row0_col6 {\n",
       "            background-color:  yellow;\n",
       "            text-align:  left;\n",
       "        }    #T_c934e084_9f5b_11eb_941c_acde48001122row0_col7 {\n",
       "            background-color:  lightgrey;\n",
       "            text-align:  left;\n",
       "        }    #T_c934e084_9f5b_11eb_941c_acde48001122row1_col0 {\n",
       "            text-align:  left;\n",
       "        }    #T_c934e084_9f5b_11eb_941c_acde48001122row1_col1 {\n",
       "            : ;\n",
       "            text-align:  left;\n",
       "        }    #T_c934e084_9f5b_11eb_941c_acde48001122row1_col2 {\n",
       "            : ;\n",
       "            text-align:  left;\n",
       "        }    #T_c934e084_9f5b_11eb_941c_acde48001122row1_col3 {\n",
       "            : ;\n",
       "            text-align:  left;\n",
       "        }    #T_c934e084_9f5b_11eb_941c_acde48001122row1_col4 {\n",
       "            : ;\n",
       "            text-align:  left;\n",
       "        }    #T_c934e084_9f5b_11eb_941c_acde48001122row1_col5 {\n",
       "            : ;\n",
       "            text-align:  left;\n",
       "        }    #T_c934e084_9f5b_11eb_941c_acde48001122row1_col6 {\n",
       "            : ;\n",
       "            text-align:  left;\n",
       "        }    #T_c934e084_9f5b_11eb_941c_acde48001122row1_col7 {\n",
       "            background-color:  lightgrey;\n",
       "            text-align:  left;\n",
       "        }    #T_c934e084_9f5b_11eb_941c_acde48001122row2_col0 {\n",
       "            text-align:  left;\n",
       "        }    #T_c934e084_9f5b_11eb_941c_acde48001122row2_col1 {\n",
       "            : ;\n",
       "            text-align:  left;\n",
       "        }    #T_c934e084_9f5b_11eb_941c_acde48001122row2_col2 {\n",
       "            : ;\n",
       "            text-align:  left;\n",
       "        }    #T_c934e084_9f5b_11eb_941c_acde48001122row2_col3 {\n",
       "            : ;\n",
       "            text-align:  left;\n",
       "        }    #T_c934e084_9f5b_11eb_941c_acde48001122row2_col4 {\n",
       "            : ;\n",
       "            text-align:  left;\n",
       "        }    #T_c934e084_9f5b_11eb_941c_acde48001122row2_col5 {\n",
       "            : ;\n",
       "            text-align:  left;\n",
       "        }    #T_c934e084_9f5b_11eb_941c_acde48001122row2_col6 {\n",
       "            : ;\n",
       "            text-align:  left;\n",
       "        }    #T_c934e084_9f5b_11eb_941c_acde48001122row2_col7 {\n",
       "            background-color:  lightgrey;\n",
       "            text-align:  left;\n",
       "        }    #T_c934e084_9f5b_11eb_941c_acde48001122row3_col0 {\n",
       "            text-align:  left;\n",
       "        }    #T_c934e084_9f5b_11eb_941c_acde48001122row3_col1 {\n",
       "            : ;\n",
       "            text-align:  left;\n",
       "        }    #T_c934e084_9f5b_11eb_941c_acde48001122row3_col2 {\n",
       "            : ;\n",
       "            text-align:  left;\n",
       "        }    #T_c934e084_9f5b_11eb_941c_acde48001122row3_col3 {\n",
       "            : ;\n",
       "            text-align:  left;\n",
       "        }    #T_c934e084_9f5b_11eb_941c_acde48001122row3_col4 {\n",
       "            : ;\n",
       "            text-align:  left;\n",
       "        }    #T_c934e084_9f5b_11eb_941c_acde48001122row3_col5 {\n",
       "            : ;\n",
       "            text-align:  left;\n",
       "        }    #T_c934e084_9f5b_11eb_941c_acde48001122row3_col6 {\n",
       "            : ;\n",
       "            text-align:  left;\n",
       "        }    #T_c934e084_9f5b_11eb_941c_acde48001122row3_col7 {\n",
       "            background-color:  lightgrey;\n",
       "            text-align:  left;\n",
       "        }    #T_c934e084_9f5b_11eb_941c_acde48001122row4_col0 {\n",
       "            text-align:  left;\n",
       "        }    #T_c934e084_9f5b_11eb_941c_acde48001122row4_col1 {\n",
       "            : ;\n",
       "            text-align:  left;\n",
       "        }    #T_c934e084_9f5b_11eb_941c_acde48001122row4_col2 {\n",
       "            : ;\n",
       "            text-align:  left;\n",
       "        }    #T_c934e084_9f5b_11eb_941c_acde48001122row4_col3 {\n",
       "            : ;\n",
       "            text-align:  left;\n",
       "        }    #T_c934e084_9f5b_11eb_941c_acde48001122row4_col4 {\n",
       "            : ;\n",
       "            text-align:  left;\n",
       "        }    #T_c934e084_9f5b_11eb_941c_acde48001122row4_col5 {\n",
       "            : ;\n",
       "            text-align:  left;\n",
       "        }    #T_c934e084_9f5b_11eb_941c_acde48001122row4_col6 {\n",
       "            : ;\n",
       "            text-align:  left;\n",
       "        }    #T_c934e084_9f5b_11eb_941c_acde48001122row4_col7 {\n",
       "            background-color:  lightgrey;\n",
       "            text-align:  left;\n",
       "        }    #T_c934e084_9f5b_11eb_941c_acde48001122row5_col0 {\n",
       "            text-align:  left;\n",
       "        }    #T_c934e084_9f5b_11eb_941c_acde48001122row5_col1 {\n",
       "            : ;\n",
       "            text-align:  left;\n",
       "        }    #T_c934e084_9f5b_11eb_941c_acde48001122row5_col2 {\n",
       "            : ;\n",
       "            text-align:  left;\n",
       "        }    #T_c934e084_9f5b_11eb_941c_acde48001122row5_col3 {\n",
       "            : ;\n",
       "            text-align:  left;\n",
       "        }    #T_c934e084_9f5b_11eb_941c_acde48001122row5_col4 {\n",
       "            : ;\n",
       "            text-align:  left;\n",
       "        }    #T_c934e084_9f5b_11eb_941c_acde48001122row5_col5 {\n",
       "            : ;\n",
       "            text-align:  left;\n",
       "        }    #T_c934e084_9f5b_11eb_941c_acde48001122row5_col6 {\n",
       "            : ;\n",
       "            text-align:  left;\n",
       "        }    #T_c934e084_9f5b_11eb_941c_acde48001122row5_col7 {\n",
       "            background-color:  lightgrey;\n",
       "            text-align:  left;\n",
       "        }    #T_c934e084_9f5b_11eb_941c_acde48001122row6_col0 {\n",
       "            text-align:  left;\n",
       "        }    #T_c934e084_9f5b_11eb_941c_acde48001122row6_col1 {\n",
       "            : ;\n",
       "            text-align:  left;\n",
       "        }    #T_c934e084_9f5b_11eb_941c_acde48001122row6_col2 {\n",
       "            : ;\n",
       "            text-align:  left;\n",
       "        }    #T_c934e084_9f5b_11eb_941c_acde48001122row6_col3 {\n",
       "            : ;\n",
       "            text-align:  left;\n",
       "        }    #T_c934e084_9f5b_11eb_941c_acde48001122row6_col4 {\n",
       "            : ;\n",
       "            text-align:  left;\n",
       "        }    #T_c934e084_9f5b_11eb_941c_acde48001122row6_col5 {\n",
       "            : ;\n",
       "            text-align:  left;\n",
       "        }    #T_c934e084_9f5b_11eb_941c_acde48001122row6_col6 {\n",
       "            : ;\n",
       "            text-align:  left;\n",
       "        }    #T_c934e084_9f5b_11eb_941c_acde48001122row6_col7 {\n",
       "            background-color:  lightgrey;\n",
       "            text-align:  left;\n",
       "        }    #T_c934e084_9f5b_11eb_941c_acde48001122row7_col0 {\n",
       "            text-align:  left;\n",
       "        }    #T_c934e084_9f5b_11eb_941c_acde48001122row7_col1 {\n",
       "            : ;\n",
       "            text-align:  left;\n",
       "        }    #T_c934e084_9f5b_11eb_941c_acde48001122row7_col2 {\n",
       "            : ;\n",
       "            text-align:  left;\n",
       "        }    #T_c934e084_9f5b_11eb_941c_acde48001122row7_col3 {\n",
       "            : ;\n",
       "            text-align:  left;\n",
       "        }    #T_c934e084_9f5b_11eb_941c_acde48001122row7_col4 {\n",
       "            : ;\n",
       "            text-align:  left;\n",
       "        }    #T_c934e084_9f5b_11eb_941c_acde48001122row7_col5 {\n",
       "            : ;\n",
       "            text-align:  left;\n",
       "        }    #T_c934e084_9f5b_11eb_941c_acde48001122row7_col6 {\n",
       "            : ;\n",
       "            text-align:  left;\n",
       "        }    #T_c934e084_9f5b_11eb_941c_acde48001122row7_col7 {\n",
       "            background-color:  lightgrey;\n",
       "            text-align:  left;\n",
       "        }    #T_c934e084_9f5b_11eb_941c_acde48001122row8_col0 {\n",
       "            text-align:  left;\n",
       "        }    #T_c934e084_9f5b_11eb_941c_acde48001122row8_col1 {\n",
       "            : ;\n",
       "            text-align:  left;\n",
       "        }    #T_c934e084_9f5b_11eb_941c_acde48001122row8_col2 {\n",
       "            : ;\n",
       "            text-align:  left;\n",
       "        }    #T_c934e084_9f5b_11eb_941c_acde48001122row8_col3 {\n",
       "            : ;\n",
       "            text-align:  left;\n",
       "        }    #T_c934e084_9f5b_11eb_941c_acde48001122row8_col4 {\n",
       "            : ;\n",
       "            text-align:  left;\n",
       "        }    #T_c934e084_9f5b_11eb_941c_acde48001122row8_col5 {\n",
       "            : ;\n",
       "            text-align:  left;\n",
       "        }    #T_c934e084_9f5b_11eb_941c_acde48001122row8_col6 {\n",
       "            : ;\n",
       "            text-align:  left;\n",
       "        }    #T_c934e084_9f5b_11eb_941c_acde48001122row8_col7 {\n",
       "            background-color:  lightgrey;\n",
       "            text-align:  left;\n",
       "        }    #T_c934e084_9f5b_11eb_941c_acde48001122row9_col0 {\n",
       "            text-align:  left;\n",
       "        }    #T_c934e084_9f5b_11eb_941c_acde48001122row9_col1 {\n",
       "            : ;\n",
       "            text-align:  left;\n",
       "        }    #T_c934e084_9f5b_11eb_941c_acde48001122row9_col2 {\n",
       "            : ;\n",
       "            text-align:  left;\n",
       "        }    #T_c934e084_9f5b_11eb_941c_acde48001122row9_col3 {\n",
       "            : ;\n",
       "            text-align:  left;\n",
       "        }    #T_c934e084_9f5b_11eb_941c_acde48001122row9_col4 {\n",
       "            : ;\n",
       "            text-align:  left;\n",
       "        }    #T_c934e084_9f5b_11eb_941c_acde48001122row9_col5 {\n",
       "            : ;\n",
       "            text-align:  left;\n",
       "        }    #T_c934e084_9f5b_11eb_941c_acde48001122row9_col6 {\n",
       "            : ;\n",
       "            text-align:  left;\n",
       "        }    #T_c934e084_9f5b_11eb_941c_acde48001122row9_col7 {\n",
       "            background-color:  lightgrey;\n",
       "            text-align:  left;\n",
       "        }    #T_c934e084_9f5b_11eb_941c_acde48001122row10_col0 {\n",
       "            text-align:  left;\n",
       "        }    #T_c934e084_9f5b_11eb_941c_acde48001122row10_col1 {\n",
       "            : ;\n",
       "            text-align:  left;\n",
       "        }    #T_c934e084_9f5b_11eb_941c_acde48001122row10_col2 {\n",
       "            : ;\n",
       "            text-align:  left;\n",
       "        }    #T_c934e084_9f5b_11eb_941c_acde48001122row10_col3 {\n",
       "            : ;\n",
       "            text-align:  left;\n",
       "        }    #T_c934e084_9f5b_11eb_941c_acde48001122row10_col4 {\n",
       "            : ;\n",
       "            text-align:  left;\n",
       "        }    #T_c934e084_9f5b_11eb_941c_acde48001122row10_col5 {\n",
       "            : ;\n",
       "            text-align:  left;\n",
       "        }    #T_c934e084_9f5b_11eb_941c_acde48001122row10_col6 {\n",
       "            : ;\n",
       "            text-align:  left;\n",
       "        }    #T_c934e084_9f5b_11eb_941c_acde48001122row10_col7 {\n",
       "            background-color:  lightgrey;\n",
       "            text-align:  left;\n",
       "        }    #T_c934e084_9f5b_11eb_941c_acde48001122row11_col0 {\n",
       "            text-align:  left;\n",
       "        }    #T_c934e084_9f5b_11eb_941c_acde48001122row11_col1 {\n",
       "            : ;\n",
       "            text-align:  left;\n",
       "        }    #T_c934e084_9f5b_11eb_941c_acde48001122row11_col2 {\n",
       "            : ;\n",
       "            text-align:  left;\n",
       "        }    #T_c934e084_9f5b_11eb_941c_acde48001122row11_col3 {\n",
       "            : ;\n",
       "            text-align:  left;\n",
       "        }    #T_c934e084_9f5b_11eb_941c_acde48001122row11_col4 {\n",
       "            : ;\n",
       "            text-align:  left;\n",
       "        }    #T_c934e084_9f5b_11eb_941c_acde48001122row11_col5 {\n",
       "            : ;\n",
       "            text-align:  left;\n",
       "        }    #T_c934e084_9f5b_11eb_941c_acde48001122row11_col6 {\n",
       "            : ;\n",
       "            text-align:  left;\n",
       "        }    #T_c934e084_9f5b_11eb_941c_acde48001122row11_col7 {\n",
       "            background-color:  lightgrey;\n",
       "            text-align:  left;\n",
       "        }    #T_c934e084_9f5b_11eb_941c_acde48001122row12_col0 {\n",
       "            text-align:  left;\n",
       "        }    #T_c934e084_9f5b_11eb_941c_acde48001122row12_col1 {\n",
       "            : ;\n",
       "            text-align:  left;\n",
       "        }    #T_c934e084_9f5b_11eb_941c_acde48001122row12_col2 {\n",
       "            : ;\n",
       "            text-align:  left;\n",
       "        }    #T_c934e084_9f5b_11eb_941c_acde48001122row12_col3 {\n",
       "            : ;\n",
       "            text-align:  left;\n",
       "        }    #T_c934e084_9f5b_11eb_941c_acde48001122row12_col4 {\n",
       "            : ;\n",
       "            text-align:  left;\n",
       "        }    #T_c934e084_9f5b_11eb_941c_acde48001122row12_col5 {\n",
       "            : ;\n",
       "            text-align:  left;\n",
       "        }    #T_c934e084_9f5b_11eb_941c_acde48001122row12_col6 {\n",
       "            : ;\n",
       "            text-align:  left;\n",
       "        }    #T_c934e084_9f5b_11eb_941c_acde48001122row12_col7 {\n",
       "            background-color:  lightgrey;\n",
       "            text-align:  left;\n",
       "        }    #T_c934e084_9f5b_11eb_941c_acde48001122row13_col0 {\n",
       "            text-align:  left;\n",
       "        }    #T_c934e084_9f5b_11eb_941c_acde48001122row13_col1 {\n",
       "            : ;\n",
       "            text-align:  left;\n",
       "        }    #T_c934e084_9f5b_11eb_941c_acde48001122row13_col2 {\n",
       "            : ;\n",
       "            text-align:  left;\n",
       "        }    #T_c934e084_9f5b_11eb_941c_acde48001122row13_col3 {\n",
       "            : ;\n",
       "            text-align:  left;\n",
       "        }    #T_c934e084_9f5b_11eb_941c_acde48001122row13_col4 {\n",
       "            : ;\n",
       "            text-align:  left;\n",
       "        }    #T_c934e084_9f5b_11eb_941c_acde48001122row13_col5 {\n",
       "            : ;\n",
       "            text-align:  left;\n",
       "        }    #T_c934e084_9f5b_11eb_941c_acde48001122row13_col6 {\n",
       "            : ;\n",
       "            text-align:  left;\n",
       "        }    #T_c934e084_9f5b_11eb_941c_acde48001122row13_col7 {\n",
       "            background-color:  lightgrey;\n",
       "            text-align:  left;\n",
       "        }    #T_c934e084_9f5b_11eb_941c_acde48001122row14_col0 {\n",
       "            text-align:  left;\n",
       "        }    #T_c934e084_9f5b_11eb_941c_acde48001122row14_col1 {\n",
       "            : ;\n",
       "            text-align:  left;\n",
       "        }    #T_c934e084_9f5b_11eb_941c_acde48001122row14_col2 {\n",
       "            : ;\n",
       "            text-align:  left;\n",
       "        }    #T_c934e084_9f5b_11eb_941c_acde48001122row14_col3 {\n",
       "            : ;\n",
       "            text-align:  left;\n",
       "        }    #T_c934e084_9f5b_11eb_941c_acde48001122row14_col4 {\n",
       "            : ;\n",
       "            text-align:  left;\n",
       "        }    #T_c934e084_9f5b_11eb_941c_acde48001122row14_col5 {\n",
       "            : ;\n",
       "            text-align:  left;\n",
       "        }    #T_c934e084_9f5b_11eb_941c_acde48001122row14_col6 {\n",
       "            : ;\n",
       "            text-align:  left;\n",
       "        }    #T_c934e084_9f5b_11eb_941c_acde48001122row14_col7 {\n",
       "            background-color:  lightgrey;\n",
       "            text-align:  left;\n",
       "        }    #T_c934e084_9f5b_11eb_941c_acde48001122row15_col0 {\n",
       "            text-align:  left;\n",
       "        }    #T_c934e084_9f5b_11eb_941c_acde48001122row15_col1 {\n",
       "            : ;\n",
       "            text-align:  left;\n",
       "        }    #T_c934e084_9f5b_11eb_941c_acde48001122row15_col2 {\n",
       "            : ;\n",
       "            text-align:  left;\n",
       "        }    #T_c934e084_9f5b_11eb_941c_acde48001122row15_col3 {\n",
       "            : ;\n",
       "            text-align:  left;\n",
       "        }    #T_c934e084_9f5b_11eb_941c_acde48001122row15_col4 {\n",
       "            : ;\n",
       "            text-align:  left;\n",
       "        }    #T_c934e084_9f5b_11eb_941c_acde48001122row15_col5 {\n",
       "            : ;\n",
       "            text-align:  left;\n",
       "        }    #T_c934e084_9f5b_11eb_941c_acde48001122row15_col6 {\n",
       "            : ;\n",
       "            text-align:  left;\n",
       "        }    #T_c934e084_9f5b_11eb_941c_acde48001122row15_col7 {\n",
       "            background-color:  lightgrey;\n",
       "            text-align:  left;\n",
       "        }    #T_c934e084_9f5b_11eb_941c_acde48001122row16_col0 {\n",
       "            text-align:  left;\n",
       "        }    #T_c934e084_9f5b_11eb_941c_acde48001122row16_col1 {\n",
       "            : ;\n",
       "            text-align:  left;\n",
       "        }    #T_c934e084_9f5b_11eb_941c_acde48001122row16_col2 {\n",
       "            : ;\n",
       "            text-align:  left;\n",
       "        }    #T_c934e084_9f5b_11eb_941c_acde48001122row16_col3 {\n",
       "            : ;\n",
       "            text-align:  left;\n",
       "        }    #T_c934e084_9f5b_11eb_941c_acde48001122row16_col4 {\n",
       "            : ;\n",
       "            text-align:  left;\n",
       "        }    #T_c934e084_9f5b_11eb_941c_acde48001122row16_col5 {\n",
       "            : ;\n",
       "            text-align:  left;\n",
       "        }    #T_c934e084_9f5b_11eb_941c_acde48001122row16_col6 {\n",
       "            : ;\n",
       "            text-align:  left;\n",
       "        }    #T_c934e084_9f5b_11eb_941c_acde48001122row16_col7 {\n",
       "            background-color:  lightgrey;\n",
       "            text-align:  left;\n",
       "        }    #T_c934e084_9f5b_11eb_941c_acde48001122row17_col0 {\n",
       "            text-align:  left;\n",
       "        }    #T_c934e084_9f5b_11eb_941c_acde48001122row17_col1 {\n",
       "            : ;\n",
       "            text-align:  left;\n",
       "        }    #T_c934e084_9f5b_11eb_941c_acde48001122row17_col2 {\n",
       "            : ;\n",
       "            text-align:  left;\n",
       "        }    #T_c934e084_9f5b_11eb_941c_acde48001122row17_col3 {\n",
       "            : ;\n",
       "            text-align:  left;\n",
       "        }    #T_c934e084_9f5b_11eb_941c_acde48001122row17_col4 {\n",
       "            : ;\n",
       "            text-align:  left;\n",
       "        }    #T_c934e084_9f5b_11eb_941c_acde48001122row17_col5 {\n",
       "            : ;\n",
       "            text-align:  left;\n",
       "        }    #T_c934e084_9f5b_11eb_941c_acde48001122row17_col6 {\n",
       "            : ;\n",
       "            text-align:  left;\n",
       "        }    #T_c934e084_9f5b_11eb_941c_acde48001122row17_col7 {\n",
       "            background-color:  lightgrey;\n",
       "            text-align:  left;\n",
       "        }    #T_c934e084_9f5b_11eb_941c_acde48001122row18_col0 {\n",
       "            text-align:  left;\n",
       "        }    #T_c934e084_9f5b_11eb_941c_acde48001122row18_col1 {\n",
       "            : ;\n",
       "            text-align:  left;\n",
       "        }    #T_c934e084_9f5b_11eb_941c_acde48001122row18_col2 {\n",
       "            : ;\n",
       "            text-align:  left;\n",
       "        }    #T_c934e084_9f5b_11eb_941c_acde48001122row18_col3 {\n",
       "            : ;\n",
       "            text-align:  left;\n",
       "        }    #T_c934e084_9f5b_11eb_941c_acde48001122row18_col4 {\n",
       "            : ;\n",
       "            text-align:  left;\n",
       "        }    #T_c934e084_9f5b_11eb_941c_acde48001122row18_col5 {\n",
       "            : ;\n",
       "            text-align:  left;\n",
       "        }    #T_c934e084_9f5b_11eb_941c_acde48001122row18_col6 {\n",
       "            : ;\n",
       "            text-align:  left;\n",
       "        }    #T_c934e084_9f5b_11eb_941c_acde48001122row18_col7 {\n",
       "            background-color:  lightgrey;\n",
       "            text-align:  left;\n",
       "        }    #T_c934e084_9f5b_11eb_941c_acde48001122row19_col0 {\n",
       "            text-align:  left;\n",
       "        }    #T_c934e084_9f5b_11eb_941c_acde48001122row19_col1 {\n",
       "            : ;\n",
       "            text-align:  left;\n",
       "        }    #T_c934e084_9f5b_11eb_941c_acde48001122row19_col2 {\n",
       "            : ;\n",
       "            text-align:  left;\n",
       "        }    #T_c934e084_9f5b_11eb_941c_acde48001122row19_col3 {\n",
       "            : ;\n",
       "            text-align:  left;\n",
       "        }    #T_c934e084_9f5b_11eb_941c_acde48001122row19_col4 {\n",
       "            : ;\n",
       "            text-align:  left;\n",
       "        }    #T_c934e084_9f5b_11eb_941c_acde48001122row19_col5 {\n",
       "            : ;\n",
       "            text-align:  left;\n",
       "        }    #T_c934e084_9f5b_11eb_941c_acde48001122row19_col6 {\n",
       "            : ;\n",
       "            text-align:  left;\n",
       "        }    #T_c934e084_9f5b_11eb_941c_acde48001122row19_col7 {\n",
       "            background-color:  lightgrey;\n",
       "            text-align:  left;\n",
       "        }    #T_c934e084_9f5b_11eb_941c_acde48001122row20_col0 {\n",
       "            text-align:  left;\n",
       "        }    #T_c934e084_9f5b_11eb_941c_acde48001122row20_col1 {\n",
       "            : ;\n",
       "            text-align:  left;\n",
       "        }    #T_c934e084_9f5b_11eb_941c_acde48001122row20_col2 {\n",
       "            : ;\n",
       "            text-align:  left;\n",
       "        }    #T_c934e084_9f5b_11eb_941c_acde48001122row20_col3 {\n",
       "            : ;\n",
       "            text-align:  left;\n",
       "        }    #T_c934e084_9f5b_11eb_941c_acde48001122row20_col4 {\n",
       "            : ;\n",
       "            text-align:  left;\n",
       "        }    #T_c934e084_9f5b_11eb_941c_acde48001122row20_col5 {\n",
       "            : ;\n",
       "            text-align:  left;\n",
       "        }    #T_c934e084_9f5b_11eb_941c_acde48001122row20_col6 {\n",
       "            : ;\n",
       "            text-align:  left;\n",
       "        }    #T_c934e084_9f5b_11eb_941c_acde48001122row20_col7 {\n",
       "            background-color:  lightgrey;\n",
       "            text-align:  left;\n",
       "        }    #T_c934e084_9f5b_11eb_941c_acde48001122row21_col0 {\n",
       "            text-align:  left;\n",
       "        }    #T_c934e084_9f5b_11eb_941c_acde48001122row21_col1 {\n",
       "            : ;\n",
       "            text-align:  left;\n",
       "        }    #T_c934e084_9f5b_11eb_941c_acde48001122row21_col2 {\n",
       "            : ;\n",
       "            text-align:  left;\n",
       "        }    #T_c934e084_9f5b_11eb_941c_acde48001122row21_col3 {\n",
       "            : ;\n",
       "            text-align:  left;\n",
       "        }    #T_c934e084_9f5b_11eb_941c_acde48001122row21_col4 {\n",
       "            : ;\n",
       "            text-align:  left;\n",
       "        }    #T_c934e084_9f5b_11eb_941c_acde48001122row21_col5 {\n",
       "            : ;\n",
       "            text-align:  left;\n",
       "        }    #T_c934e084_9f5b_11eb_941c_acde48001122row21_col6 {\n",
       "            : ;\n",
       "            text-align:  left;\n",
       "        }    #T_c934e084_9f5b_11eb_941c_acde48001122row21_col7 {\n",
       "            background-color:  lightgrey;\n",
       "            text-align:  left;\n",
       "        }</style><table id=\"T_c934e084_9f5b_11eb_941c_acde48001122\" ><thead>    <tr>        <th class=\"blank level0\" ></th>        <th class=\"col_heading level0 col0\" >Model</th>        <th class=\"col_heading level0 col1\" >MAE</th>        <th class=\"col_heading level0 col2\" >MSE</th>        <th class=\"col_heading level0 col3\" >RMSE</th>        <th class=\"col_heading level0 col4\" >R2</th>        <th class=\"col_heading level0 col5\" >RMSLE</th>        <th class=\"col_heading level0 col6\" >MAPE</th>        <th class=\"col_heading level0 col7\" >TT (Sec)</th>    </tr></thead><tbody>\n",
       "                <tr>\n",
       "                        <th id=\"T_c934e084_9f5b_11eb_941c_acde48001122level0_row0\" class=\"row_heading level0 row0\" >0</th>\n",
       "                        <td id=\"T_c934e084_9f5b_11eb_941c_acde48001122row0_col0\" class=\"data row0 col0\" >CatBoost Regressor</td>\n",
       "                        <td id=\"T_c934e084_9f5b_11eb_941c_acde48001122row0_col1\" class=\"data row0 col1\" >15.57</td>\n",
       "                        <td id=\"T_c934e084_9f5b_11eb_941c_acde48001122row0_col2\" class=\"data row0 col2\" >1520</td>\n",
       "                        <td id=\"T_c934e084_9f5b_11eb_941c_acde48001122row0_col3\" class=\"data row0 col3\" >37.54</td>\n",
       "                        <td id=\"T_c934e084_9f5b_11eb_941c_acde48001122row0_col4\" class=\"data row0 col4\" >0.8169</td>\n",
       "                        <td id=\"T_c934e084_9f5b_11eb_941c_acde48001122row0_col5\" class=\"data row0 col5\" >0.4728</td>\n",
       "                        <td id=\"T_c934e084_9f5b_11eb_941c_acde48001122row0_col6\" class=\"data row0 col6\" >0.5259</td>\n",
       "                        <td id=\"T_c934e084_9f5b_11eb_941c_acde48001122row0_col7\" class=\"data row0 col7\" >2.087</td>\n",
       "            </tr>\n",
       "            <tr>\n",
       "                        <th id=\"T_c934e084_9f5b_11eb_941c_acde48001122level0_row1\" class=\"row_heading level0 row1\" >1</th>\n",
       "                        <td id=\"T_c934e084_9f5b_11eb_941c_acde48001122row1_col0\" class=\"data row1 col0\" >Extra Trees Regressor</td>\n",
       "                        <td id=\"T_c934e084_9f5b_11eb_941c_acde48001122row1_col1\" class=\"data row1 col1\" >17.22</td>\n",
       "                        <td id=\"T_c934e084_9f5b_11eb_941c_acde48001122row1_col2\" class=\"data row1 col2\" >1749</td>\n",
       "                        <td id=\"T_c934e084_9f5b_11eb_941c_acde48001122row1_col3\" class=\"data row1 col3\" >40.66</td>\n",
       "                        <td id=\"T_c934e084_9f5b_11eb_941c_acde48001122row1_col4\" class=\"data row1 col4\" >0.7768</td>\n",
       "                        <td id=\"T_c934e084_9f5b_11eb_941c_acde48001122row1_col5\" class=\"data row1 col5\" >0.5</td>\n",
       "                        <td id=\"T_c934e084_9f5b_11eb_941c_acde48001122row1_col6\" class=\"data row1 col6\" >0.6269</td>\n",
       "                        <td id=\"T_c934e084_9f5b_11eb_941c_acde48001122row1_col7\" class=\"data row1 col7\" >0.3813</td>\n",
       "            </tr>\n",
       "            <tr>\n",
       "                        <th id=\"T_c934e084_9f5b_11eb_941c_acde48001122level0_row2\" class=\"row_heading level0 row2\" >2</th>\n",
       "                        <td id=\"T_c934e084_9f5b_11eb_941c_acde48001122row2_col0\" class=\"data row2 col0\" >Gradient Boosting Regressor</td>\n",
       "                        <td id=\"T_c934e084_9f5b_11eb_941c_acde48001122row2_col1\" class=\"data row2 col1\" >17.09</td>\n",
       "                        <td id=\"T_c934e084_9f5b_11eb_941c_acde48001122row2_col2\" class=\"data row2 col2\" >1759</td>\n",
       "                        <td id=\"T_c934e084_9f5b_11eb_941c_acde48001122row2_col3\" class=\"data row2 col3\" >40.22</td>\n",
       "                        <td id=\"T_c934e084_9f5b_11eb_941c_acde48001122row2_col4\" class=\"data row2 col4\" >0.7672</td>\n",
       "                        <td id=\"T_c934e084_9f5b_11eb_941c_acde48001122row2_col5\" class=\"data row2 col5\" >0.5501</td>\n",
       "                        <td id=\"T_c934e084_9f5b_11eb_941c_acde48001122row2_col6\" class=\"data row2 col6\" >0.6471</td>\n",
       "                        <td id=\"T_c934e084_9f5b_11eb_941c_acde48001122row2_col7\" class=\"data row2 col7\" >0.5198</td>\n",
       "            </tr>\n",
       "            <tr>\n",
       "                        <th id=\"T_c934e084_9f5b_11eb_941c_acde48001122level0_row3\" class=\"row_heading level0 row3\" >3</th>\n",
       "                        <td id=\"T_c934e084_9f5b_11eb_941c_acde48001122row3_col0\" class=\"data row3 col0\" >Extreme Gradient Boosting</td>\n",
       "                        <td id=\"T_c934e084_9f5b_11eb_941c_acde48001122row3_col1\" class=\"data row3 col1\" >17.37</td>\n",
       "                        <td id=\"T_c934e084_9f5b_11eb_941c_acde48001122row3_col2\" class=\"data row3 col2\" >2027</td>\n",
       "                        <td id=\"T_c934e084_9f5b_11eb_941c_acde48001122row3_col3\" class=\"data row3 col3\" >43.16</td>\n",
       "                        <td id=\"T_c934e084_9f5b_11eb_941c_acde48001122row3_col4\" class=\"data row3 col4\" >0.7549</td>\n",
       "                        <td id=\"T_c934e084_9f5b_11eb_941c_acde48001122row3_col5\" class=\"data row3 col5\" >0.5008</td>\n",
       "                        <td id=\"T_c934e084_9f5b_11eb_941c_acde48001122row3_col6\" class=\"data row3 col6\" >0.5283</td>\n",
       "                        <td id=\"T_c934e084_9f5b_11eb_941c_acde48001122row3_col7\" class=\"data row3 col7\" >1.004</td>\n",
       "            </tr>\n",
       "            <tr>\n",
       "                        <th id=\"T_c934e084_9f5b_11eb_941c_acde48001122level0_row4\" class=\"row_heading level0 row4\" >4</th>\n",
       "                        <td id=\"T_c934e084_9f5b_11eb_941c_acde48001122row4_col0\" class=\"data row4 col0\" >Light Gradient Boosting Machine</td>\n",
       "                        <td id=\"T_c934e084_9f5b_11eb_941c_acde48001122row4_col1\" class=\"data row4 col1\" >17.83</td>\n",
       "                        <td id=\"T_c934e084_9f5b_11eb_941c_acde48001122row4_col2\" class=\"data row4 col2\" >2026</td>\n",
       "                        <td id=\"T_c934e084_9f5b_11eb_941c_acde48001122row4_col3\" class=\"data row4 col3\" >43.52</td>\n",
       "                        <td id=\"T_c934e084_9f5b_11eb_941c_acde48001122row4_col4\" class=\"data row4 col4\" >0.7546</td>\n",
       "                        <td id=\"T_c934e084_9f5b_11eb_941c_acde48001122row4_col5\" class=\"data row4 col5\" >0.4947</td>\n",
       "                        <td id=\"T_c934e084_9f5b_11eb_941c_acde48001122row4_col6\" class=\"data row4 col6\" >0.5609</td>\n",
       "                        <td id=\"T_c934e084_9f5b_11eb_941c_acde48001122row4_col7\" class=\"data row4 col7\" >0.1277</td>\n",
       "            </tr>\n",
       "            <tr>\n",
       "                        <th id=\"T_c934e084_9f5b_11eb_941c_acde48001122level0_row5\" class=\"row_heading level0 row5\" >5</th>\n",
       "                        <td id=\"T_c934e084_9f5b_11eb_941c_acde48001122row5_col0\" class=\"data row5 col0\" >Random Forest</td>\n",
       "                        <td id=\"T_c934e084_9f5b_11eb_941c_acde48001122row5_col1\" class=\"data row5 col1\" >17.48</td>\n",
       "                        <td id=\"T_c934e084_9f5b_11eb_941c_acde48001122row5_col2\" class=\"data row5 col2\" >1942</td>\n",
       "                        <td id=\"T_c934e084_9f5b_11eb_941c_acde48001122row5_col3\" class=\"data row5 col3\" >42.39</td>\n",
       "                        <td id=\"T_c934e084_9f5b_11eb_941c_acde48001122row5_col4\" class=\"data row5 col4\" >0.7545</td>\n",
       "                        <td id=\"T_c934e084_9f5b_11eb_941c_acde48001122row5_col5\" class=\"data row5 col5\" >0.5013</td>\n",
       "                        <td id=\"T_c934e084_9f5b_11eb_941c_acde48001122row5_col6\" class=\"data row5 col6\" >0.598</td>\n",
       "                        <td id=\"T_c934e084_9f5b_11eb_941c_acde48001122row5_col7\" class=\"data row5 col7\" >0.456</td>\n",
       "            </tr>\n",
       "            <tr>\n",
       "                        <th id=\"T_c934e084_9f5b_11eb_941c_acde48001122level0_row6\" class=\"row_heading level0 row6\" >6</th>\n",
       "                        <td id=\"T_c934e084_9f5b_11eb_941c_acde48001122row6_col0\" class=\"data row6 col0\" >Random Sample Consensus</td>\n",
       "                        <td id=\"T_c934e084_9f5b_11eb_941c_acde48001122row6_col1\" class=\"data row6 col1\" >19.94</td>\n",
       "                        <td id=\"T_c934e084_9f5b_11eb_941c_acde48001122row6_col2\" class=\"data row6 col2\" >2330</td>\n",
       "                        <td id=\"T_c934e084_9f5b_11eb_941c_acde48001122row6_col3\" class=\"data row6 col3\" >45.68</td>\n",
       "                        <td id=\"T_c934e084_9f5b_11eb_941c_acde48001122row6_col4\" class=\"data row6 col4\" >0.6853</td>\n",
       "                        <td id=\"T_c934e084_9f5b_11eb_941c_acde48001122row6_col5\" class=\"data row6 col5\" >0.6647</td>\n",
       "                        <td id=\"T_c934e084_9f5b_11eb_941c_acde48001122row6_col6\" class=\"data row6 col6\" >1.002</td>\n",
       "                        <td id=\"T_c934e084_9f5b_11eb_941c_acde48001122row6_col7\" class=\"data row6 col7\" >0.9014</td>\n",
       "            </tr>\n",
       "            <tr>\n",
       "                        <th id=\"T_c934e084_9f5b_11eb_941c_acde48001122level0_row7\" class=\"row_heading level0 row7\" >7</th>\n",
       "                        <td id=\"T_c934e084_9f5b_11eb_941c_acde48001122row7_col0\" class=\"data row7 col0\" >Huber Regressor</td>\n",
       "                        <td id=\"T_c934e084_9f5b_11eb_941c_acde48001122row7_col1\" class=\"data row7 col1\" >19.2</td>\n",
       "                        <td id=\"T_c934e084_9f5b_11eb_941c_acde48001122row7_col2\" class=\"data row7 col2\" >2346</td>\n",
       "                        <td id=\"T_c934e084_9f5b_11eb_941c_acde48001122row7_col3\" class=\"data row7 col3\" >45.59</td>\n",
       "                        <td id=\"T_c934e084_9f5b_11eb_941c_acde48001122row7_col4\" class=\"data row7 col4\" >0.6846</td>\n",
       "                        <td id=\"T_c934e084_9f5b_11eb_941c_acde48001122row7_col5\" class=\"data row7 col5\" >0.6144</td>\n",
       "                        <td id=\"T_c934e084_9f5b_11eb_941c_acde48001122row7_col6\" class=\"data row7 col6\" >0.7948</td>\n",
       "                        <td id=\"T_c934e084_9f5b_11eb_941c_acde48001122row7_col7\" class=\"data row7 col7\" >0.0931</td>\n",
       "            </tr>\n",
       "            <tr>\n",
       "                        <th id=\"T_c934e084_9f5b_11eb_941c_acde48001122level0_row8\" class=\"row_heading level0 row8\" >8</th>\n",
       "                        <td id=\"T_c934e084_9f5b_11eb_941c_acde48001122row8_col0\" class=\"data row8 col0\" >TheilSen Regressor</td>\n",
       "                        <td id=\"T_c934e084_9f5b_11eb_941c_acde48001122row8_col1\" class=\"data row8 col1\" >21.58</td>\n",
       "                        <td id=\"T_c934e084_9f5b_11eb_941c_acde48001122row8_col2\" class=\"data row8 col2\" >2395</td>\n",
       "                        <td id=\"T_c934e084_9f5b_11eb_941c_acde48001122row8_col3\" class=\"data row8 col3\" >45.54</td>\n",
       "                        <td id=\"T_c934e084_9f5b_11eb_941c_acde48001122row8_col4\" class=\"data row8 col4\" >0.6694</td>\n",
       "                        <td id=\"T_c934e084_9f5b_11eb_941c_acde48001122row8_col5\" class=\"data row8 col5\" >0.7868</td>\n",
       "                        <td id=\"T_c934e084_9f5b_11eb_941c_acde48001122row8_col6\" class=\"data row8 col6\" >1.581</td>\n",
       "                        <td id=\"T_c934e084_9f5b_11eb_941c_acde48001122row8_col7\" class=\"data row8 col7\" >11.72</td>\n",
       "            </tr>\n",
       "            <tr>\n",
       "                        <th id=\"T_c934e084_9f5b_11eb_941c_acde48001122level0_row9\" class=\"row_heading level0 row9\" >9</th>\n",
       "                        <td id=\"T_c934e084_9f5b_11eb_941c_acde48001122row9_col0\" class=\"data row9 col0\" >K Neighbors Regressor</td>\n",
       "                        <td id=\"T_c934e084_9f5b_11eb_941c_acde48001122row9_col1\" class=\"data row9 col1\" >21.72</td>\n",
       "                        <td id=\"T_c934e084_9f5b_11eb_941c_acde48001122row9_col2\" class=\"data row9 col2\" >2590</td>\n",
       "                        <td id=\"T_c934e084_9f5b_11eb_941c_acde48001122row9_col3\" class=\"data row9 col3\" >49.53</td>\n",
       "                        <td id=\"T_c934e084_9f5b_11eb_941c_acde48001122row9_col4\" class=\"data row9 col4\" >0.6653</td>\n",
       "                        <td id=\"T_c934e084_9f5b_11eb_941c_acde48001122row9_col5\" class=\"data row9 col5\" >0.5864</td>\n",
       "                        <td id=\"T_c934e084_9f5b_11eb_941c_acde48001122row9_col6\" class=\"data row9 col6\" >0.726</td>\n",
       "                        <td id=\"T_c934e084_9f5b_11eb_941c_acde48001122row9_col7\" class=\"data row9 col7\" >0.0096</td>\n",
       "            </tr>\n",
       "            <tr>\n",
       "                        <th id=\"T_c934e084_9f5b_11eb_941c_acde48001122level0_row10\" class=\"row_heading level0 row10\" >10</th>\n",
       "                        <td id=\"T_c934e084_9f5b_11eb_941c_acde48001122row10_col0\" class=\"data row10 col0\" >Bayesian Ridge</td>\n",
       "                        <td id=\"T_c934e084_9f5b_11eb_941c_acde48001122row10_col1\" class=\"data row10 col1\" >21.3</td>\n",
       "                        <td id=\"T_c934e084_9f5b_11eb_941c_acde48001122row10_col2\" class=\"data row10 col2\" >2527</td>\n",
       "                        <td id=\"T_c934e084_9f5b_11eb_941c_acde48001122row10_col3\" class=\"data row10 col3\" >47.29</td>\n",
       "                        <td id=\"T_c934e084_9f5b_11eb_941c_acde48001122row10_col4\" class=\"data row10 col4\" >0.6624</td>\n",
       "                        <td id=\"T_c934e084_9f5b_11eb_941c_acde48001122row10_col5\" class=\"data row10 col5\" >0.6855</td>\n",
       "                        <td id=\"T_c934e084_9f5b_11eb_941c_acde48001122row10_col6\" class=\"data row10 col6\" >1.087</td>\n",
       "                        <td id=\"T_c934e084_9f5b_11eb_941c_acde48001122row10_col7\" class=\"data row10 col7\" >0.026</td>\n",
       "            </tr>\n",
       "            <tr>\n",
       "                        <th id=\"T_c934e084_9f5b_11eb_941c_acde48001122level0_row11\" class=\"row_heading level0 row11\" >11</th>\n",
       "                        <td id=\"T_c934e084_9f5b_11eb_941c_acde48001122row11_col0\" class=\"data row11 col0\" >Elastic Net</td>\n",
       "                        <td id=\"T_c934e084_9f5b_11eb_941c_acde48001122row11_col1\" class=\"data row11 col1\" >21.32</td>\n",
       "                        <td id=\"T_c934e084_9f5b_11eb_941c_acde48001122row11_col2\" class=\"data row11 col2\" >2531</td>\n",
       "                        <td id=\"T_c934e084_9f5b_11eb_941c_acde48001122row11_col3\" class=\"data row11 col3\" >47.31</td>\n",
       "                        <td id=\"T_c934e084_9f5b_11eb_941c_acde48001122row11_col4\" class=\"data row11 col4\" >0.662</td>\n",
       "                        <td id=\"T_c934e084_9f5b_11eb_941c_acde48001122row11_col5\" class=\"data row11 col5\" >0.6894</td>\n",
       "                        <td id=\"T_c934e084_9f5b_11eb_941c_acde48001122row11_col6\" class=\"data row11 col6\" >1.1</td>\n",
       "                        <td id=\"T_c934e084_9f5b_11eb_941c_acde48001122row11_col7\" class=\"data row11 col7\" >0.0096</td>\n",
       "            </tr>\n",
       "            <tr>\n",
       "                        <th id=\"T_c934e084_9f5b_11eb_941c_acde48001122level0_row12\" class=\"row_heading level0 row12\" >12</th>\n",
       "                        <td id=\"T_c934e084_9f5b_11eb_941c_acde48001122row12_col0\" class=\"data row12 col0\" >Lasso Regression</td>\n",
       "                        <td id=\"T_c934e084_9f5b_11eb_941c_acde48001122row12_col1\" class=\"data row12 col1\" >21.37</td>\n",
       "                        <td id=\"T_c934e084_9f5b_11eb_941c_acde48001122row12_col2\" class=\"data row12 col2\" >2536</td>\n",
       "                        <td id=\"T_c934e084_9f5b_11eb_941c_acde48001122row12_col3\" class=\"data row12 col3\" >47.36</td>\n",
       "                        <td id=\"T_c934e084_9f5b_11eb_941c_acde48001122row12_col4\" class=\"data row12 col4\" >0.6612</td>\n",
       "                        <td id=\"T_c934e084_9f5b_11eb_941c_acde48001122row12_col5\" class=\"data row12 col5\" >0.687</td>\n",
       "                        <td id=\"T_c934e084_9f5b_11eb_941c_acde48001122row12_col6\" class=\"data row12 col6\" >1.101</td>\n",
       "                        <td id=\"T_c934e084_9f5b_11eb_941c_acde48001122row12_col7\" class=\"data row12 col7\" >0.0082</td>\n",
       "            </tr>\n",
       "            <tr>\n",
       "                        <th id=\"T_c934e084_9f5b_11eb_941c_acde48001122level0_row13\" class=\"row_heading level0 row13\" >13</th>\n",
       "                        <td id=\"T_c934e084_9f5b_11eb_941c_acde48001122row13_col0\" class=\"data row13 col0\" >Ridge Regression</td>\n",
       "                        <td id=\"T_c934e084_9f5b_11eb_941c_acde48001122row13_col1\" class=\"data row13 col1\" >22.25</td>\n",
       "                        <td id=\"T_c934e084_9f5b_11eb_941c_acde48001122row13_col2\" class=\"data row13 col2\" >2753</td>\n",
       "                        <td id=\"T_c934e084_9f5b_11eb_941c_acde48001122row13_col3\" class=\"data row13 col3\" >48.92</td>\n",
       "                        <td id=\"T_c934e084_9f5b_11eb_941c_acde48001122row13_col4\" class=\"data row13 col4\" >0.6341</td>\n",
       "                        <td id=\"T_c934e084_9f5b_11eb_941c_acde48001122row13_col5\" class=\"data row13 col5\" >0.7653</td>\n",
       "                        <td id=\"T_c934e084_9f5b_11eb_941c_acde48001122row13_col6\" class=\"data row13 col6\" >1.474</td>\n",
       "                        <td id=\"T_c934e084_9f5b_11eb_941c_acde48001122row13_col7\" class=\"data row13 col7\" >0.0056</td>\n",
       "            </tr>\n",
       "            <tr>\n",
       "                        <th id=\"T_c934e084_9f5b_11eb_941c_acde48001122level0_row14\" class=\"row_heading level0 row14\" >14</th>\n",
       "                        <td id=\"T_c934e084_9f5b_11eb_941c_acde48001122row14_col0\" class=\"data row14 col0\" >Linear Regression</td>\n",
       "                        <td id=\"T_c934e084_9f5b_11eb_941c_acde48001122row14_col1\" class=\"data row14 col1\" >22.49</td>\n",
       "                        <td id=\"T_c934e084_9f5b_11eb_941c_acde48001122row14_col2\" class=\"data row14 col2\" >2778</td>\n",
       "                        <td id=\"T_c934e084_9f5b_11eb_941c_acde48001122row14_col3\" class=\"data row14 col3\" >49.18</td>\n",
       "                        <td id=\"T_c934e084_9f5b_11eb_941c_acde48001122row14_col4\" class=\"data row14 col4\" >0.6309</td>\n",
       "                        <td id=\"T_c934e084_9f5b_11eb_941c_acde48001122row14_col5\" class=\"data row14 col5\" >0.7842</td>\n",
       "                        <td id=\"T_c934e084_9f5b_11eb_941c_acde48001122row14_col6\" class=\"data row14 col6\" >1.543</td>\n",
       "                        <td id=\"T_c934e084_9f5b_11eb_941c_acde48001122row14_col7\" class=\"data row14 col7\" >0.0167</td>\n",
       "            </tr>\n",
       "            <tr>\n",
       "                        <th id=\"T_c934e084_9f5b_11eb_941c_acde48001122level0_row15\" class=\"row_heading level0 row15\" >15</th>\n",
       "                        <td id=\"T_c934e084_9f5b_11eb_941c_acde48001122row15_col0\" class=\"data row15 col0\" >Orthogonal Matching Pursuit</td>\n",
       "                        <td id=\"T_c934e084_9f5b_11eb_941c_acde48001122row15_col1\" class=\"data row15 col1\" >22.43</td>\n",
       "                        <td id=\"T_c934e084_9f5b_11eb_941c_acde48001122row15_col2\" class=\"data row15 col2\" >2792</td>\n",
       "                        <td id=\"T_c934e084_9f5b_11eb_941c_acde48001122row15_col3\" class=\"data row15 col3\" >49.57</td>\n",
       "                        <td id=\"T_c934e084_9f5b_11eb_941c_acde48001122row15_col4\" class=\"data row15 col4\" >0.6275</td>\n",
       "                        <td id=\"T_c934e084_9f5b_11eb_941c_acde48001122row15_col5\" class=\"data row15 col5\" >0.7425</td>\n",
       "                        <td id=\"T_c934e084_9f5b_11eb_941c_acde48001122row15_col6\" class=\"data row15 col6\" >1.286</td>\n",
       "                        <td id=\"T_c934e084_9f5b_11eb_941c_acde48001122row15_col7\" class=\"data row15 col7\" >0.0056</td>\n",
       "            </tr>\n",
       "            <tr>\n",
       "                        <th id=\"T_c934e084_9f5b_11eb_941c_acde48001122level0_row16\" class=\"row_heading level0 row16\" >16</th>\n",
       "                        <td id=\"T_c934e084_9f5b_11eb_941c_acde48001122row16_col0\" class=\"data row16 col0\" >Decision Tree</td>\n",
       "                        <td id=\"T_c934e084_9f5b_11eb_941c_acde48001122row16_col1\" class=\"data row16 col1\" >23.04</td>\n",
       "                        <td id=\"T_c934e084_9f5b_11eb_941c_acde48001122row16_col2\" class=\"data row16 col2\" >3212</td>\n",
       "                        <td id=\"T_c934e084_9f5b_11eb_941c_acde48001122row16_col3\" class=\"data row16 col3\" >53.84</td>\n",
       "                        <td id=\"T_c934e084_9f5b_11eb_941c_acde48001122row16_col4\" class=\"data row16 col4\" >0.6069</td>\n",
       "                        <td id=\"T_c934e084_9f5b_11eb_941c_acde48001122row16_col5\" class=\"data row16 col5\" >0.6426</td>\n",
       "                        <td id=\"T_c934e084_9f5b_11eb_941c_acde48001122row16_col6\" class=\"data row16 col6\" >0.7354</td>\n",
       "                        <td id=\"T_c934e084_9f5b_11eb_941c_acde48001122row16_col7\" class=\"data row16 col7\" >0.032</td>\n",
       "            </tr>\n",
       "            <tr>\n",
       "                        <th id=\"T_c934e084_9f5b_11eb_941c_acde48001122level0_row17\" class=\"row_heading level0 row17\" >17</th>\n",
       "                        <td id=\"T_c934e084_9f5b_11eb_941c_acde48001122row17_col0\" class=\"data row17 col0\" >Lasso Least Angle Regression</td>\n",
       "                        <td id=\"T_c934e084_9f5b_11eb_941c_acde48001122row17_col1\" class=\"data row17 col1\" >34.77</td>\n",
       "                        <td id=\"T_c934e084_9f5b_11eb_941c_acde48001122row17_col2\" class=\"data row17 col2\" >4189</td>\n",
       "                        <td id=\"T_c934e084_9f5b_11eb_941c_acde48001122row17_col3\" class=\"data row17 col3\" >62.78</td>\n",
       "                        <td id=\"T_c934e084_9f5b_11eb_941c_acde48001122row17_col4\" class=\"data row17 col4\" >0.5008</td>\n",
       "                        <td id=\"T_c934e084_9f5b_11eb_941c_acde48001122row17_col5\" class=\"data row17 col5\" >1.138</td>\n",
       "                        <td id=\"T_c934e084_9f5b_11eb_941c_acde48001122row17_col6\" class=\"data row17 col6\" >2.896</td>\n",
       "                        <td id=\"T_c934e084_9f5b_11eb_941c_acde48001122row17_col7\" class=\"data row17 col7\" >0.0065</td>\n",
       "            </tr>\n",
       "            <tr>\n",
       "                        <th id=\"T_c934e084_9f5b_11eb_941c_acde48001122level0_row18\" class=\"row_heading level0 row18\" >18</th>\n",
       "                        <td id=\"T_c934e084_9f5b_11eb_941c_acde48001122row18_col0\" class=\"data row18 col0\" >Passive Aggressive Regressor</td>\n",
       "                        <td id=\"T_c934e084_9f5b_11eb_941c_acde48001122row18_col1\" class=\"data row18 col1\" >24</td>\n",
       "                        <td id=\"T_c934e084_9f5b_11eb_941c_acde48001122row18_col2\" class=\"data row18 col2\" >3649</td>\n",
       "                        <td id=\"T_c934e084_9f5b_11eb_941c_acde48001122row18_col3\" class=\"data row18 col3\" >55.76</td>\n",
       "                        <td id=\"T_c934e084_9f5b_11eb_941c_acde48001122row18_col4\" class=\"data row18 col4\" >0.4885</td>\n",
       "                        <td id=\"T_c934e084_9f5b_11eb_941c_acde48001122row18_col5\" class=\"data row18 col5\" >0.6583</td>\n",
       "                        <td id=\"T_c934e084_9f5b_11eb_941c_acde48001122row18_col6\" class=\"data row18 col6\" >0.7964</td>\n",
       "                        <td id=\"T_c934e084_9f5b_11eb_941c_acde48001122row18_col7\" class=\"data row18 col7\" >0.0128</td>\n",
       "            </tr>\n",
       "            <tr>\n",
       "                        <th id=\"T_c934e084_9f5b_11eb_941c_acde48001122level0_row19\" class=\"row_heading level0 row19\" >19</th>\n",
       "                        <td id=\"T_c934e084_9f5b_11eb_941c_acde48001122row19_col0\" class=\"data row19 col0\" >AdaBoost Regressor</td>\n",
       "                        <td id=\"T_c934e084_9f5b_11eb_941c_acde48001122row19_col1\" class=\"data row19 col1\" >49.3</td>\n",
       "                        <td id=\"T_c934e084_9f5b_11eb_941c_acde48001122row19_col2\" class=\"data row19 col2\" >4145</td>\n",
       "                        <td id=\"T_c934e084_9f5b_11eb_941c_acde48001122row19_col3\" class=\"data row19 col3\" >63.53</td>\n",
       "                        <td id=\"T_c934e084_9f5b_11eb_941c_acde48001122row19_col4\" class=\"data row19 col4\" >0.4463</td>\n",
       "                        <td id=\"T_c934e084_9f5b_11eb_941c_acde48001122row19_col5\" class=\"data row19 col5\" >1.462</td>\n",
       "                        <td id=\"T_c934e084_9f5b_11eb_941c_acde48001122row19_col6\" class=\"data row19 col6\" >5.147</td>\n",
       "                        <td id=\"T_c934e084_9f5b_11eb_941c_acde48001122row19_col7\" class=\"data row19 col7\" >0.2844</td>\n",
       "            </tr>\n",
       "            <tr>\n",
       "                        <th id=\"T_c934e084_9f5b_11eb_941c_acde48001122level0_row20\" class=\"row_heading level0 row20\" >20</th>\n",
       "                        <td id=\"T_c934e084_9f5b_11eb_941c_acde48001122row20_col0\" class=\"data row20 col0\" >Support Vector Machine</td>\n",
       "                        <td id=\"T_c934e084_9f5b_11eb_941c_acde48001122row20_col1\" class=\"data row20 col1\" >26.37</td>\n",
       "                        <td id=\"T_c934e084_9f5b_11eb_941c_acde48001122row20_col2\" class=\"data row20 col2\" >5164</td>\n",
       "                        <td id=\"T_c934e084_9f5b_11eb_941c_acde48001122row20_col3\" class=\"data row20 col3\" >68.73</td>\n",
       "                        <td id=\"T_c934e084_9f5b_11eb_941c_acde48001122row20_col4\" class=\"data row20 col4\" >0.418</td>\n",
       "                        <td id=\"T_c934e084_9f5b_11eb_941c_acde48001122row20_col5\" class=\"data row20 col5\" >0.6588</td>\n",
       "                        <td id=\"T_c934e084_9f5b_11eb_941c_acde48001122row20_col6\" class=\"data row20 col6\" >0.7933</td>\n",
       "                        <td id=\"T_c934e084_9f5b_11eb_941c_acde48001122row20_col7\" class=\"data row20 col7\" >0.4168</td>\n",
       "            </tr>\n",
       "            <tr>\n",
       "                        <th id=\"T_c934e084_9f5b_11eb_941c_acde48001122level0_row21\" class=\"row_heading level0 row21\" >21</th>\n",
       "                        <td id=\"T_c934e084_9f5b_11eb_941c_acde48001122row21_col0\" class=\"data row21 col0\" >Least Angle Regression</td>\n",
       "                        <td id=\"T_c934e084_9f5b_11eb_941c_acde48001122row21_col1\" class=\"data row21 col1\" >3.496e+19</td>\n",
       "                        <td id=\"T_c934e084_9f5b_11eb_941c_acde48001122row21_col2\" class=\"data row21 col2\" >2.127e+42</td>\n",
       "                        <td id=\"T_c934e084_9f5b_11eb_941c_acde48001122row21_col3\" class=\"data row21 col3\" >4.612e+20</td>\n",
       "                        <td id=\"T_c934e084_9f5b_11eb_941c_acde48001122row21_col4\" class=\"data row21 col4\" >-2.156e+38</td>\n",
       "                        <td id=\"T_c934e084_9f5b_11eb_941c_acde48001122row21_col5\" class=\"data row21 col5\" >27.83</td>\n",
       "                        <td id=\"T_c934e084_9f5b_11eb_941c_acde48001122row21_col6\" class=\"data row21 col6\" >1.748e+19</td>\n",
       "                        <td id=\"T_c934e084_9f5b_11eb_941c_acde48001122row21_col7\" class=\"data row21 col7\" >0.0418</td>\n",
       "            </tr>\n",
       "    </tbody></table>"
      ],
      "text/plain": [
       "<pandas.io.formats.style.Styler at 0x7f9785cbf090>"
      ]
     },
     "metadata": {},
     "output_type": "display_data"
    }
   ],
   "source": [
    "best=compare_models()"
   ]
  },
  {
   "cell_type": "markdown",
   "metadata": {},
   "source": [
    "### Based on Pycaret results, GBR gave the 3rd best MSE. RF, LR, Lasso and Ridge were also used for comparison."
   ]
  },
  {
   "cell_type": "markdown",
   "metadata": {},
   "source": [
    "# Linear Regression"
   ]
  },
  {
   "cell_type": "code",
   "execution_count": 1,
   "metadata": {},
   "outputs": [],
   "source": [
    "import pandas as pd\n",
    "import numpy as np\n",
    "import statsmodels.formula.api as smf\n",
    "from sklearn.model_selection import train_test_split\n",
    "from sklearn.metrics import mean_squared_error as MSE\n",
    "import matplotlib.pyplot as plt\n",
    "from sklearn.preprocessing import StandardScaler\n",
    "from sklearn.metrics import roc_auc_score\n",
    "from sklearn.metrics import roc_curve\n",
    "from sklearn import svm\n",
    "from sklearn.linear_model import LinearRegression\n",
    "from sklearn.preprocessing import PolynomialFeatures\n",
    "from sklearn.metrics import *\n",
    "import seaborn as sns\n",
    "import matplotlib.pyplot as plt\n",
    "import math\n",
    "from sklearn.linear_model import Lasso\n",
    "from sklearn.linear_model import Ridge\n",
    "from sklearn.model_selection import KFold\n",
    "from sklearn.feature_selection import SelectFromModel"
   ]
  },
  {
   "cell_type": "markdown",
   "metadata": {},
   "source": [
    "## Read data"
   ]
  },
  {
   "cell_type": "code",
   "execution_count": 2,
   "metadata": {
    "scrolled": false
   },
   "outputs": [
    {
     "data": {
      "text/html": [
       "<div>\n",
       "<style scoped>\n",
       "    .dataframe tbody tr th:only-of-type {\n",
       "        vertical-align: middle;\n",
       "    }\n",
       "\n",
       "    .dataframe tbody tr th {\n",
       "        vertical-align: top;\n",
       "    }\n",
       "\n",
       "    .dataframe thead th {\n",
       "        text-align: right;\n",
       "    }\n",
       "</style>\n",
       "<table border=\"1\" class=\"dataframe\">\n",
       "  <thead>\n",
       "    <tr style=\"text-align: right;\">\n",
       "      <th></th>\n",
       "      <th>productID</th>\n",
       "      <th>brandID</th>\n",
       "      <th>attribute1</th>\n",
       "      <th>attribute2</th>\n",
       "      <th>clickVolume</th>\n",
       "      <th>avgOriginalUnitPrice</th>\n",
       "      <th>avgFinalUnitPrice</th>\n",
       "      <th>ma14SalesVolume</th>\n",
       "      <th>weekday</th>\n",
       "      <th>meanAge</th>\n",
       "      <th>gender</th>\n",
       "      <th>meanEducation</th>\n",
       "      <th>maritalStatus</th>\n",
       "      <th>plus</th>\n",
       "      <th>meanPurchasePower</th>\n",
       "      <th>meanUserLevel</th>\n",
       "      <th>meanCityLevel</th>\n",
       "      <th>sales</th>\n",
       "    </tr>\n",
       "  </thead>\n",
       "  <tbody>\n",
       "    <tr>\n",
       "      <th>0</th>\n",
       "      <td>6</td>\n",
       "      <td>24</td>\n",
       "      <td>3.0</td>\n",
       "      <td>100.0</td>\n",
       "      <td>2418.0</td>\n",
       "      <td>278.97561</td>\n",
       "      <td>216.768293</td>\n",
       "      <td>56.928571</td>\n",
       "      <td>5</td>\n",
       "      <td>31.694915</td>\n",
       "      <td>0.338983</td>\n",
       "      <td>2.929825</td>\n",
       "      <td>0.431034</td>\n",
       "      <td>0.269841</td>\n",
       "      <td>2.120690</td>\n",
       "      <td>3.079365</td>\n",
       "      <td>1.943396</td>\n",
       "      <td>82</td>\n",
       "    </tr>\n",
       "    <tr>\n",
       "      <th>1</th>\n",
       "      <td>47</td>\n",
       "      <td>25</td>\n",
       "      <td>4.0</td>\n",
       "      <td>100.0</td>\n",
       "      <td>1723.0</td>\n",
       "      <td>79.90000</td>\n",
       "      <td>59.233333</td>\n",
       "      <td>49.285714</td>\n",
       "      <td>6</td>\n",
       "      <td>30.652174</td>\n",
       "      <td>0.217391</td>\n",
       "      <td>2.928571</td>\n",
       "      <td>0.604651</td>\n",
       "      <td>0.191489</td>\n",
       "      <td>2.302326</td>\n",
       "      <td>2.446809</td>\n",
       "      <td>2.093023</td>\n",
       "      <td>48</td>\n",
       "    </tr>\n",
       "    <tr>\n",
       "      <th>2</th>\n",
       "      <td>6</td>\n",
       "      <td>24</td>\n",
       "      <td>3.0</td>\n",
       "      <td>100.0</td>\n",
       "      <td>1666.0</td>\n",
       "      <td>298.00000</td>\n",
       "      <td>214.410714</td>\n",
       "      <td>48.857143</td>\n",
       "      <td>4</td>\n",
       "      <td>31.370370</td>\n",
       "      <td>0.148148</td>\n",
       "      <td>2.941176</td>\n",
       "      <td>0.519231</td>\n",
       "      <td>0.357143</td>\n",
       "      <td>2.153846</td>\n",
       "      <td>2.839286</td>\n",
       "      <td>2.104167</td>\n",
       "      <td>56</td>\n",
       "    </tr>\n",
       "    <tr>\n",
       "      <th>3</th>\n",
       "      <td>48</td>\n",
       "      <td>25</td>\n",
       "      <td>3.0</td>\n",
       "      <td>80.0</td>\n",
       "      <td>386.0</td>\n",
       "      <td>69.90000</td>\n",
       "      <td>40.664706</td>\n",
       "      <td>19.714286</td>\n",
       "      <td>4</td>\n",
       "      <td>32.222222</td>\n",
       "      <td>0.333333</td>\n",
       "      <td>3.111111</td>\n",
       "      <td>0.333333</td>\n",
       "      <td>0.272727</td>\n",
       "      <td>2.444444</td>\n",
       "      <td>2.700000</td>\n",
       "      <td>2.888889</td>\n",
       "      <td>17</td>\n",
       "    </tr>\n",
       "    <tr>\n",
       "      <th>4</th>\n",
       "      <td>47</td>\n",
       "      <td>25</td>\n",
       "      <td>4.0</td>\n",
       "      <td>100.0</td>\n",
       "      <td>1419.0</td>\n",
       "      <td>79.90000</td>\n",
       "      <td>58.703279</td>\n",
       "      <td>66.214286</td>\n",
       "      <td>4</td>\n",
       "      <td>31.020408</td>\n",
       "      <td>0.183673</td>\n",
       "      <td>2.978723</td>\n",
       "      <td>0.425532</td>\n",
       "      <td>0.218182</td>\n",
       "      <td>2.468085</td>\n",
       "      <td>2.490909</td>\n",
       "      <td>2.042553</td>\n",
       "      <td>61</td>\n",
       "    </tr>\n",
       "  </tbody>\n",
       "</table>\n",
       "</div>"
      ],
      "text/plain": [
       "   productID  brandID  attribute1  attribute2  clickVolume  \\\n",
       "0          6       24         3.0       100.0       2418.0   \n",
       "1         47       25         4.0       100.0       1723.0   \n",
       "2          6       24         3.0       100.0       1666.0   \n",
       "3         48       25         3.0        80.0        386.0   \n",
       "4         47       25         4.0       100.0       1419.0   \n",
       "\n",
       "   avgOriginalUnitPrice  avgFinalUnitPrice  ma14SalesVolume  weekday  \\\n",
       "0             278.97561         216.768293        56.928571        5   \n",
       "1              79.90000          59.233333        49.285714        6   \n",
       "2             298.00000         214.410714        48.857143        4   \n",
       "3              69.90000          40.664706        19.714286        4   \n",
       "4              79.90000          58.703279        66.214286        4   \n",
       "\n",
       "     meanAge    gender  meanEducation  maritalStatus      plus  \\\n",
       "0  31.694915  0.338983       2.929825       0.431034  0.269841   \n",
       "1  30.652174  0.217391       2.928571       0.604651  0.191489   \n",
       "2  31.370370  0.148148       2.941176       0.519231  0.357143   \n",
       "3  32.222222  0.333333       3.111111       0.333333  0.272727   \n",
       "4  31.020408  0.183673       2.978723       0.425532  0.218182   \n",
       "\n",
       "   meanPurchasePower  meanUserLevel  meanCityLevel  sales  \n",
       "0           2.120690       3.079365       1.943396     82  \n",
       "1           2.302326       2.446809       2.093023     48  \n",
       "2           2.153846       2.839286       2.104167     56  \n",
       "3           2.444444       2.700000       2.888889     17  \n",
       "4           2.468085       2.490909       2.042553     61  "
      ]
     },
     "execution_count": 2,
     "metadata": {},
     "output_type": "execute_result"
    }
   ],
   "source": [
    "data=pd.read_csv('Data-train.csv',index_col=0)\n",
    "data.head()"
   ]
  },
  {
   "cell_type": "code",
   "execution_count": 3,
   "metadata": {},
   "outputs": [],
   "source": [
    "data['discount']=1-(data['avgOriginalUnitPrice']-data['avgFinalUnitPrice'])/data['avgOriginalUnitPrice']\n",
    "data = data.drop(columns=['avgFinalUnitPrice','avgOriginalUnitPrice'])"
   ]
  },
  {
   "cell_type": "code",
   "execution_count": 4,
   "metadata": {},
   "outputs": [
    {
     "data": {
      "text/html": [
       "<div>\n",
       "<style scoped>\n",
       "    .dataframe tbody tr th:only-of-type {\n",
       "        vertical-align: middle;\n",
       "    }\n",
       "\n",
       "    .dataframe tbody tr th {\n",
       "        vertical-align: top;\n",
       "    }\n",
       "\n",
       "    .dataframe thead th {\n",
       "        text-align: right;\n",
       "    }\n",
       "</style>\n",
       "<table border=\"1\" class=\"dataframe\">\n",
       "  <thead>\n",
       "    <tr style=\"text-align: right;\">\n",
       "      <th></th>\n",
       "      <th>productID</th>\n",
       "      <th>brandID</th>\n",
       "      <th>attribute1</th>\n",
       "      <th>attribute2</th>\n",
       "      <th>clickVolume</th>\n",
       "      <th>ma14SalesVolume</th>\n",
       "      <th>weekday</th>\n",
       "      <th>meanAge</th>\n",
       "      <th>gender</th>\n",
       "      <th>meanEducation</th>\n",
       "      <th>maritalStatus</th>\n",
       "      <th>plus</th>\n",
       "      <th>meanPurchasePower</th>\n",
       "      <th>meanUserLevel</th>\n",
       "      <th>meanCityLevel</th>\n",
       "      <th>sales</th>\n",
       "      <th>discount</th>\n",
       "      <th>sales14click</th>\n",
       "    </tr>\n",
       "  </thead>\n",
       "  <tbody>\n",
       "    <tr>\n",
       "      <th>0</th>\n",
       "      <td>6</td>\n",
       "      <td>24</td>\n",
       "      <td>3.0</td>\n",
       "      <td>100.0</td>\n",
       "      <td>2418.0</td>\n",
       "      <td>56.928571</td>\n",
       "      <td>False</td>\n",
       "      <td>31.694915</td>\n",
       "      <td>0.338983</td>\n",
       "      <td>2.929825</td>\n",
       "      <td>0.431034</td>\n",
       "      <td>0.269841</td>\n",
       "      <td>2.120690</td>\n",
       "      <td>3.079365</td>\n",
       "      <td>1.943396</td>\n",
       "      <td>82</td>\n",
       "      <td>0.777015</td>\n",
       "      <td>137653.285714</td>\n",
       "    </tr>\n",
       "    <tr>\n",
       "      <th>1</th>\n",
       "      <td>47</td>\n",
       "      <td>25</td>\n",
       "      <td>4.0</td>\n",
       "      <td>100.0</td>\n",
       "      <td>1723.0</td>\n",
       "      <td>49.285714</td>\n",
       "      <td>False</td>\n",
       "      <td>30.652174</td>\n",
       "      <td>0.217391</td>\n",
       "      <td>2.928571</td>\n",
       "      <td>0.604651</td>\n",
       "      <td>0.191489</td>\n",
       "      <td>2.302326</td>\n",
       "      <td>2.446809</td>\n",
       "      <td>2.093023</td>\n",
       "      <td>48</td>\n",
       "      <td>0.741343</td>\n",
       "      <td>84919.285714</td>\n",
       "    </tr>\n",
       "    <tr>\n",
       "      <th>2</th>\n",
       "      <td>6</td>\n",
       "      <td>24</td>\n",
       "      <td>3.0</td>\n",
       "      <td>100.0</td>\n",
       "      <td>1666.0</td>\n",
       "      <td>48.857143</td>\n",
       "      <td>True</td>\n",
       "      <td>31.370370</td>\n",
       "      <td>0.148148</td>\n",
       "      <td>2.941176</td>\n",
       "      <td>0.519231</td>\n",
       "      <td>0.357143</td>\n",
       "      <td>2.153846</td>\n",
       "      <td>2.839286</td>\n",
       "      <td>2.104167</td>\n",
       "      <td>56</td>\n",
       "      <td>0.719499</td>\n",
       "      <td>81396.000000</td>\n",
       "    </tr>\n",
       "    <tr>\n",
       "      <th>3</th>\n",
       "      <td>48</td>\n",
       "      <td>25</td>\n",
       "      <td>3.0</td>\n",
       "      <td>80.0</td>\n",
       "      <td>386.0</td>\n",
       "      <td>19.714286</td>\n",
       "      <td>True</td>\n",
       "      <td>32.222222</td>\n",
       "      <td>0.333333</td>\n",
       "      <td>3.111111</td>\n",
       "      <td>0.333333</td>\n",
       "      <td>0.272727</td>\n",
       "      <td>2.444444</td>\n",
       "      <td>2.700000</td>\n",
       "      <td>2.888889</td>\n",
       "      <td>17</td>\n",
       "      <td>0.581755</td>\n",
       "      <td>7609.714286</td>\n",
       "    </tr>\n",
       "    <tr>\n",
       "      <th>4</th>\n",
       "      <td>47</td>\n",
       "      <td>25</td>\n",
       "      <td>4.0</td>\n",
       "      <td>100.0</td>\n",
       "      <td>1419.0</td>\n",
       "      <td>66.214286</td>\n",
       "      <td>True</td>\n",
       "      <td>31.020408</td>\n",
       "      <td>0.183673</td>\n",
       "      <td>2.978723</td>\n",
       "      <td>0.425532</td>\n",
       "      <td>0.218182</td>\n",
       "      <td>2.468085</td>\n",
       "      <td>2.490909</td>\n",
       "      <td>2.042553</td>\n",
       "      <td>61</td>\n",
       "      <td>0.734709</td>\n",
       "      <td>93958.071429</td>\n",
       "    </tr>\n",
       "  </tbody>\n",
       "</table>\n",
       "</div>"
      ],
      "text/plain": [
       "  productID  brandID attribute1 attribute2  clickVolume  ma14SalesVolume  \\\n",
       "0         6       24        3.0      100.0       2418.0        56.928571   \n",
       "1        47       25        4.0      100.0       1723.0        49.285714   \n",
       "2         6       24        3.0      100.0       1666.0        48.857143   \n",
       "3        48       25        3.0       80.0        386.0        19.714286   \n",
       "4        47       25        4.0      100.0       1419.0        66.214286   \n",
       "\n",
       "  weekday    meanAge    gender  meanEducation  maritalStatus      plus  \\\n",
       "0   False  31.694915  0.338983       2.929825       0.431034  0.269841   \n",
       "1   False  30.652174  0.217391       2.928571       0.604651  0.191489   \n",
       "2    True  31.370370  0.148148       2.941176       0.519231  0.357143   \n",
       "3    True  32.222222  0.333333       3.111111       0.333333  0.272727   \n",
       "4    True  31.020408  0.183673       2.978723       0.425532  0.218182   \n",
       "\n",
       "   meanPurchasePower  meanUserLevel  meanCityLevel  sales  discount  \\\n",
       "0           2.120690       3.079365       1.943396     82  0.777015   \n",
       "1           2.302326       2.446809       2.093023     48  0.741343   \n",
       "2           2.153846       2.839286       2.104167     56  0.719499   \n",
       "3           2.444444       2.700000       2.888889     17  0.581755   \n",
       "4           2.468085       2.490909       2.042553     61  0.734709   \n",
       "\n",
       "    sales14click  \n",
       "0  137653.285714  \n",
       "1   84919.285714  \n",
       "2   81396.000000  \n",
       "3    7609.714286  \n",
       "4   93958.071429  "
      ]
     },
     "execution_count": 4,
     "metadata": {},
     "output_type": "execute_result"
    }
   ],
   "source": [
    "data.productID = data.productID.astype('category')\n",
    "data.attribute1 = data.attribute1.astype('category')\n",
    "data.attribute2 = data.attribute2.astype('category')\n",
    "data['weekday'] = data.apply(lambda x: data['weekday']<5)\n",
    "data.weekday = data.weekday.astype('category')\n",
    "data['sales14click']=data['clickVolume']*data['ma14SalesVolume']\n",
    "data.head()"
   ]
  },
  {
   "cell_type": "code",
   "execution_count": 5,
   "metadata": {
    "scrolled": false
   },
   "outputs": [
    {
     "data": {
      "text/html": [
       "<div>\n",
       "<style scoped>\n",
       "    .dataframe tbody tr th:only-of-type {\n",
       "        vertical-align: middle;\n",
       "    }\n",
       "\n",
       "    .dataframe tbody tr th {\n",
       "        vertical-align: top;\n",
       "    }\n",
       "\n",
       "    .dataframe thead th {\n",
       "        text-align: right;\n",
       "    }\n",
       "</style>\n",
       "<table border=\"1\" class=\"dataframe\">\n",
       "  <thead>\n",
       "    <tr style=\"text-align: right;\">\n",
       "      <th></th>\n",
       "      <th>brandID</th>\n",
       "      <th>clickVolume</th>\n",
       "      <th>ma14SalesVolume</th>\n",
       "      <th>meanAge</th>\n",
       "      <th>gender</th>\n",
       "      <th>meanEducation</th>\n",
       "      <th>maritalStatus</th>\n",
       "      <th>plus</th>\n",
       "      <th>meanPurchasePower</th>\n",
       "      <th>meanUserLevel</th>\n",
       "      <th>meanCityLevel</th>\n",
       "      <th>sales</th>\n",
       "      <th>discount</th>\n",
       "      <th>sales14click</th>\n",
       "    </tr>\n",
       "  </thead>\n",
       "  <tbody>\n",
       "    <tr>\n",
       "      <th>brandID</th>\n",
       "      <td>1.000000</td>\n",
       "      <td>0.029776</td>\n",
       "      <td>0.014146</td>\n",
       "      <td>-0.096038</td>\n",
       "      <td>0.039874</td>\n",
       "      <td>0.067072</td>\n",
       "      <td>-0.078445</td>\n",
       "      <td>0.069359</td>\n",
       "      <td>-0.039329</td>\n",
       "      <td>0.117087</td>\n",
       "      <td>-0.062888</td>\n",
       "      <td>0.005926</td>\n",
       "      <td>-0.262764</td>\n",
       "      <td>0.052846</td>\n",
       "    </tr>\n",
       "    <tr>\n",
       "      <th>clickVolume</th>\n",
       "      <td>0.029776</td>\n",
       "      <td>1.000000</td>\n",
       "      <td>0.723921</td>\n",
       "      <td>-0.054060</td>\n",
       "      <td>-0.005997</td>\n",
       "      <td>-0.062936</td>\n",
       "      <td>-0.023115</td>\n",
       "      <td>0.006499</td>\n",
       "      <td>0.012437</td>\n",
       "      <td>-0.041505</td>\n",
       "      <td>0.027674</td>\n",
       "      <td>0.809854</td>\n",
       "      <td>-0.096653</td>\n",
       "      <td>0.812937</td>\n",
       "    </tr>\n",
       "    <tr>\n",
       "      <th>ma14SalesVolume</th>\n",
       "      <td>0.014146</td>\n",
       "      <td>0.723921</td>\n",
       "      <td>1.000000</td>\n",
       "      <td>-0.058149</td>\n",
       "      <td>-0.000779</td>\n",
       "      <td>-0.050351</td>\n",
       "      <td>-0.042011</td>\n",
       "      <td>-0.008243</td>\n",
       "      <td>0.005106</td>\n",
       "      <td>-0.056549</td>\n",
       "      <td>0.006853</td>\n",
       "      <td>0.691496</td>\n",
       "      <td>-0.074537</td>\n",
       "      <td>0.789413</td>\n",
       "    </tr>\n",
       "    <tr>\n",
       "      <th>meanAge</th>\n",
       "      <td>-0.096038</td>\n",
       "      <td>-0.054060</td>\n",
       "      <td>-0.058149</td>\n",
       "      <td>1.000000</td>\n",
       "      <td>0.054092</td>\n",
       "      <td>0.065548</td>\n",
       "      <td>0.462438</td>\n",
       "      <td>0.040562</td>\n",
       "      <td>-0.068855</td>\n",
       "      <td>0.077794</td>\n",
       "      <td>-0.075656</td>\n",
       "      <td>-0.051563</td>\n",
       "      <td>0.099710</td>\n",
       "      <td>-0.046584</td>\n",
       "    </tr>\n",
       "    <tr>\n",
       "      <th>gender</th>\n",
       "      <td>0.039874</td>\n",
       "      <td>-0.005997</td>\n",
       "      <td>-0.000779</td>\n",
       "      <td>0.054092</td>\n",
       "      <td>1.000000</td>\n",
       "      <td>-0.035080</td>\n",
       "      <td>-0.049387</td>\n",
       "      <td>0.119951</td>\n",
       "      <td>-0.027012</td>\n",
       "      <td>0.078634</td>\n",
       "      <td>0.032138</td>\n",
       "      <td>-0.008977</td>\n",
       "      <td>0.064886</td>\n",
       "      <td>0.000517</td>\n",
       "    </tr>\n",
       "    <tr>\n",
       "      <th>meanEducation</th>\n",
       "      <td>0.067072</td>\n",
       "      <td>-0.062936</td>\n",
       "      <td>-0.050351</td>\n",
       "      <td>0.065548</td>\n",
       "      <td>-0.035080</td>\n",
       "      <td>1.000000</td>\n",
       "      <td>0.270954</td>\n",
       "      <td>0.429008</td>\n",
       "      <td>-0.239046</td>\n",
       "      <td>0.425385</td>\n",
       "      <td>-0.335881</td>\n",
       "      <td>-0.027492</td>\n",
       "      <td>-0.128537</td>\n",
       "      <td>-0.017871</td>\n",
       "    </tr>\n",
       "    <tr>\n",
       "      <th>maritalStatus</th>\n",
       "      <td>-0.078445</td>\n",
       "      <td>-0.023115</td>\n",
       "      <td>-0.042011</td>\n",
       "      <td>0.462438</td>\n",
       "      <td>-0.049387</td>\n",
       "      <td>0.270954</td>\n",
       "      <td>1.000000</td>\n",
       "      <td>0.199591</td>\n",
       "      <td>-0.137708</td>\n",
       "      <td>0.197312</td>\n",
       "      <td>-0.086755</td>\n",
       "      <td>-0.017169</td>\n",
       "      <td>-0.000277</td>\n",
       "      <td>-0.035643</td>\n",
       "    </tr>\n",
       "    <tr>\n",
       "      <th>plus</th>\n",
       "      <td>0.069359</td>\n",
       "      <td>0.006499</td>\n",
       "      <td>-0.008243</td>\n",
       "      <td>0.040562</td>\n",
       "      <td>0.119951</td>\n",
       "      <td>0.429008</td>\n",
       "      <td>0.199591</td>\n",
       "      <td>1.000000</td>\n",
       "      <td>-0.287577</td>\n",
       "      <td>0.245385</td>\n",
       "      <td>-0.205512</td>\n",
       "      <td>0.002568</td>\n",
       "      <td>-0.149352</td>\n",
       "      <td>0.012854</td>\n",
       "    </tr>\n",
       "    <tr>\n",
       "      <th>meanPurchasePower</th>\n",
       "      <td>-0.039329</td>\n",
       "      <td>0.012437</td>\n",
       "      <td>0.005106</td>\n",
       "      <td>-0.068855</td>\n",
       "      <td>-0.027012</td>\n",
       "      <td>-0.239046</td>\n",
       "      <td>-0.137708</td>\n",
       "      <td>-0.287577</td>\n",
       "      <td>1.000000</td>\n",
       "      <td>-0.238552</td>\n",
       "      <td>0.124670</td>\n",
       "      <td>0.032877</td>\n",
       "      <td>-0.023385</td>\n",
       "      <td>-0.012496</td>\n",
       "    </tr>\n",
       "    <tr>\n",
       "      <th>meanUserLevel</th>\n",
       "      <td>0.117087</td>\n",
       "      <td>-0.041505</td>\n",
       "      <td>-0.056549</td>\n",
       "      <td>0.077794</td>\n",
       "      <td>0.078634</td>\n",
       "      <td>0.425385</td>\n",
       "      <td>0.197312</td>\n",
       "      <td>0.245385</td>\n",
       "      <td>-0.238552</td>\n",
       "      <td>1.000000</td>\n",
       "      <td>-0.217448</td>\n",
       "      <td>-0.047555</td>\n",
       "      <td>0.049777</td>\n",
       "      <td>-0.027900</td>\n",
       "    </tr>\n",
       "    <tr>\n",
       "      <th>meanCityLevel</th>\n",
       "      <td>-0.062888</td>\n",
       "      <td>0.027674</td>\n",
       "      <td>0.006853</td>\n",
       "      <td>-0.075656</td>\n",
       "      <td>0.032138</td>\n",
       "      <td>-0.335881</td>\n",
       "      <td>-0.086755</td>\n",
       "      <td>-0.205512</td>\n",
       "      <td>0.124670</td>\n",
       "      <td>-0.217448</td>\n",
       "      <td>1.000000</td>\n",
       "      <td>0.015022</td>\n",
       "      <td>-0.001413</td>\n",
       "      <td>-0.004462</td>\n",
       "    </tr>\n",
       "    <tr>\n",
       "      <th>sales</th>\n",
       "      <td>0.005926</td>\n",
       "      <td>0.809854</td>\n",
       "      <td>0.691496</td>\n",
       "      <td>-0.051563</td>\n",
       "      <td>-0.008977</td>\n",
       "      <td>-0.027492</td>\n",
       "      <td>-0.017169</td>\n",
       "      <td>0.002568</td>\n",
       "      <td>0.032877</td>\n",
       "      <td>-0.047555</td>\n",
       "      <td>0.015022</td>\n",
       "      <td>1.000000</td>\n",
       "      <td>-0.175250</td>\n",
       "      <td>0.724681</td>\n",
       "    </tr>\n",
       "    <tr>\n",
       "      <th>discount</th>\n",
       "      <td>-0.262764</td>\n",
       "      <td>-0.096653</td>\n",
       "      <td>-0.074537</td>\n",
       "      <td>0.099710</td>\n",
       "      <td>0.064886</td>\n",
       "      <td>-0.128537</td>\n",
       "      <td>-0.000277</td>\n",
       "      <td>-0.149352</td>\n",
       "      <td>-0.023385</td>\n",
       "      <td>0.049777</td>\n",
       "      <td>-0.001413</td>\n",
       "      <td>-0.175250</td>\n",
       "      <td>1.000000</td>\n",
       "      <td>-0.031167</td>\n",
       "    </tr>\n",
       "    <tr>\n",
       "      <th>sales14click</th>\n",
       "      <td>0.052846</td>\n",
       "      <td>0.812937</td>\n",
       "      <td>0.789413</td>\n",
       "      <td>-0.046584</td>\n",
       "      <td>0.000517</td>\n",
       "      <td>-0.017871</td>\n",
       "      <td>-0.035643</td>\n",
       "      <td>0.012854</td>\n",
       "      <td>-0.012496</td>\n",
       "      <td>-0.027900</td>\n",
       "      <td>-0.004462</td>\n",
       "      <td>0.724681</td>\n",
       "      <td>-0.031167</td>\n",
       "      <td>1.000000</td>\n",
       "    </tr>\n",
       "  </tbody>\n",
       "</table>\n",
       "</div>"
      ],
      "text/plain": [
       "                    brandID  clickVolume  ma14SalesVolume   meanAge    gender  \\\n",
       "brandID            1.000000     0.029776         0.014146 -0.096038  0.039874   \n",
       "clickVolume        0.029776     1.000000         0.723921 -0.054060 -0.005997   \n",
       "ma14SalesVolume    0.014146     0.723921         1.000000 -0.058149 -0.000779   \n",
       "meanAge           -0.096038    -0.054060        -0.058149  1.000000  0.054092   \n",
       "gender             0.039874    -0.005997        -0.000779  0.054092  1.000000   \n",
       "meanEducation      0.067072    -0.062936        -0.050351  0.065548 -0.035080   \n",
       "maritalStatus     -0.078445    -0.023115        -0.042011  0.462438 -0.049387   \n",
       "plus               0.069359     0.006499        -0.008243  0.040562  0.119951   \n",
       "meanPurchasePower -0.039329     0.012437         0.005106 -0.068855 -0.027012   \n",
       "meanUserLevel      0.117087    -0.041505        -0.056549  0.077794  0.078634   \n",
       "meanCityLevel     -0.062888     0.027674         0.006853 -0.075656  0.032138   \n",
       "sales              0.005926     0.809854         0.691496 -0.051563 -0.008977   \n",
       "discount          -0.262764    -0.096653        -0.074537  0.099710  0.064886   \n",
       "sales14click       0.052846     0.812937         0.789413 -0.046584  0.000517   \n",
       "\n",
       "                   meanEducation  maritalStatus      plus  meanPurchasePower  \\\n",
       "brandID                 0.067072      -0.078445  0.069359          -0.039329   \n",
       "clickVolume            -0.062936      -0.023115  0.006499           0.012437   \n",
       "ma14SalesVolume        -0.050351      -0.042011 -0.008243           0.005106   \n",
       "meanAge                 0.065548       0.462438  0.040562          -0.068855   \n",
       "gender                 -0.035080      -0.049387  0.119951          -0.027012   \n",
       "meanEducation           1.000000       0.270954  0.429008          -0.239046   \n",
       "maritalStatus           0.270954       1.000000  0.199591          -0.137708   \n",
       "plus                    0.429008       0.199591  1.000000          -0.287577   \n",
       "meanPurchasePower      -0.239046      -0.137708 -0.287577           1.000000   \n",
       "meanUserLevel           0.425385       0.197312  0.245385          -0.238552   \n",
       "meanCityLevel          -0.335881      -0.086755 -0.205512           0.124670   \n",
       "sales                  -0.027492      -0.017169  0.002568           0.032877   \n",
       "discount               -0.128537      -0.000277 -0.149352          -0.023385   \n",
       "sales14click           -0.017871      -0.035643  0.012854          -0.012496   \n",
       "\n",
       "                   meanUserLevel  meanCityLevel     sales  discount  \\\n",
       "brandID                 0.117087      -0.062888  0.005926 -0.262764   \n",
       "clickVolume            -0.041505       0.027674  0.809854 -0.096653   \n",
       "ma14SalesVolume        -0.056549       0.006853  0.691496 -0.074537   \n",
       "meanAge                 0.077794      -0.075656 -0.051563  0.099710   \n",
       "gender                  0.078634       0.032138 -0.008977  0.064886   \n",
       "meanEducation           0.425385      -0.335881 -0.027492 -0.128537   \n",
       "maritalStatus           0.197312      -0.086755 -0.017169 -0.000277   \n",
       "plus                    0.245385      -0.205512  0.002568 -0.149352   \n",
       "meanPurchasePower      -0.238552       0.124670  0.032877 -0.023385   \n",
       "meanUserLevel           1.000000      -0.217448 -0.047555  0.049777   \n",
       "meanCityLevel          -0.217448       1.000000  0.015022 -0.001413   \n",
       "sales                  -0.047555       0.015022  1.000000 -0.175250   \n",
       "discount                0.049777      -0.001413 -0.175250  1.000000   \n",
       "sales14click           -0.027900      -0.004462  0.724681 -0.031167   \n",
       "\n",
       "                   sales14click  \n",
       "brandID                0.052846  \n",
       "clickVolume            0.812937  \n",
       "ma14SalesVolume        0.789413  \n",
       "meanAge               -0.046584  \n",
       "gender                 0.000517  \n",
       "meanEducation         -0.017871  \n",
       "maritalStatus         -0.035643  \n",
       "plus                   0.012854  \n",
       "meanPurchasePower     -0.012496  \n",
       "meanUserLevel         -0.027900  \n",
       "meanCityLevel         -0.004462  \n",
       "sales                  0.724681  \n",
       "discount              -0.031167  \n",
       "sales14click           1.000000  "
      ]
     },
     "execution_count": 5,
     "metadata": {},
     "output_type": "execute_result"
    }
   ],
   "source": [
    "data.corr()"
   ]
  },
  {
   "cell_type": "markdown",
   "metadata": {},
   "source": [
    "## No standardization Simple Linear Regression (OLS)"
   ]
  },
  {
   "cell_type": "code",
   "execution_count": 6,
   "metadata": {},
   "outputs": [
    {
     "name": "stdout",
     "output_type": "stream",
     "text": [
      "Train (1743, 17) (1743,)\n",
      "Test (748, 17) (748,)\n"
     ]
    },
    {
     "data": {
      "text/plain": [
       "2012.4806445367215"
      ]
     },
     "execution_count": 6,
     "metadata": {},
     "output_type": "execute_result"
    }
   ],
   "source": [
    "X=data.drop('sales', axis=1)\n",
    "y=data.sales\n",
    "#split data into train and test\n",
    "X_train,X_test,y_train,y_test = train_test_split(X,y, test_size=0.3,random_state=42)\n",
    "print('Train', X_train.shape, y_train.shape)\n",
    "print('Test', X_test.shape, y_test.shape)\n",
    "#fit the model\n",
    "#MSE\n",
    "lr=LinearRegression()\n",
    "lr.fit(X_train, y_train)\n",
    "MSE(lr.predict(X_test),y_test)"
   ]
  },
  {
   "cell_type": "code",
   "execution_count": 7,
   "metadata": {
    "scrolled": true
   },
   "outputs": [
    {
     "name": "stdout",
     "output_type": "stream",
     "text": [
      "0.6214648042203774\n"
     ]
    },
    {
     "data": {
      "text/plain": [
       "0.8254385330912802"
      ]
     },
     "execution_count": 7,
     "metadata": {},
     "output_type": "execute_result"
    }
   ],
   "source": [
    "#R-squared\n",
    "print(lr.score(X_train,y_train))\n",
    "lr.score(X_test, y_test)"
   ]
  },
  {
   "cell_type": "code",
   "execution_count": 8,
   "metadata": {},
   "outputs": [
    {
     "data": {
      "image/png": "[encoded data removed]",
      "text/plain": [
       "<Figure size 432x288 with 1 Axes>"
      ]
     },
     "metadata": {
      "needs_background": "light"
     },
     "output_type": "display_data"
    },
    {
     "data": {
      "text/plain": [
       "['meanPurchasePower',\n",
       " 'meanEducation',\n",
       " 'maritalStatus',\n",
       " 'gender',\n",
       " 'attribute1',\n",
       " 'weekday',\n",
       " 'meanUserLevel',\n",
       " 'ma14SalesVolume',\n",
       " 'productID',\n",
       " 'clickVolume']"
      ]
     },
     "execution_count": 8,
     "metadata": {},
     "output_type": "execute_result"
    }
   ],
   "source": [
    "#feature importance in terms of coef\n",
    "feature_imp = pd.Series(lr.coef_,index=X_train.columns).sort_values(ascending=False)\n",
    "import seaborn as sns\n",
    "%matplotlib inline\n",
    "# Creating a bar plot\n",
    "sns.barplot(x=feature_imp[:20], y=feature_imp[:20].index)\n",
    "# Add labels to your graph\n",
    "plt.xlabel('Feature Importance Score')\n",
    "plt.ylabel('Features')\n",
    "plt.show()\n",
    "top_10_features = feature_imp.iloc[:10]\n",
    "top_10_features=(top_10_features.index).tolist()\n",
    "top_10_features"
   ]
  },
  {
   "cell_type": "markdown",
   "metadata": {},
   "source": [
    "## Standardization"
   ]
  },
  {
   "cell_type": "code",
   "execution_count": 9,
   "metadata": {},
   "outputs": [
    {
     "data": {
      "text/plain": [
       "2012.4806445392771"
      ]
     },
     "execution_count": 9,
     "metadata": {},
     "output_type": "execute_result"
    }
   ],
   "source": [
    "ss=StandardScaler()\n",
    "#drop categorical variable before standardization\n",
    "X_temp=data.drop(['productID','brandID','attribute1','attribute2','weekday','sales'], axis=1)\n",
    "y=data.sales\n",
    "X_stan= ss.fit_transform(X_temp)\n",
    "X_stan=pd.DataFrame(X_stan,columns=X_temp.columns)\n",
    "\n",
    "#add back categorical variable\n",
    "cat = data[['productID','brandID','attribute1','attribute2','weekday']]\n",
    "X_stan = X_stan.join(cat)\n",
    "\n",
    "#split data\n",
    "X_stan_train,X_stan_test,y_train,y_test = train_test_split(X_stan,y, test_size=0.3,random_state =42)\n",
    "\n",
    "#Use SLR again after standardization\n",
    "lr_stan=LinearRegression()\n",
    "lr_stan.fit(X_stan_train, y_train)\n",
    "MSE(lr_stan.predict(X_stan_test),y_test)"
   ]
  },
  {
   "cell_type": "code",
   "execution_count": 10,
   "metadata": {},
   "outputs": [
    {
     "name": "stdout",
     "output_type": "stream",
     "text": [
      "0.6214648042203774\n"
     ]
    },
    {
     "data": {
      "text/plain": [
       "0.8254385330910585"
      ]
     },
     "execution_count": 10,
     "metadata": {},
     "output_type": "execute_result"
    }
   ],
   "source": [
    "#R-squared\n",
    "print(lr_stan.score(X_stan_train,y_train))\n",
    "lr_stan.score(X_stan_test, y_test)"
   ]
  },
  {
   "cell_type": "code",
   "execution_count": 11,
   "metadata": {
    "scrolled": true
   },
   "outputs": [
    {
     "data": {
      "image/png": "[encoded data removed]",
      "text/plain": [
       "<Figure size 432x288 with 1 Axes>"
      ]
     },
     "metadata": {
      "needs_background": "light"
     },
     "output_type": "display_data"
    },
    {
     "data": {
      "text/plain": [
       "['clickVolume',\n",
       " 'ma14SalesVolume',\n",
       " 'sales14click',\n",
       " 'meanPurchasePower',\n",
       " 'attribute1',\n",
       " 'meanEducation',\n",
       " 'weekday',\n",
       " 'maritalStatus',\n",
       " 'gender',\n",
       " 'meanUserLevel']"
      ]
     },
     "execution_count": 11,
     "metadata": {},
     "output_type": "execute_result"
    }
   ],
   "source": [
    "#feature importance after standardization\n",
    "feature_imp = pd.Series(lr_stan.coef_,index=X_stan_train.columns).sort_values(ascending=False)\n",
    "import seaborn as sns\n",
    "%matplotlib inline\n",
    "# Creating a bar plot\n",
    "sns.barplot(x=feature_imp[:20], y=feature_imp[:20].index)\n",
    "# Add labels to your graph\n",
    "plt.xlabel('Feature Importance Score')\n",
    "plt.ylabel('Features')\n",
    "plt.show()\n",
    "\n",
    "top_10_features = feature_imp.iloc[:10]\n",
    "top_10_features=(top_10_features.index).tolist()\n",
    "top_10_features"
   ]
  },
  {
   "cell_type": "markdown",
   "metadata": {},
   "source": [
    "## SLR with Selected Features"
   ]
  },
  {
   "cell_type": "code",
   "execution_count": 12,
   "metadata": {
    "scrolled": false
   },
   "outputs": [
    {
     "data": {
      "text/plain": [
       "1989.9794986221643"
      ]
     },
     "execution_count": 12,
     "metadata": {},
     "output_type": "execute_result"
    }
   ],
   "source": [
    "#In order to obtain the smallest MSE, the following features are used\n",
    "X=X_stan[['sales14click','clickVolume','meanEducation', 'meanPurchasePower','meanUserLevel','meanCityLevel','discount','brandID',\n",
    "      'weekday'  \n",
    "]]\n",
    "y=data.sales\n",
    "X_train,X_test,y_train,y_test = train_test_split(X,y, test_size=0.3,random_state =42)\n",
    "lr=LinearRegression()\n",
    "lr.fit(X_train, y_train)\n",
    "MSE(lr.predict(X_test),y_test)"
   ]
  },
  {
   "cell_type": "code",
   "execution_count": 13,
   "metadata": {},
   "outputs": [
    {
     "name": "stdout",
     "output_type": "stream",
     "text": [
      "0.6214648042203774\n"
     ]
    },
    {
     "data": {
      "text/plain": [
       "0.8254385330910585"
      ]
     },
     "execution_count": 13,
     "metadata": {},
     "output_type": "execute_result"
    }
   ],
   "source": [
    "print(lr_stan.score(X_stan_train, y_train))\n",
    "lr_stan.score(X_stan_test, y_test)"
   ]
  },
  {
   "cell_type": "markdown",
   "metadata": {},
   "source": [
    "### The lowest MSE obtained from SLR is 1990."
   ]
  },
  {
   "cell_type": "markdown",
   "metadata": {},
   "source": [
    "# Lasso and Ridge Regression"
   ]
  },
  {
   "cell_type": "code",
   "execution_count": 14,
   "metadata": {},
   "outputs": [],
   "source": [
    "#selected features from SLR\n",
    "#X is already standardized\n",
    "X = pd.get_dummies(X,drop_first=True)\n",
    "y=data.sales\n",
    "\n",
    "#split train and test\n",
    "X_stan_train,X_stan_test,y_train,y_test = train_test_split(X,y, test_size=0.3,random_state =42)"
   ]
  },
  {
   "cell_type": "markdown",
   "metadata": {},
   "source": [
    "## Lasso tuning"
   ]
  },
  {
   "cell_type": "code",
   "execution_count": 15,
   "metadata": {},
   "outputs": [],
   "source": [
    "def Lasso_KFold_MSE(alpha,k):\n",
    "    kf = KFold(n_splits=k)\n",
    "    MSE=[]\n",
    "    for train_index, test_index in kf.split(X_stan):\n",
    "        X_stan_train = X_stan.iloc[train_index]\n",
    "        y_train = y.iloc[train_index]\n",
    "        X_stan_test=X_stan.iloc[test_index]\n",
    "        y_test=y.iloc[test_index]\n",
    "        lasso=Lasso(alpha=alpha, max_iter=1e5)\n",
    "        lasso.fit(X_stan_train, y_train)\n",
    "        MSE.append(mean_squared_error(lasso.predict(X_stan_test),y_test))        \n",
    "    return MSE   "
   ]
  },
  {
   "cell_type": "code",
   "execution_count": 16,
   "metadata": {
    "scrolled": true
   },
   "outputs": [
    {
     "data": {
      "text/plain": [
       "array([3260.30200631, 3257.94924751, 3251.61982509, 3286.86648658,\n",
       "       3433.28977681, 6069.02718713, 9902.79398938])"
      ]
     },
     "execution_count": 16,
     "metadata": {},
     "output_type": "execute_result"
    }
   ],
   "source": [
    "ran=[0.01,0.1,1,5,10,50,100] \n",
    "MSE_vect = np.zeros(len(ran))\n",
    "for i in range(len(ran)):\n",
    "    MSE_vect[i] =  np.mean(Lasso_KFold_MSE(ran[i],10))\n",
    "MSE_vect"
   ]
  },
  {
   "cell_type": "code",
   "execution_count": 17,
   "metadata": {},
   "outputs": [
    {
     "data": {
      "text/plain": [
       "2027.4189886313718"
      ]
     },
     "execution_count": 17,
     "metadata": {},
     "output_type": "execute_result"
    }
   ],
   "source": [
    "#alpha = 1\n",
    "lasso=Lasso(alpha=1, max_iter=1e5)\n",
    "lasso.fit(X_stan_train, y_train)\n",
    "mean_squared_error(lasso.predict(X_stan_test),y_test)"
   ]
  },
  {
   "cell_type": "code",
   "execution_count": 18,
   "metadata": {},
   "outputs": [
    {
     "name": "stdout",
     "output_type": "stream",
     "text": [
      "0.6028955187471903\n"
     ]
    },
    {
     "data": {
      "text/plain": [
       "0.8241427893208104"
      ]
     },
     "execution_count": 18,
     "metadata": {},
     "output_type": "execute_result"
    }
   ],
   "source": [
    "print(lasso.score(X_stan_train, y_train))\n",
    "lasso.score(X_stan_test, y_test)"
   ]
  },
  {
   "cell_type": "markdown",
   "metadata": {},
   "source": [
    "### The lowest MSE obtained from Lasso Regression is 2027."
   ]
  },
  {
   "cell_type": "markdown",
   "metadata": {},
   "source": [
    "## Ridge Tuning"
   ]
  },
  {
   "cell_type": "code",
   "execution_count": 19,
   "metadata": {},
   "outputs": [],
   "source": [
    "#X_stan is standardized\n",
    "#Contains all features\n",
    "X = pd.get_dummies(X_stan,drop_first=True)\n",
    "y=data.sales\n",
    "\n",
    "#split train and test\n",
    "X_stan_train,X_stan_test,y_train,y_test = train_test_split(X,y, test_size=0.3,random_state =42)"
   ]
  },
  {
   "cell_type": "code",
   "execution_count": 20,
   "metadata": {},
   "outputs": [],
   "source": [
    "def Ridge_KFold_MSE(alpha,k):\n",
    "    kf = KFold(n_splits=k)\n",
    "    MSE=[]\n",
    "    for train_index, test_index in kf.split(X_stan):\n",
    "        X_stan_train = X_stan.iloc[train_index]\n",
    "        y_train = y.iloc[train_index]\n",
    "        X_stan_test=X_stan.iloc[test_index]\n",
    "        y_test=y.iloc[test_index]\n",
    "        ridge=Ridge(alpha=alpha, max_iter=1e5)\n",
    "        ridge.fit(X_stan_train, y_train)\n",
    "        MSE.append(mean_squared_error(ridge.predict(X_stan_test),y_test))        \n",
    "    return MSE   "
   ]
  },
  {
   "cell_type": "code",
   "execution_count": 21,
   "metadata": {},
   "outputs": [
    {
     "data": {
      "text/plain": [
       "array([3260.57633761, 3260.50340563, 3259.77807732, 3256.64061401,\n",
       "       3252.90975251, 3229.52723273, 3212.25537845, 3387.52262124,\n",
       "       3749.5516442 ])"
      ]
     },
     "execution_count": 21,
     "metadata": {},
     "output_type": "execute_result"
    }
   ],
   "source": [
    "ran=[0.01,0.1,1,5,10,50,100,1000,2000] \n",
    "MSE_vect = np.zeros(len(ran))\n",
    "for i in range(len(ran)):\n",
    "    MSE_vect[i] =  np.mean(Ridge_KFold_MSE(ran[i],10))\n",
    "MSE_vect"
   ]
  },
  {
   "cell_type": "code",
   "execution_count": 22,
   "metadata": {},
   "outputs": [
    {
     "data": {
      "text/plain": [
       "2071.793957149465"
      ]
     },
     "execution_count": 22,
     "metadata": {},
     "output_type": "execute_result"
    }
   ],
   "source": [
    "ridge = Ridge(alpha=100)\n",
    "ridge.fit(X_stan_train, y_train)\n",
    "mean_squared_error(ridge.predict(X_stan_test),y_test)"
   ]
  },
  {
   "cell_type": "code",
   "execution_count": 23,
   "metadata": {},
   "outputs": [
    {
     "name": "stdout",
     "output_type": "stream",
     "text": [
      "0.6317045332981528\n"
     ]
    },
    {
     "data": {
      "text/plain": [
       "0.8202937288989997"
      ]
     },
     "execution_count": 23,
     "metadata": {},
     "output_type": "execute_result"
    }
   ],
   "source": [
    "print(ridge.score(X_stan_train, y_train))\n",
    "ridge.score(X_stan_test, y_test)"
   ]
  },
  {
   "cell_type": "markdown",
   "metadata": {},
   "source": [
    "### The lowest MSE obtained from Ridge Regression is 2072."
   ]
  },
  {
   "cell_type": "markdown",
   "metadata": {},
   "source": [
    "# RandomForest Regressor"
   ]
  },
  {
   "cell_type": "markdown",
   "metadata": {},
   "source": [
    "## RF without K-fold to tune parameter"
   ]
  },
  {
   "cell_type": "code",
   "execution_count": 24,
   "metadata": {},
   "outputs": [],
   "source": [
    "import pandas as pd\n",
    "import numpy as np\n",
    "import matplotlib.pyplot as plt\n",
    "from sklearn.model_selection import train_test_split\n",
    "from sklearn.ensemble import RandomForestRegressor\n",
    "from sklearn.metrics import mean_squared_error as MSE\n",
    "from sklearn.metrics import r2_score"
   ]
  },
  {
   "cell_type": "code",
   "execution_count": 25,
   "metadata": {},
   "outputs": [
    {
     "data": {
      "text/html": [
       "<div>\n",
       "<style scoped>\n",
       "    .dataframe tbody tr th:only-of-type {\n",
       "        vertical-align: middle;\n",
       "    }\n",
       "\n",
       "    .dataframe tbody tr th {\n",
       "        vertical-align: top;\n",
       "    }\n",
       "\n",
       "    .dataframe thead th {\n",
       "        text-align: right;\n",
       "    }\n",
       "</style>\n",
       "<table border=\"1\" class=\"dataframe\">\n",
       "  <thead>\n",
       "    <tr style=\"text-align: right;\">\n",
       "      <th></th>\n",
       "      <th>clickVolume</th>\n",
       "      <th>ma14SalesVolume</th>\n",
       "      <th>meanAge</th>\n",
       "      <th>gender</th>\n",
       "      <th>meanEducation</th>\n",
       "      <th>maritalStatus</th>\n",
       "      <th>plus</th>\n",
       "      <th>meanPurchasePower</th>\n",
       "      <th>meanUserLevel</th>\n",
       "      <th>meanCityLevel</th>\n",
       "      <th>...</th>\n",
       "      <th>attribute2_str_100.0</th>\n",
       "      <th>attribute2_str_30.0</th>\n",
       "      <th>attribute2_str_40.0</th>\n",
       "      <th>attribute2_str_50.0</th>\n",
       "      <th>attribute2_str_60.0</th>\n",
       "      <th>attribute2_str_70.0</th>\n",
       "      <th>attribute2_str_80.0</th>\n",
       "      <th>attribute2_str_90.0</th>\n",
       "      <th>weekday_str_0</th>\n",
       "      <th>weekday_str_1</th>\n",
       "    </tr>\n",
       "  </thead>\n",
       "  <tbody>\n",
       "    <tr>\n",
       "      <th>0</th>\n",
       "      <td>2418.0</td>\n",
       "      <td>56.928571</td>\n",
       "      <td>31.694915</td>\n",
       "      <td>0.338983</td>\n",
       "      <td>2.929825</td>\n",
       "      <td>0.431034</td>\n",
       "      <td>0.269841</td>\n",
       "      <td>2.120690</td>\n",
       "      <td>3.079365</td>\n",
       "      <td>1.943396</td>\n",
       "      <td>...</td>\n",
       "      <td>1</td>\n",
       "      <td>0</td>\n",
       "      <td>0</td>\n",
       "      <td>0</td>\n",
       "      <td>0</td>\n",
       "      <td>0</td>\n",
       "      <td>0</td>\n",
       "      <td>0</td>\n",
       "      <td>1</td>\n",
       "      <td>0</td>\n",
       "    </tr>\n",
       "    <tr>\n",
       "      <th>1</th>\n",
       "      <td>1723.0</td>\n",
       "      <td>49.285714</td>\n",
       "      <td>30.652174</td>\n",
       "      <td>0.217391</td>\n",
       "      <td>2.928571</td>\n",
       "      <td>0.604651</td>\n",
       "      <td>0.191489</td>\n",
       "      <td>2.302326</td>\n",
       "      <td>2.446809</td>\n",
       "      <td>2.093023</td>\n",
       "      <td>...</td>\n",
       "      <td>1</td>\n",
       "      <td>0</td>\n",
       "      <td>0</td>\n",
       "      <td>0</td>\n",
       "      <td>0</td>\n",
       "      <td>0</td>\n",
       "      <td>0</td>\n",
       "      <td>0</td>\n",
       "      <td>1</td>\n",
       "      <td>0</td>\n",
       "    </tr>\n",
       "    <tr>\n",
       "      <th>2</th>\n",
       "      <td>1666.0</td>\n",
       "      <td>48.857143</td>\n",
       "      <td>31.370370</td>\n",
       "      <td>0.148148</td>\n",
       "      <td>2.941176</td>\n",
       "      <td>0.519231</td>\n",
       "      <td>0.357143</td>\n",
       "      <td>2.153846</td>\n",
       "      <td>2.839286</td>\n",
       "      <td>2.104167</td>\n",
       "      <td>...</td>\n",
       "      <td>1</td>\n",
       "      <td>0</td>\n",
       "      <td>0</td>\n",
       "      <td>0</td>\n",
       "      <td>0</td>\n",
       "      <td>0</td>\n",
       "      <td>0</td>\n",
       "      <td>0</td>\n",
       "      <td>0</td>\n",
       "      <td>1</td>\n",
       "    </tr>\n",
       "    <tr>\n",
       "      <th>3</th>\n",
       "      <td>386.0</td>\n",
       "      <td>19.714286</td>\n",
       "      <td>32.222222</td>\n",
       "      <td>0.333333</td>\n",
       "      <td>3.111111</td>\n",
       "      <td>0.333333</td>\n",
       "      <td>0.272727</td>\n",
       "      <td>2.444444</td>\n",
       "      <td>2.700000</td>\n",
       "      <td>2.888889</td>\n",
       "      <td>...</td>\n",
       "      <td>0</td>\n",
       "      <td>0</td>\n",
       "      <td>0</td>\n",
       "      <td>0</td>\n",
       "      <td>0</td>\n",
       "      <td>0</td>\n",
       "      <td>1</td>\n",
       "      <td>0</td>\n",
       "      <td>0</td>\n",
       "      <td>1</td>\n",
       "    </tr>\n",
       "    <tr>\n",
       "      <th>4</th>\n",
       "      <td>1419.0</td>\n",
       "      <td>66.214286</td>\n",
       "      <td>31.020408</td>\n",
       "      <td>0.183673</td>\n",
       "      <td>2.978723</td>\n",
       "      <td>0.425532</td>\n",
       "      <td>0.218182</td>\n",
       "      <td>2.468085</td>\n",
       "      <td>2.490909</td>\n",
       "      <td>2.042553</td>\n",
       "      <td>...</td>\n",
       "      <td>1</td>\n",
       "      <td>0</td>\n",
       "      <td>0</td>\n",
       "      <td>0</td>\n",
       "      <td>0</td>\n",
       "      <td>0</td>\n",
       "      <td>0</td>\n",
       "      <td>0</td>\n",
       "      <td>0</td>\n",
       "      <td>1</td>\n",
       "    </tr>\n",
       "  </tbody>\n",
       "</table>\n",
       "<p>5 rows × 129 columns</p>\n",
       "</div>"
      ],
      "text/plain": [
       "   clickVolume  ma14SalesVolume    meanAge    gender  meanEducation  \\\n",
       "0       2418.0        56.928571  31.694915  0.338983       2.929825   \n",
       "1       1723.0        49.285714  30.652174  0.217391       2.928571   \n",
       "2       1666.0        48.857143  31.370370  0.148148       2.941176   \n",
       "3        386.0        19.714286  32.222222  0.333333       3.111111   \n",
       "4       1419.0        66.214286  31.020408  0.183673       2.978723   \n",
       "\n",
       "   maritalStatus      plus  meanPurchasePower  meanUserLevel  meanCityLevel  \\\n",
       "0       0.431034  0.269841           2.120690       3.079365       1.943396   \n",
       "1       0.604651  0.191489           2.302326       2.446809       2.093023   \n",
       "2       0.519231  0.357143           2.153846       2.839286       2.104167   \n",
       "3       0.333333  0.272727           2.444444       2.700000       2.888889   \n",
       "4       0.425532  0.218182           2.468085       2.490909       2.042553   \n",
       "\n",
       "   ...  attribute2_str_100.0  attribute2_str_30.0  attribute2_str_40.0  \\\n",
       "0  ...                     1                    0                    0   \n",
       "1  ...                     1                    0                    0   \n",
       "2  ...                     1                    0                    0   \n",
       "3  ...                     0                    0                    0   \n",
       "4  ...                     1                    0                    0   \n",
       "\n",
       "   attribute2_str_50.0  attribute2_str_60.0  attribute2_str_70.0  \\\n",
       "0                    0                    0                    0   \n",
       "1                    0                    0                    0   \n",
       "2                    0                    0                    0   \n",
       "3                    0                    0                    0   \n",
       "4                    0                    0                    0   \n",
       "\n",
       "   attribute2_str_80.0  attribute2_str_90.0  weekday_str_0  weekday_str_1  \n",
       "0                    0                    0              1              0  \n",
       "1                    0                    0              1              0  \n",
       "2                    0                    0              0              1  \n",
       "3                    1                    0              0              1  \n",
       "4                    0                    0              0              1  \n",
       "\n",
       "[5 rows x 129 columns]"
      ]
     },
     "execution_count": 25,
     "metadata": {},
     "output_type": "execute_result"
    }
   ],
   "source": [
    "train=pd.read_csv('Data-train.csv',index_col=0)\n",
    "X=train\n",
    "X['discount']=1-(X['avgOriginalUnitPrice']-X['avgFinalUnitPrice'])/X['avgOriginalUnitPrice']\n",
    "X=X.drop(['avgOriginalUnitPrice','avgFinalUnitPrice'],axis=1)\n",
    "X['productID_str']=X['productID'].astype(str)\n",
    "X['brandID_str']=X['brandID'].astype(str)\n",
    "X['productID_str']=X['productID'].astype(str)\n",
    "X['attribute1_str']=X['attribute1'].astype(str)\n",
    "X['attribute2_str']=X['attribute2'].astype(str)\n",
    "X['weekday'] = X.apply(lambda x: (X['weekday']<5).astype(int))\n",
    "X['weekday_str']=X['weekday'].astype(str)\n",
    "X=X.drop(['productID','brandID','attribute1','attribute2','weekday'],axis=1)\n",
    "X=pd.get_dummies(X)\n",
    "X.head()"
   ]
  },
  {
   "cell_type": "code",
   "execution_count": 26,
   "metadata": {},
   "outputs": [],
   "source": [
    "XX=X.drop('sales',axis=1)\n",
    "yy=X['sales']\n",
    "XX_train, XX_test, yy_train, yy_test = train_test_split(XX,yy,train_size=int(0.7*len(XX)), random_state=42)"
   ]
  },
  {
   "cell_type": "markdown",
   "metadata": {},
   "source": [
    "### MSE and R-sqr before tuning"
   ]
  },
  {
   "cell_type": "code",
   "execution_count": 27,
   "metadata": {},
   "outputs": [
    {
     "name": "stdout",
     "output_type": "stream",
     "text": [
      "Test MSE = 1887.0484836898397\n",
      "R2 = 0.8363184499016119\n"
     ]
    }
   ],
   "source": [
    "rfr=RandomForestRegressor(random_state=31, max_features=None,oob_score=True)\n",
    "rfr.fit(XX_train,yy_train)\n",
    "y_true = yy_test\n",
    "y_pred = rfr.predict(XX_test)\n",
    "print('Test MSE =',MSE(rfr.predict(XX_test),yy_test))\n",
    "print('R2 =',r2_score(y_true, y_pred))"
   ]
  },
  {
   "cell_type": "markdown",
   "metadata": {},
   "source": [
    "### Feature Importance"
   ]
  },
  {
   "cell_type": "code",
   "execution_count": 28,
   "metadata": {},
   "outputs": [
    {
     "data": {
      "image/png": "[encoded data removed]",
      "text/plain": [
       "<Figure size 432x288 with 1 Axes>"
      ]
     },
     "metadata": {
      "needs_background": "light"
     },
     "output_type": "display_data"
    }
   ],
   "source": [
    "import pandas as pd\n",
    "feature_imp = pd.Series(rfr.feature_importances_,index=XX_train.columns).sort_values(ascending=False)\n",
    "\n",
    "import seaborn as sns\n",
    "%matplotlib inline\n",
    "# Creating a bar plot\n",
    "sns.barplot(x=feature_imp[:20], y=feature_imp[:20].index)\n",
    "# Add labels to your graph\n",
    "plt.xlabel('Feature Importance Score')\n",
    "plt.ylabel('Features')\n",
    "plt.show()"
   ]
  },
  {
   "cell_type": "code",
   "execution_count": 29,
   "metadata": {},
   "outputs": [
    {
     "data": {
      "text/plain": [
       "['clickVolume',\n",
       " 'ma14SalesVolume',\n",
       " 'discount',\n",
       " 'productID_str_67',\n",
       " 'brandID_str_9',\n",
       " 'maritalStatus',\n",
       " 'meanAge',\n",
       " 'meanCityLevel',\n",
       " 'meanPurchasePower',\n",
       " 'meanEducation']"
      ]
     },
     "execution_count": 29,
     "metadata": {},
     "output_type": "execute_result"
    }
   ],
   "source": [
    "top_10_features = feature_imp.iloc[:10]\n",
    "top_10_features=(top_10_features.index).tolist()\n",
    "top_10_features"
   ]
  },
  {
   "cell_type": "markdown",
   "metadata": {},
   "source": [
    "### reduced features dataset"
   ]
  },
  {
   "cell_type": "code",
   "execution_count": 30,
   "metadata": {},
   "outputs": [
    {
     "name": "stderr",
     "output_type": "stream",
     "text": [
      "C:\\ProgramData\\Anaconda3\\lib\\site-packages\\ipykernel_launcher.py:5: SettingWithCopyWarning: \n",
      "A value is trying to be set on a copy of a slice from a DataFrame.\n",
      "Try using .loc[row_indexer,col_indexer] = value instead\n",
      "\n",
      "See the caveats in the documentation: https://pandas.pydata.org/pandas-docs/stable/user_guide/indexing.html#returning-a-view-versus-a-copy\n",
      "  \"\"\"\n"
     ]
    }
   ],
   "source": [
    "# brandID, attribute1 and 2 remain\n",
    "new_train = train[['clickVolume','ma14SalesVolume','avgOriginalUnitPrice','avgFinalUnitPrice','productID','brandID','maritalStatus','meanAge','meanCityLevel','meanPurchasePower','meanEducation','sales']]\n",
    "new_train.head()\n",
    "X_new=new_train\n",
    "X_new['discount']=1-(X_new['avgOriginalUnitPrice']-X_new['avgFinalUnitPrice'])/X_new['avgOriginalUnitPrice']\n",
    "X_new=X_new.drop(['avgOriginalUnitPrice','avgFinalUnitPrice'],axis=1)\n",
    "X_new['brandID_str']=X_new['brandID'].astype(str)\n",
    "X_new['productID_str']=X_new['productID'].astype(str)\n",
    "# X_new['weekday'] = X_new.apply(lambda x: X_new['weekday']<5)\n",
    "# X_new['weekday_str']=X_new['weekday'].astype(str)\n",
    "X_new=X_new.drop(['brandID','productID'],axis=1)\n",
    "X_new=pd.get_dummies(X_new)\n",
    "XX_new=X_new.drop('sales',axis=1)\n",
    "yy_new=new_train['sales']\n",
    "XX_new_train, XX_new_test, yy_new_train, yy_new_test = train_test_split(XX_new,yy_new,train_size=int(0.7*len(XX_new)), random_state=42)"
   ]
  },
  {
   "cell_type": "markdown",
   "metadata": {},
   "source": [
    "### MSE and R-sqr after reducing features"
   ]
  },
  {
   "cell_type": "code",
   "execution_count": 31,
   "metadata": {},
   "outputs": [
    {
     "name": "stdout",
     "output_type": "stream",
     "text": [
      "Test MSE = 1915.1651155080212\n",
      "R2 = 0.8338796286846039\n"
     ]
    }
   ],
   "source": [
    "rf2=RandomForestRegressor(random_state=31,max_features=None,oob_score=True)\n",
    "rf2.fit(XX_new_train,yy_new_train)\n",
    "y_true = yy_new_test\n",
    "y_pred = rf2.predict(XX_new_test)\n",
    "print('Test MSE =',MSE(rf2.predict(XX_new_test),yy_new_test))\n",
    "print('R2 =',r2_score(y_true, y_pred))"
   ]
  },
  {
   "cell_type": "markdown",
   "metadata": {},
   "source": [
    "### Parameter Tuning -- Max_depth"
   ]
  },
  {
   "cell_type": "code",
   "execution_count": 32,
   "metadata": {},
   "outputs": [
    {
     "data": {
      "image/png": "[encoded data removed]",
      "text/plain": [
       "<Figure size 432x288 with 1 Axes>"
      ]
     },
     "metadata": {
      "needs_background": "light"
     },
     "output_type": "display_data"
    }
   ],
   "source": [
    "def MSE_rf(depth):\n",
    "    rf=RandomForestRegressor(random_state=31,max_depth=depth,max_features=None,oob_score=True)\n",
    "    rf.fit(XX_new_train,yy_new_train)\n",
    "    mse_test = MSE(rf.predict(XX_new_test),yy_new_test)\n",
    "    mse_train = MSE(rf.predict(XX_new_train),yy_new_train)\n",
    "    return mse_test,mse_train\n",
    "\n",
    "max_depth = [i for i in range(1,20)]\n",
    "# max_depth = np.linspace(0, 10, num=10, endpoint=True, retstep=False, dtype=None, axis=0)\n",
    "mse_vect_test= []\n",
    "mse_vect_train= []\n",
    "for i in max_depth:\n",
    "    mse_vect_test.append(MSE_rf(i)[0])\n",
    "    mse_vect_train.append(MSE_rf(i)[1])    \n",
    "plt.plot(max_depth,mse_vect_test,label='test MSE')\n",
    "plt.plot(max_depth,mse_vect_train,label='train MSE')\n",
    "plt.xlabel('Max_depth')\n",
    "plt.ylabel('MSE')\n",
    "plt.legend(loc=1)\n",
    "plt.show()"
   ]
  },
  {
   "cell_type": "markdown",
   "metadata": {},
   "source": [
    "### Best max_depth"
   ]
  },
  {
   "cell_type": "code",
   "execution_count": 33,
   "metadata": {},
   "outputs": [
    {
     "name": "stdout",
     "output_type": "stream",
     "text": [
      "best_max_depth 16\n",
      "corresponding_test_mse 1820.1887117722965\n"
     ]
    }
   ],
   "source": [
    "index = np.argmin(mse_vect_test)\n",
    "best_max_depth = max_depth[index]\n",
    "corresponding_test_mse = mse_vect_test[index]\n",
    "print('best_max_depth',best_max_depth)\n",
    "print('corresponding_test_mse',corresponding_test_mse)"
   ]
  },
  {
   "cell_type": "markdown",
   "metadata": {},
   "source": [
    "### Parameter Tuning -- min_samples_leaf"
   ]
  },
  {
   "cell_type": "code",
   "execution_count": 34,
   "metadata": {},
   "outputs": [
    {
     "data": {
      "image/png": "[encoded data removed]",
      "text/plain": [
       "<Figure size 432x288 with 1 Axes>"
      ]
     },
     "metadata": {
      "needs_background": "light"
     },
     "output_type": "display_data"
    }
   ],
   "source": [
    "def MSE_rf(leaf):\n",
    "    rf=RandomForestRegressor(random_state=31,max_depth = best_max_depth,min_samples_leaf=leaf,max_features=None,oob_score=True)\n",
    "    rf.fit(XX_new_train,yy_new_train)\n",
    "    mse_test = MSE(rf.predict(XX_new_test),yy_new_test)\n",
    "    mse_train = MSE(rf.predict(XX_new_train),yy_new_train)\n",
    "    return mse_test,mse_train\n",
    "\n",
    "min_sample_leaf = [i for i in range(1,10)]\n",
    "# max_depth = np.linspace(0, 10, num=10, endpoint=True, retstep=False, dtype=None, axis=0)\n",
    "mse_vect_test= []\n",
    "mse_vect_train= []\n",
    "for i in min_sample_leaf:\n",
    "    mse_vect_test.append(MSE_rf(i)[0])\n",
    "    mse_vect_train.append(MSE_rf(i)[1])    \n",
    "plt.plot(min_sample_leaf,mse_vect_test,label='test MSE')\n",
    "plt.plot(min_sample_leaf,mse_vect_train,label='train MSE')\n",
    "plt.xlabel('min_sample_leaf')\n",
    "plt.ylabel('MSE')\n",
    "plt.legend(loc=1)\n",
    "plt.show()"
   ]
  },
  {
   "cell_type": "markdown",
   "metadata": {},
   "source": [
    "### Best min_sample_leaf"
   ]
  },
  {
   "cell_type": "code",
   "execution_count": 35,
   "metadata": {},
   "outputs": [
    {
     "name": "stdout",
     "output_type": "stream",
     "text": [
      "best_min_sample_leaf 3\n",
      "corresponding_test_mse 1779.0535401484924\n"
     ]
    }
   ],
   "source": [
    "index = np.argmin(mse_vect_test)\n",
    "best_min_sample_leaf = min_sample_leaf[index]\n",
    "corresponding_test_mse = mse_vect_test[index]\n",
    "print('best_min_sample_leaf',best_min_sample_leaf)\n",
    "print('corresponding_test_mse',corresponding_test_mse)"
   ]
  },
  {
   "cell_type": "markdown",
   "metadata": {},
   "source": [
    "### Parameter Tuning -- n_estimators"
   ]
  },
  {
   "cell_type": "code",
   "execution_count": 36,
   "metadata": {},
   "outputs": [
    {
     "data": {
      "image/png": "[encoded data removed]",
      "text/plain": [
       "<Figure size 432x288 with 1 Axes>"
      ]
     },
     "metadata": {
      "needs_background": "light"
     },
     "output_type": "display_data"
    }
   ],
   "source": [
    "def MSE_rf(estimator):\n",
    "    rf=RandomForestRegressor(random_state=31,n_estimators = estimator,max_depth = best_max_depth,min_samples_leaf=best_min_sample_leaf,max_features=None,oob_score=True)\n",
    "    rf.fit(XX_new_train,yy_new_train)\n",
    "    mse_test = MSE(rf.predict(XX_new_test),yy_new_test)\n",
    "    mse_train = MSE(rf.predict(XX_new_train),yy_new_train)\n",
    "    return mse_test,mse_train\n",
    "\n",
    "n_estimator = [100,200,300,500,1000,1200]\n",
    "mse_vect_test= []\n",
    "mse_vect_train= []\n",
    "for i in n_estimator:\n",
    "    mse_vect_test.append(MSE_rf(i)[0])\n",
    "    mse_vect_train.append(MSE_rf(i)[1])    \n",
    "plt.plot(n_estimator,mse_vect_test,label='test MSE')\n",
    "plt.plot(n_estimator,mse_vect_train,label='train MSE')\n",
    "plt.xlabel('n_estimator')\n",
    "plt.ylabel('MSE')\n",
    "plt.legend(loc=1)\n",
    "plt.show()"
   ]
  },
  {
   "cell_type": "markdown",
   "metadata": {},
   "source": [
    "### Best n_estimators"
   ]
  },
  {
   "cell_type": "code",
   "execution_count": 37,
   "metadata": {},
   "outputs": [
    {
     "name": "stdout",
     "output_type": "stream",
     "text": [
      "best_n_estimator 100\n",
      "corresponding_test_mse 1779.0535401484924\n"
     ]
    }
   ],
   "source": [
    "index = np.argmin(mse_vect_test)\n",
    "best_n_estimator = n_estimator[index]\n",
    "corresponding_test_mse = mse_vect_test[index]\n",
    "print('best_n_estimator',best_n_estimator)\n",
    "print('corresponding_test_mse',corresponding_test_mse)"
   ]
  },
  {
   "cell_type": "markdown",
   "metadata": {},
   "source": [
    "### Parameter Tuning -- ccp_alpha"
   ]
  },
  {
   "cell_type": "code",
   "execution_count": 38,
   "metadata": {},
   "outputs": [
    {
     "data": {
      "image/png": "[encoded data removed]",
      "text/plain": [
       "<Figure size 432x288 with 1 Axes>"
      ]
     },
     "metadata": {
      "needs_background": "light"
     },
     "output_type": "display_data"
    }
   ],
   "source": [
    "def MSE_rf(alpha):\n",
    "    rf=RandomForestRegressor(random_state=31,ccp_alpha = alpha,n_estimators = best_n_estimator,max_depth = best_max_depth,min_samples_leaf=best_min_sample_leaf,max_features=None,oob_score=True)\n",
    "    rf.fit(XX_new_train,yy_new_train)\n",
    "    mse_test = MSE(rf.predict(XX_new_test),yy_new_test)\n",
    "    mse_train = MSE(rf.predict(XX_new_train),yy_new_train)\n",
    "    return mse_test,mse_train\n",
    "\n",
    "\n",
    "ccp_alphas = np.linspace(0, 1, num=10, endpoint=True, retstep=False, axis=0)\n",
    "mse_vect_test= []\n",
    "mse_vect_train= []\n",
    "for i in ccp_alphas:\n",
    "    mse_vect_test.append(MSE_rf(i)[0])\n",
    "    mse_vect_train.append(MSE_rf(i)[1])    \n",
    "plt.plot(ccp_alphas,mse_vect_test,label='test MSE')\n",
    "plt.plot(ccp_alphas,mse_vect_train,label='train MSE')\n",
    "plt.xlabel('ccp_alphas')\n",
    "plt.ylabel('MSE')\n",
    "plt.legend(loc=1)\n",
    "plt.show()"
   ]
  },
  {
   "cell_type": "markdown",
   "metadata": {},
   "source": [
    "### Best ccp_alpha"
   ]
  },
  {
   "cell_type": "code",
   "execution_count": 39,
   "metadata": {},
   "outputs": [
    {
     "name": "stdout",
     "output_type": "stream",
     "text": [
      "best_ccp_alphas 0.0\n",
      "corresponding_test_mse 1779.0535401484924\n"
     ]
    }
   ],
   "source": [
    "index = np.argmin(mse_vect_test)\n",
    "best_ccp_alphas = ccp_alphas[index]\n",
    "corresponding_test_mse = mse_vect_test[index]\n",
    "print('best_ccp_alphas',best_ccp_alphas)\n",
    "print('corresponding_test_mse',corresponding_test_mse)"
   ]
  },
  {
   "cell_type": "markdown",
   "metadata": {},
   "source": [
    "### After Tuning MSE and R-sqr"
   ]
  },
  {
   "cell_type": "code",
   "execution_count": 40,
   "metadata": {},
   "outputs": [
    {
     "name": "stdout",
     "output_type": "stream",
     "text": [
      "Test MSE = 1779.0535401484924\n",
      "R2 = 0.8456858720502317\n"
     ]
    }
   ],
   "source": [
    "rf_final=RandomForestRegressor(random_state=31,n_estimators = best_n_estimator,ccp_alpha=best_ccp_alphas,max_depth = best_max_depth,min_samples_leaf=best_min_sample_leaf,\\\n",
    "                               max_features=None,oob_score=True)\n",
    "rf_final.fit(XX_new_train,yy_new_train)\n",
    "y_true = yy_new_test\n",
    "y_pred = rf_final.predict(XX_new_test)\n",
    "print('Test MSE =',MSE(rf_final.predict(XX_new_test),yy_new_test))\n",
    "print('R2 =',r2_score(y_true, y_pred))"
   ]
  },
  {
   "cell_type": "markdown",
   "metadata": {},
   "source": [
    "## RF with K-fold to tune parameter"
   ]
  },
  {
   "cell_type": "code",
   "execution_count": 41,
   "metadata": {},
   "outputs": [
    {
     "name": "stderr",
     "output_type": "stream",
     "text": [
      "C:\\ProgramData\\Anaconda3\\lib\\site-packages\\ipykernel_launcher.py:4: SettingWithCopyWarning: \n",
      "A value is trying to be set on a copy of a slice from a DataFrame.\n",
      "Try using .loc[row_indexer,col_indexer] = value instead\n",
      "\n",
      "See the caveats in the documentation: https://pandas.pydata.org/pandas-docs/stable/user_guide/indexing.html#returning-a-view-versus-a-copy\n",
      "  after removing the cwd from sys.path.\n"
     ]
    },
    {
     "data": {
      "text/html": [
       "<div>\n",
       "<style scoped>\n",
       "    .dataframe tbody tr th:only-of-type {\n",
       "        vertical-align: middle;\n",
       "    }\n",
       "\n",
       "    .dataframe tbody tr th {\n",
       "        vertical-align: top;\n",
       "    }\n",
       "\n",
       "    .dataframe thead th {\n",
       "        text-align: right;\n",
       "    }\n",
       "</style>\n",
       "<table border=\"1\" class=\"dataframe\">\n",
       "  <thead>\n",
       "    <tr style=\"text-align: right;\">\n",
       "      <th></th>\n",
       "      <th>clickVolume</th>\n",
       "      <th>ma14SalesVolume</th>\n",
       "      <th>meanAge</th>\n",
       "      <th>meanCityLevel</th>\n",
       "      <th>meanPurchasePower</th>\n",
       "      <th>meanEducation</th>\n",
       "      <th>discount</th>\n",
       "      <th>brandID_str_10</th>\n",
       "      <th>brandID_str_11</th>\n",
       "      <th>brandID_str_12</th>\n",
       "      <th>...</th>\n",
       "      <th>productID_str_70</th>\n",
       "      <th>productID_str_71</th>\n",
       "      <th>productID_str_72</th>\n",
       "      <th>productID_str_73</th>\n",
       "      <th>productID_str_74</th>\n",
       "      <th>productID_str_75</th>\n",
       "      <th>productID_str_76</th>\n",
       "      <th>productID_str_8</th>\n",
       "      <th>productID_str_9</th>\n",
       "      <th>sales</th>\n",
       "    </tr>\n",
       "  </thead>\n",
       "  <tbody>\n",
       "    <tr>\n",
       "      <th>0</th>\n",
       "      <td>2418.0</td>\n",
       "      <td>56.928571</td>\n",
       "      <td>31.694915</td>\n",
       "      <td>1.943396</td>\n",
       "      <td>2.120690</td>\n",
       "      <td>2.929825</td>\n",
       "      <td>0.777015</td>\n",
       "      <td>0</td>\n",
       "      <td>0</td>\n",
       "      <td>0</td>\n",
       "      <td>...</td>\n",
       "      <td>0</td>\n",
       "      <td>0</td>\n",
       "      <td>0</td>\n",
       "      <td>0</td>\n",
       "      <td>0</td>\n",
       "      <td>0</td>\n",
       "      <td>0</td>\n",
       "      <td>0</td>\n",
       "      <td>0</td>\n",
       "      <td>82</td>\n",
       "    </tr>\n",
       "    <tr>\n",
       "      <th>1</th>\n",
       "      <td>1723.0</td>\n",
       "      <td>49.285714</td>\n",
       "      <td>30.652174</td>\n",
       "      <td>2.093023</td>\n",
       "      <td>2.302326</td>\n",
       "      <td>2.928571</td>\n",
       "      <td>0.741343</td>\n",
       "      <td>0</td>\n",
       "      <td>0</td>\n",
       "      <td>0</td>\n",
       "      <td>...</td>\n",
       "      <td>0</td>\n",
       "      <td>0</td>\n",
       "      <td>0</td>\n",
       "      <td>0</td>\n",
       "      <td>0</td>\n",
       "      <td>0</td>\n",
       "      <td>0</td>\n",
       "      <td>0</td>\n",
       "      <td>0</td>\n",
       "      <td>48</td>\n",
       "    </tr>\n",
       "    <tr>\n",
       "      <th>2</th>\n",
       "      <td>1666.0</td>\n",
       "      <td>48.857143</td>\n",
       "      <td>31.370370</td>\n",
       "      <td>2.104167</td>\n",
       "      <td>2.153846</td>\n",
       "      <td>2.941176</td>\n",
       "      <td>0.719499</td>\n",
       "      <td>0</td>\n",
       "      <td>0</td>\n",
       "      <td>0</td>\n",
       "      <td>...</td>\n",
       "      <td>0</td>\n",
       "      <td>0</td>\n",
       "      <td>0</td>\n",
       "      <td>0</td>\n",
       "      <td>0</td>\n",
       "      <td>0</td>\n",
       "      <td>0</td>\n",
       "      <td>0</td>\n",
       "      <td>0</td>\n",
       "      <td>56</td>\n",
       "    </tr>\n",
       "    <tr>\n",
       "      <th>3</th>\n",
       "      <td>386.0</td>\n",
       "      <td>19.714286</td>\n",
       "      <td>32.222222</td>\n",
       "      <td>2.888889</td>\n",
       "      <td>2.444444</td>\n",
       "      <td>3.111111</td>\n",
       "      <td>0.581755</td>\n",
       "      <td>0</td>\n",
       "      <td>0</td>\n",
       "      <td>0</td>\n",
       "      <td>...</td>\n",
       "      <td>0</td>\n",
       "      <td>0</td>\n",
       "      <td>0</td>\n",
       "      <td>0</td>\n",
       "      <td>0</td>\n",
       "      <td>0</td>\n",
       "      <td>0</td>\n",
       "      <td>0</td>\n",
       "      <td>0</td>\n",
       "      <td>17</td>\n",
       "    </tr>\n",
       "    <tr>\n",
       "      <th>4</th>\n",
       "      <td>1419.0</td>\n",
       "      <td>66.214286</td>\n",
       "      <td>31.020408</td>\n",
       "      <td>2.042553</td>\n",
       "      <td>2.468085</td>\n",
       "      <td>2.978723</td>\n",
       "      <td>0.734709</td>\n",
       "      <td>0</td>\n",
       "      <td>0</td>\n",
       "      <td>0</td>\n",
       "      <td>...</td>\n",
       "      <td>0</td>\n",
       "      <td>0</td>\n",
       "      <td>0</td>\n",
       "      <td>0</td>\n",
       "      <td>0</td>\n",
       "      <td>0</td>\n",
       "      <td>0</td>\n",
       "      <td>0</td>\n",
       "      <td>0</td>\n",
       "      <td>61</td>\n",
       "    </tr>\n",
       "  </tbody>\n",
       "</table>\n",
       "<p>5 rows × 111 columns</p>\n",
       "</div>"
      ],
      "text/plain": [
       "   clickVolume  ma14SalesVolume    meanAge  meanCityLevel  meanPurchasePower  \\\n",
       "0       2418.0        56.928571  31.694915       1.943396           2.120690   \n",
       "1       1723.0        49.285714  30.652174       2.093023           2.302326   \n",
       "2       1666.0        48.857143  31.370370       2.104167           2.153846   \n",
       "3        386.0        19.714286  32.222222       2.888889           2.444444   \n",
       "4       1419.0        66.214286  31.020408       2.042553           2.468085   \n",
       "\n",
       "   meanEducation  discount  brandID_str_10  brandID_str_11  brandID_str_12  \\\n",
       "0       2.929825  0.777015               0               0               0   \n",
       "1       2.928571  0.741343               0               0               0   \n",
       "2       2.941176  0.719499               0               0               0   \n",
       "3       3.111111  0.581755               0               0               0   \n",
       "4       2.978723  0.734709               0               0               0   \n",
       "\n",
       "   ...  productID_str_70  productID_str_71  productID_str_72  \\\n",
       "0  ...                 0                 0                 0   \n",
       "1  ...                 0                 0                 0   \n",
       "2  ...                 0                 0                 0   \n",
       "3  ...                 0                 0                 0   \n",
       "4  ...                 0                 0                 0   \n",
       "\n",
       "   productID_str_73  productID_str_74  productID_str_75  productID_str_76  \\\n",
       "0                 0                 0                 0                 0   \n",
       "1                 0                 0                 0                 0   \n",
       "2                 0                 0                 0                 0   \n",
       "3                 0                 0                 0                 0   \n",
       "4                 0                 0                 0                 0   \n",
       "\n",
       "   productID_str_8  productID_str_9  sales  \n",
       "0                0                0     82  \n",
       "1                0                0     48  \n",
       "2                0                0     56  \n",
       "3                0                0     17  \n",
       "4                0                0     61  \n",
       "\n",
       "[5 rows x 111 columns]"
      ]
     },
     "execution_count": 41,
     "metadata": {},
     "output_type": "execute_result"
    }
   ],
   "source": [
    "new_train = train[['clickVolume','ma14SalesVolume','avgOriginalUnitPrice','avgFinalUnitPrice','productID','brandID','meanAge','meanCityLevel','meanPurchasePower','meanEducation','sales']]\n",
    "new_train.head()\n",
    "X_new=new_train\n",
    "X_new['discount']=1-(X_new['avgOriginalUnitPrice']-X_new['avgFinalUnitPrice'])/X_new['avgOriginalUnitPrice']\n",
    "X_new=X_new.drop(['avgOriginalUnitPrice','avgFinalUnitPrice'],axis=1)\n",
    "X_new['brandID_str']=X_new['brandID'].astype(str)\n",
    "X_new['productID_str']=X_new['productID'].astype(str)\n",
    "X_new=X_new.drop(['brandID','productID'],axis=1)\n",
    "X_new=pd.get_dummies(X_new)\n",
    "XX_new=X_new.drop('sales',axis=1)\n",
    "yy_new=new_train['sales']\n",
    "data_new=pd.DataFrame(XX_new)\n",
    "data_new['sales']=yy_new\n",
    "data_new.head()"
   ]
  },
  {
   "cell_type": "markdown",
   "metadata": {},
   "source": [
    "### Parameter Tuning -- Max_depth"
   ]
  },
  {
   "cell_type": "code",
   "execution_count": 42,
   "metadata": {},
   "outputs": [],
   "source": [
    "from sklearn.model_selection import KFold"
   ]
  },
  {
   "cell_type": "code",
   "execution_count": 43,
   "metadata": {},
   "outputs": [
    {
     "data": {
      "image/png": "[encoded data removed]",
      "text/plain": [
       "<Figure size 432x288 with 1 Axes>"
      ]
     },
     "metadata": {
      "needs_background": "light"
     },
     "output_type": "display_data"
    }
   ],
   "source": [
    "def MSE_rf(depth):\n",
    "    rf=RandomForestRegressor(random_state=31,max_depth=depth,max_features=None,oob_score=True)\n",
    "    kf = KFold(n_splits=5)\n",
    "    mse_train=[]\n",
    "    mse_test=[]\n",
    "    for train_index, test_index in kf.split(data_new):\n",
    "        data_new_train = data_new.iloc[train_index]\n",
    "        data_new_test=data_new.iloc[test_index]\n",
    "        rf.fit(data_new_train.iloc[:,:-1],data_new_train['sales'])\n",
    "        mse_train.append(MSE(rf.predict(data_new_train.iloc[:,:-1]),data_new_train['sales']))\n",
    "        mse_test.append(MSE(rf.predict(data_new_test.iloc[:,:-1]),data_new_test['sales'])) \n",
    "    return np.mean(mse_train),np.mean(mse_test)\n",
    "\n",
    "max_depth = [i for i in range(1,20)]\n",
    "# max_depth = np.linspace(0, 10, num=10, endpoint=True, retstep=False, dtype=None, axis=0)\n",
    "mse_vect_test= []\n",
    "mse_vect_train= []\n",
    "for i in max_depth:\n",
    "    mse_vect_test.append(MSE_rf(i)[1])\n",
    "    mse_vect_train.append(MSE_rf(i)[0])    \n",
    "    \n",
    "plt.plot(max_depth,mse_vect_test,label='test MSE')\n",
    "plt.plot(max_depth,mse_vect_train,label='train MSE')\n",
    "plt.xlabel('Max_depth')\n",
    "plt.ylabel('MSE')\n",
    "plt.legend(loc=1)\n",
    "plt.show()"
   ]
  },
  {
   "cell_type": "markdown",
   "metadata": {},
   "source": [
    "### Best max_depth"
   ]
  },
  {
   "cell_type": "code",
   "execution_count": 44,
   "metadata": {},
   "outputs": [
    {
     "name": "stdout",
     "output_type": "stream",
     "text": [
      "best_max_depth 15\n",
      "corresponding_test_mse 2176.9652347142332\n"
     ]
    }
   ],
   "source": [
    "index = np.argmin(mse_vect_test)\n",
    "best_max_depth = max_depth[index]\n",
    "corresponding_test_mse = mse_vect_test[index]\n",
    "print('best_max_depth',best_max_depth)\n",
    "print('corresponding_test_mse',corresponding_test_mse)"
   ]
  },
  {
   "cell_type": "markdown",
   "metadata": {},
   "source": [
    "### Parameter Tuning -- min_samples_leaf"
   ]
  },
  {
   "cell_type": "code",
   "execution_count": 45,
   "metadata": {},
   "outputs": [],
   "source": [
    "def MSE_rf(leaf):\n",
    "    rf=RandomForestRegressor(random_state=31,max_depth = best_max_depth,min_samples_leaf=leaf,max_features=None,oob_score=True)\n",
    "    kf = KFold(n_splits=5)\n",
    "    mse_train=[]\n",
    "    mse_test=[]\n",
    "    for train_index, test_index in kf.split(data_new):\n",
    "        data_new_train = data_new.iloc[train_index]\n",
    "        data_new_test=data_new.iloc[test_index]\n",
    "        rf.fit(data_new_train.iloc[:,:-1],data_new_train['sales'])\n",
    "        mse_train.append(MSE(rf.predict(data_new_train.iloc[:,:-1]),data_new_train['sales']))\n",
    "        mse_test.append(MSE(rf.predict(data_new_test.iloc[:,:-1]),data_new_test['sales'])) \n",
    "    return np.mean(mse_train),np.mean(mse_test)\n",
    "\n",
    "min_sample_leaf = [i for i in range(1,10)]\n",
    "mse_vect_test= []\n",
    "mse_vect_train= []\n",
    "for i in min_sample_leaf:\n",
    "    mse_vect_test.append(MSE_rf(i)[1])\n",
    "    mse_vect_train.append(MSE_rf(i)[0])    "
   ]
  },
  {
   "cell_type": "code",
   "execution_count": 46,
   "metadata": {},
   "outputs": [
    {
     "data": {
      "image/png": "[encoded data removed]",
      "text/plain": [
       "<Figure size 432x288 with 1 Axes>"
      ]
     },
     "metadata": {
      "needs_background": "light"
     },
     "output_type": "display_data"
    }
   ],
   "source": [
    "plt.plot(min_sample_leaf,mse_vect_test,label='test MSE')\n",
    "plt.plot(min_sample_leaf,mse_vect_train,label='train MSE')\n",
    "plt.xlabel('min_sample_leaf')\n",
    "plt.ylabel('MSE')\n",
    "plt.legend(loc=1)\n",
    "plt.show()"
   ]
  },
  {
   "cell_type": "markdown",
   "metadata": {},
   "source": [
    "### Best min_sample_leaf"
   ]
  },
  {
   "cell_type": "code",
   "execution_count": 47,
   "metadata": {},
   "outputs": [
    {
     "name": "stdout",
     "output_type": "stream",
     "text": [
      "best_min_sample_leaf 1\n",
      "corresponding_test_mse 2176.9652347142332\n"
     ]
    }
   ],
   "source": [
    "index = np.argmin(mse_vect_test)\n",
    "best_min_sample_leaf = min_sample_leaf[index]\n",
    "corresponding_test_mse = mse_vect_test[index]\n",
    "print('best_min_sample_leaf',best_min_sample_leaf)\n",
    "print('corresponding_test_mse',corresponding_test_mse)"
   ]
  },
  {
   "cell_type": "markdown",
   "metadata": {},
   "source": [
    "### Parameter Tuning -- n_estimators"
   ]
  },
  {
   "cell_type": "code",
   "execution_count": 48,
   "metadata": {},
   "outputs": [
    {
     "data": {
      "image/png": "[encoded data removed]",
      "text/plain": [
       "<Figure size 432x288 with 1 Axes>"
      ]
     },
     "metadata": {
      "needs_background": "light"
     },
     "output_type": "display_data"
    }
   ],
   "source": [
    "def MSE_rf(estimator):\n",
    "    rf=RandomForestRegressor(random_state=31,n_estimators = estimator,max_depth = best_max_depth,min_samples_leaf=best_min_sample_leaf,max_features=None,oob_score=True)\n",
    "    kf = KFold(n_splits=5)\n",
    "    mse_train=[]\n",
    "    mse_test=[]\n",
    "    for train_index, test_index in kf.split(data_new):\n",
    "        data_new_train = data_new.iloc[train_index]\n",
    "        data_new_test=data_new.iloc[test_index]\n",
    "        rf.fit(data_new_train.iloc[:,:-1],data_new_train['sales'])\n",
    "        mse_train.append(MSE(rf.predict(data_new_train.iloc[:,:-1]),data_new_train['sales']))\n",
    "        mse_test.append(MSE(rf.predict(data_new_test.iloc[:,:-1]),data_new_test['sales'])) \n",
    "    return np.mean(mse_train),np.mean(mse_test)\n",
    "\n",
    "n_estimator = [100,200,300,500,1000,1200]\n",
    "mse_vect_test= []\n",
    "mse_vect_train= []\n",
    "for i in n_estimator:\n",
    "    mse_vect_test.append(MSE_rf(i)[1])\n",
    "    mse_vect_train.append(MSE_rf(i)[0])    \n",
    "    \n",
    "plt.plot(n_estimator,mse_vect_test,label='test MSE')\n",
    "plt.plot(n_estimator,mse_vect_train,label='train MSE')\n",
    "plt.xlabel('n_estimator')\n",
    "plt.ylabel('MSE')\n",
    "plt.legend(loc=1)\n",
    "plt.show()"
   ]
  },
  {
   "cell_type": "markdown",
   "metadata": {},
   "source": [
    "### Best n_estimators"
   ]
  },
  {
   "cell_type": "code",
   "execution_count": 49,
   "metadata": {},
   "outputs": [
    {
     "name": "stdout",
     "output_type": "stream",
     "text": [
      "best_n_estimator 100\n",
      "corresponding_test_mse 2176.9652347142332\n"
     ]
    }
   ],
   "source": [
    "index = np.argmin(mse_vect_test)\n",
    "best_n_estimator = n_estimator[index]\n",
    "corresponding_test_mse = mse_vect_test[index]\n",
    "print('best_n_estimator',best_n_estimator)\n",
    "print('corresponding_test_mse',corresponding_test_mse)"
   ]
  },
  {
   "cell_type": "markdown",
   "metadata": {},
   "source": [
    "### Parameter Tuning -- ccp_alpha"
   ]
  },
  {
   "cell_type": "code",
   "execution_count": 50,
   "metadata": {},
   "outputs": [
    {
     "data": {
      "image/png": "[encoded data removed]",
      "text/plain": [
       "<Figure size 432x288 with 1 Axes>"
      ]
     },
     "metadata": {
      "needs_background": "light"
     },
     "output_type": "display_data"
    }
   ],
   "source": [
    "def MSE_rf(alpha):\n",
    "    rf=RandomForestRegressor(random_state=31,ccp_alpha = alpha,n_estimators = best_n_estimator,max_depth = best_max_depth,min_samples_leaf=best_min_sample_leaf,max_features=None,oob_score=True)\n",
    "    kf = KFold(n_splits=5)\n",
    "    mse_train=[]\n",
    "    mse_test=[]\n",
    "    for train_index, test_index in kf.split(data_new):\n",
    "        data_new_train = data_new.iloc[train_index]\n",
    "        data_new_test=data_new.iloc[test_index]\n",
    "        rf.fit(data_new_train.iloc[:,:-1],data_new_train['sales'])\n",
    "        mse_train.append(MSE(rf.predict(data_new_train.iloc[:,:-1]),data_new_train['sales']))\n",
    "        mse_test.append(MSE(rf.predict(data_new_test.iloc[:,:-1]),data_new_test['sales'])) \n",
    "    return np.mean(mse_train),np.mean(mse_test)\n",
    "\n",
    "ccp_alphas = np.linspace(0, 1, num=10, endpoint=True, retstep=False, axis=0)\n",
    "mse_vect_test= []\n",
    "mse_vect_train= []\n",
    "for i in ccp_alphas:\n",
    "    mse_vect_test.append(MSE_rf(i)[1])\n",
    "    mse_vect_train.append(MSE_rf(i)[0])\n",
    "    \n",
    "plt.plot(ccp_alphas,mse_vect_test,label='test MSE')\n",
    "plt.plot(ccp_alphas,mse_vect_train,label='train MSE')\n",
    "plt.xlabel('ccp_alphas')\n",
    "plt.ylabel('MSE')\n",
    "plt.legend(loc=1)\n",
    "plt.show()"
   ]
  },
  {
   "cell_type": "markdown",
   "metadata": {},
   "source": [
    "### Best ccp_alpha"
   ]
  },
  {
   "cell_type": "code",
   "execution_count": 51,
   "metadata": {},
   "outputs": [
    {
     "name": "stdout",
     "output_type": "stream",
     "text": [
      "best_ccp_alphas 0.0\n",
      "corresponding_test_mse 2176.9652347142332\n"
     ]
    }
   ],
   "source": [
    "index = np.argmin(mse_vect_test)\n",
    "best_ccp_alphas = ccp_alphas[index]\n",
    "corresponding_test_mse = mse_vect_test[index]\n",
    "print('best_ccp_alphas',best_ccp_alphas)\n",
    "print('corresponding_test_mse',corresponding_test_mse)"
   ]
  },
  {
   "cell_type": "markdown",
   "metadata": {},
   "source": [
    "### After Tuning MSE and R-sqr"
   ]
  },
  {
   "cell_type": "code",
   "execution_count": 52,
   "metadata": {},
   "outputs": [
    {
     "name": "stdout",
     "output_type": "stream",
     "text": [
      "Test MSE = 1833.2270991048747\n",
      "R2 = 0.8409868872700481\n"
     ]
    }
   ],
   "source": [
    "rf_final=RandomForestRegressor(random_state=31,n_estimators = best_n_estimator,ccp_alpha=best_ccp_alphas,max_depth = best_max_depth,min_samples_leaf=best_min_sample_leaf,\\\n",
    "                               max_features=None,oob_score=True)\n",
    "rf_final.fit(XX_new_train,yy_new_train)\n",
    "y_true = yy_new_test\n",
    "y_pred = rf_final.predict(XX_new_test)\n",
    "print('Test MSE =',MSE(rf_final.predict(XX_new_test),yy_new_test))\n",
    "print('R2 =',r2_score(y_true, y_pred))"
   ]
  },
  {
   "cell_type": "markdown",
   "metadata": {},
   "source": [
    "### Using K-fold to find average Train and Test MSE"
   ]
  },
  {
   "cell_type": "code",
   "execution_count": 53,
   "metadata": {},
   "outputs": [
    {
     "name": "stdout",
     "output_type": "stream",
     "text": [
      "Train MSE = 324.72457791412535 Test MSE = 2176.9652347142332\n"
     ]
    }
   ],
   "source": [
    "rf_final=RandomForestRegressor(random_state=31,n_estimators = best_n_estimator,ccp_alpha=best_ccp_alphas,max_depth = best_max_depth,min_samples_leaf=best_min_sample_leaf,max_features=None,oob_score=True)\n",
    "kf = KFold(n_splits=5)\n",
    "mse_train=[]\n",
    "mse_test=[]\n",
    "for train_index, test_index in kf.split(data_new):\n",
    "    data_new_train = data_new.iloc[train_index]\n",
    "    data_new_test=data_new.iloc[test_index]\n",
    "    rf_final.fit(data_new_train.iloc[:,:-1],data_new_train['sales'])\n",
    "    mse_train.append(MSE(rf_final.predict(data_new_train.iloc[:,:-1]),data_new_train['sales']))\n",
    "    mse_test.append(MSE(rf_final.predict(data_new_test.iloc[:,:-1]),data_new_test['sales'])) \n",
    "print('Train MSE =',np.mean(mse_train),'Test MSE =',np.mean(mse_test))"
   ]
  },
  {
   "cell_type": "markdown",
   "metadata": {},
   "source": [
    "# Gradient Boosting Regressor"
   ]
  },
  {
   "cell_type": "markdown",
   "metadata": {},
   "source": [
    "## GBR Feature Selection"
   ]
  },
  {
   "cell_type": "code",
   "execution_count": 2,
   "metadata": {},
   "outputs": [],
   "source": [
    "import pandas as pd\n",
    "import numpy as np\n",
    "import matplotlib.pyplot as plt\n",
    "from sklearn.model_selection import train_test_split\n",
    "from  sklearn.ensemble import GradientBoostingRegressor\n",
    "from sklearn.metrics import mean_squared_error as MSE"
   ]
  },
  {
   "cell_type": "code",
   "execution_count": 3,
   "metadata": {},
   "outputs": [],
   "source": [
    "train=pd.read_csv('Data-train.csv',index_col=0)"
   ]
  },
  {
   "cell_type": "markdown",
   "metadata": {},
   "source": [
    "### Variation 1: all parametres, MSE 1501"
   ]
  },
  {
   "cell_type": "code",
   "execution_count": 4,
   "metadata": {},
   "outputs": [
    {
     "data": {
      "text/html": [
       "<div>\n",
       "<style scoped>\n",
       "    .dataframe tbody tr th:only-of-type {\n",
       "        vertical-align: middle;\n",
       "    }\n",
       "\n",
       "    .dataframe tbody tr th {\n",
       "        vertical-align: top;\n",
       "    }\n",
       "\n",
       "    .dataframe thead th {\n",
       "        text-align: right;\n",
       "    }\n",
       "</style>\n",
       "<table border=\"1\" class=\"dataframe\">\n",
       "  <thead>\n",
       "    <tr style=\"text-align: right;\">\n",
       "      <th></th>\n",
       "      <th>clickVolume</th>\n",
       "      <th>ma14SalesVolume</th>\n",
       "      <th>meanAge</th>\n",
       "      <th>gender</th>\n",
       "      <th>meanEducation</th>\n",
       "      <th>maritalStatus</th>\n",
       "      <th>plus</th>\n",
       "      <th>meanPurchasePower</th>\n",
       "      <th>meanUserLevel</th>\n",
       "      <th>meanCityLevel</th>\n",
       "      <th>...</th>\n",
       "      <th>attribute2_str_70.0</th>\n",
       "      <th>attribute2_str_80.0</th>\n",
       "      <th>attribute2_str_90.0</th>\n",
       "      <th>weekday_str_1</th>\n",
       "      <th>weekday_str_2</th>\n",
       "      <th>weekday_str_3</th>\n",
       "      <th>weekday_str_4</th>\n",
       "      <th>weekday_str_5</th>\n",
       "      <th>weekday_str_6</th>\n",
       "      <th>weekday_str_7</th>\n",
       "    </tr>\n",
       "  </thead>\n",
       "  <tbody>\n",
       "    <tr>\n",
       "      <th>0</th>\n",
       "      <td>2418.0</td>\n",
       "      <td>56.928571</td>\n",
       "      <td>31.694915</td>\n",
       "      <td>0.338983</td>\n",
       "      <td>2.929825</td>\n",
       "      <td>0.431034</td>\n",
       "      <td>0.269841</td>\n",
       "      <td>2.120690</td>\n",
       "      <td>3.079365</td>\n",
       "      <td>1.943396</td>\n",
       "      <td>...</td>\n",
       "      <td>0</td>\n",
       "      <td>0</td>\n",
       "      <td>0</td>\n",
       "      <td>0</td>\n",
       "      <td>0</td>\n",
       "      <td>0</td>\n",
       "      <td>0</td>\n",
       "      <td>1</td>\n",
       "      <td>0</td>\n",
       "      <td>0</td>\n",
       "    </tr>\n",
       "    <tr>\n",
       "      <th>1</th>\n",
       "      <td>1723.0</td>\n",
       "      <td>49.285714</td>\n",
       "      <td>30.652174</td>\n",
       "      <td>0.217391</td>\n",
       "      <td>2.928571</td>\n",
       "      <td>0.604651</td>\n",
       "      <td>0.191489</td>\n",
       "      <td>2.302326</td>\n",
       "      <td>2.446809</td>\n",
       "      <td>2.093023</td>\n",
       "      <td>...</td>\n",
       "      <td>0</td>\n",
       "      <td>0</td>\n",
       "      <td>0</td>\n",
       "      <td>0</td>\n",
       "      <td>0</td>\n",
       "      <td>0</td>\n",
       "      <td>0</td>\n",
       "      <td>0</td>\n",
       "      <td>1</td>\n",
       "      <td>0</td>\n",
       "    </tr>\n",
       "    <tr>\n",
       "      <th>2</th>\n",
       "      <td>1666.0</td>\n",
       "      <td>48.857143</td>\n",
       "      <td>31.370370</td>\n",
       "      <td>0.148148</td>\n",
       "      <td>2.941176</td>\n",
       "      <td>0.519231</td>\n",
       "      <td>0.357143</td>\n",
       "      <td>2.153846</td>\n",
       "      <td>2.839286</td>\n",
       "      <td>2.104167</td>\n",
       "      <td>...</td>\n",
       "      <td>0</td>\n",
       "      <td>0</td>\n",
       "      <td>0</td>\n",
       "      <td>0</td>\n",
       "      <td>0</td>\n",
       "      <td>0</td>\n",
       "      <td>1</td>\n",
       "      <td>0</td>\n",
       "      <td>0</td>\n",
       "      <td>0</td>\n",
       "    </tr>\n",
       "    <tr>\n",
       "      <th>3</th>\n",
       "      <td>386.0</td>\n",
       "      <td>19.714286</td>\n",
       "      <td>32.222222</td>\n",
       "      <td>0.333333</td>\n",
       "      <td>3.111111</td>\n",
       "      <td>0.333333</td>\n",
       "      <td>0.272727</td>\n",
       "      <td>2.444444</td>\n",
       "      <td>2.700000</td>\n",
       "      <td>2.888889</td>\n",
       "      <td>...</td>\n",
       "      <td>0</td>\n",
       "      <td>1</td>\n",
       "      <td>0</td>\n",
       "      <td>0</td>\n",
       "      <td>0</td>\n",
       "      <td>0</td>\n",
       "      <td>1</td>\n",
       "      <td>0</td>\n",
       "      <td>0</td>\n",
       "      <td>0</td>\n",
       "    </tr>\n",
       "    <tr>\n",
       "      <th>4</th>\n",
       "      <td>1419.0</td>\n",
       "      <td>66.214286</td>\n",
       "      <td>31.020408</td>\n",
       "      <td>0.183673</td>\n",
       "      <td>2.978723</td>\n",
       "      <td>0.425532</td>\n",
       "      <td>0.218182</td>\n",
       "      <td>2.468085</td>\n",
       "      <td>2.490909</td>\n",
       "      <td>2.042553</td>\n",
       "      <td>...</td>\n",
       "      <td>0</td>\n",
       "      <td>0</td>\n",
       "      <td>0</td>\n",
       "      <td>0</td>\n",
       "      <td>0</td>\n",
       "      <td>0</td>\n",
       "      <td>1</td>\n",
       "      <td>0</td>\n",
       "      <td>0</td>\n",
       "      <td>0</td>\n",
       "    </tr>\n",
       "  </tbody>\n",
       "</table>\n",
       "<p>5 rows × 57 columns</p>\n",
       "</div>"
      ],
      "text/plain": [
       "   clickVolume  ma14SalesVolume    meanAge    gender  meanEducation  \\\n",
       "0       2418.0        56.928571  31.694915  0.338983       2.929825   \n",
       "1       1723.0        49.285714  30.652174  0.217391       2.928571   \n",
       "2       1666.0        48.857143  31.370370  0.148148       2.941176   \n",
       "3        386.0        19.714286  32.222222  0.333333       3.111111   \n",
       "4       1419.0        66.214286  31.020408  0.183673       2.978723   \n",
       "\n",
       "   maritalStatus      plus  meanPurchasePower  meanUserLevel  meanCityLevel  \\\n",
       "0       0.431034  0.269841           2.120690       3.079365       1.943396   \n",
       "1       0.604651  0.191489           2.302326       2.446809       2.093023   \n",
       "2       0.519231  0.357143           2.153846       2.839286       2.104167   \n",
       "3       0.333333  0.272727           2.444444       2.700000       2.888889   \n",
       "4       0.425532  0.218182           2.468085       2.490909       2.042553   \n",
       "\n",
       "   ...  attribute2_str_70.0  attribute2_str_80.0  attribute2_str_90.0  \\\n",
       "0  ...                    0                    0                    0   \n",
       "1  ...                    0                    0                    0   \n",
       "2  ...                    0                    0                    0   \n",
       "3  ...                    0                    1                    0   \n",
       "4  ...                    0                    0                    0   \n",
       "\n",
       "   weekday_str_1  weekday_str_2  weekday_str_3  weekday_str_4  weekday_str_5  \\\n",
       "0              0              0              0              0              1   \n",
       "1              0              0              0              0              0   \n",
       "2              0              0              0              1              0   \n",
       "3              0              0              0              1              0   \n",
       "4              0              0              0              1              0   \n",
       "\n",
       "   weekday_str_6  weekday_str_7  \n",
       "0              0              0  \n",
       "1              1              0  \n",
       "2              0              0  \n",
       "3              0              0  \n",
       "4              0              0  \n",
       "\n",
       "[5 rows x 57 columns]"
      ]
     },
     "execution_count": 4,
     "metadata": {},
     "output_type": "execute_result"
    }
   ],
   "source": [
    "X=train.drop(['productID'], axis=1)\n",
    "X['discount']=1-(X['avgOriginalUnitPrice']-X['avgFinalUnitPrice'])/X['avgOriginalUnitPrice']\n",
    "X=X.drop(['avgOriginalUnitPrice','avgFinalUnitPrice'],axis=1)\n",
    "X['brandID_str']=X['brandID'].astype(str)\n",
    "X['attribute1_str']=X['attribute1'].astype(str)\n",
    "X['attribute2_str']=X['attribute2'].astype(str)\n",
    "X['weekday_str']=X['weekday'].astype(str)\n",
    "X=X.drop(['brandID','attribute1','attribute2','weekday'],axis=1)\n",
    "X=pd.get_dummies(X)\n",
    "X.head()"
   ]
  },
  {
   "cell_type": "code",
   "execution_count": 5,
   "metadata": {},
   "outputs": [
    {
     "name": "stdout",
     "output_type": "stream",
     "text": [
      "1743\n"
     ]
    },
    {
     "data": {
      "text/plain": [
       "748"
      ]
     },
     "execution_count": 5,
     "metadata": {},
     "output_type": "execute_result"
    }
   ],
   "source": [
    "XX=X.drop('sales',axis=1)\n",
    "yy=X['sales']\n",
    "XX_train, XX_test, yy_train, yy_test = train_test_split(XX,yy,train_size=int(0.7*len(XX)), random_state=42)\n",
    "print(len(XX_train))\n",
    "len(XX_test)"
   ]
  },
  {
   "cell_type": "code",
   "execution_count": 6,
   "metadata": {},
   "outputs": [
    {
     "data": {
      "text/plain": [
       "1501.2284142745616"
      ]
     },
     "execution_count": 6,
     "metadata": {},
     "output_type": "execute_result"
    }
   ],
   "source": [
    "gbr = GradientBoostingRegressor(random_state=31)\n",
    "gbr.fit(XX_train,yy_train)\n",
    "MSE(gbr.predict(XX_test),yy_test)"
   ]
  },
  {
   "cell_type": "code",
   "execution_count": 7,
   "metadata": {},
   "outputs": [
    {
     "data": {
      "image/png": "[encoded data removed]",
      "text/plain": [
       "<Figure size 432x288 with 1 Axes>"
      ]
     },
     "metadata": {
      "needs_background": "light"
     },
     "output_type": "display_data"
    }
   ],
   "source": [
    "feature_imp = pd.Series(gbr.feature_importances_,index=XX_train.columns).sort_values(ascending=False)\n",
    "\n",
    "import seaborn as sns\n",
    "\n",
    "%matplotlib inline\n",
    "# Creating a bar plot\n",
    "sns.barplot(x=feature_imp[:20], y=feature_imp[:20].index)\n",
    "# Add labels to your graph\n",
    "plt.xlabel('Feature Importance Score')\n",
    "plt.ylabel('Features')\n",
    "plt.show()"
   ]
  },
  {
   "cell_type": "markdown",
   "metadata": {},
   "source": [
    "### Variation 2: exclude 'meanAge','maritalStatus','meanUserLevel', MSE 1450"
   ]
  },
  {
   "cell_type": "code",
   "execution_count": 8,
   "metadata": {},
   "outputs": [],
   "source": [
    "X=train.drop(['productID'], axis=1)\n",
    "X['discount']=1-(X['avgOriginalUnitPrice']-X['avgFinalUnitPrice'])/X['avgOriginalUnitPrice']\n",
    "X=X.drop(['avgOriginalUnitPrice','avgFinalUnitPrice'],axis=1)\n",
    "X=X.drop(['meanAge','maritalStatus','meanUserLevel'],axis=1)\n",
    "X['brandID_str']=X['brandID'].astype(str)\n",
    "X['attribute1_str']=X['attribute1'].astype(str)\n",
    "X['attribute2_str']=X['attribute2'].astype(str)\n",
    "X['weekday_str']=X['weekday'].astype(str)\n",
    "X=X.drop(['brandID','attribute1','attribute2','weekday'],axis=1)\n",
    "X=pd.get_dummies(X)\n",
    "XX=X.drop('sales',axis=1)\n",
    "yy=X['sales']\n",
    "XX_train, XX_test, yy_train, yy_test = train_test_split(XX,yy,train_size=int(0.7*len(XX)), random_state=42)"
   ]
  },
  {
   "cell_type": "code",
   "execution_count": 9,
   "metadata": {},
   "outputs": [
    {
     "data": {
      "text/plain": [
       "GradientBoostingRegressor(random_state=31)"
      ]
     },
     "execution_count": 9,
     "metadata": {},
     "output_type": "execute_result"
    }
   ],
   "source": [
    "gbr = GradientBoostingRegressor(random_state=31)\n",
    "gbr.fit(XX_train,yy_train)"
   ]
  },
  {
   "cell_type": "code",
   "execution_count": 10,
   "metadata": {},
   "outputs": [
    {
     "data": {
      "text/plain": [
       "1450.8626806683774"
      ]
     },
     "execution_count": 10,
     "metadata": {},
     "output_type": "execute_result"
    }
   ],
   "source": [
    "MSE(gbr.predict(XX_test),yy_test)"
   ]
  },
  {
   "cell_type": "code",
   "execution_count": 11,
   "metadata": {},
   "outputs": [
    {
     "data": {
      "image/png": "[encoded data removed]",
      "text/plain": [
       "<Figure size 432x288 with 1 Axes>"
      ]
     },
     "metadata": {
      "needs_background": "light"
     },
     "output_type": "display_data"
    }
   ],
   "source": [
    "feature_imp = pd.Series(gbr.feature_importances_,index=XX_train.columns).sort_values(ascending=False)\n",
    "\n",
    "%matplotlib inline\n",
    "# Creating a bar plot\n",
    "sns.barplot(x=feature_imp[:20], y=feature_imp[:20].index)\n",
    "# Add labels to your graph\n",
    "plt.xlabel('Feature Importance Score')\n",
    "plt.ylabel('Features')\n",
    "plt.show()"
   ]
  },
  {
   "cell_type": "markdown",
   "metadata": {},
   "source": [
    "### Variation 3:exclude 'brandID' 'meanAge','maritalStatus','meanUserLevel', MSE 1633"
   ]
  },
  {
   "cell_type": "code",
   "execution_count": 12,
   "metadata": {},
   "outputs": [
    {
     "data": {
      "text/plain": [
       "1633.1782387308085"
      ]
     },
     "execution_count": 12,
     "metadata": {},
     "output_type": "execute_result"
    }
   ],
   "source": [
    "X=train.drop(['productID','brandID'], axis=1)\n",
    "X['discount']=1-(X['avgOriginalUnitPrice']-X['avgFinalUnitPrice'])/X['avgOriginalUnitPrice']\n",
    "X=X.drop(['avgOriginalUnitPrice','avgFinalUnitPrice'],axis=1)\n",
    "X=X.drop(['meanAge','maritalStatus','meanUserLevel'],axis=1)\n",
    "X['attribute1_str']=X['attribute1'].astype(str)\n",
    "X['attribute2_str']=X['attribute2'].astype(str)\n",
    "X['weekday_str']=X['weekday'].astype(str)\n",
    "X=X.drop(['attribute1','attribute2','weekday'],axis=1)\n",
    "X=pd.get_dummies(X)\n",
    "\n",
    "XX=X.drop('sales',axis=1)\n",
    "yy=X['sales']\n",
    "XX_train, XX_test, yy_train, yy_test = train_test_split(XX,yy,train_size=int(0.7*len(XX)), random_state=42)\n",
    "\n",
    "gbr.fit(XX_train,yy_train)\n",
    "MSE(gbr.predict(XX_test),yy_test)"
   ]
  },
  {
   "cell_type": "markdown",
   "metadata": {},
   "source": [
    "### Conclusion on attribute selection:  Variation 2 gave the smallest MSE. We should exclude attributes 'meanAge','maritalStatus','meanUserLevel', and include a new attribute 'discount'\n"
   ]
  },
  {
   "cell_type": "markdown",
   "metadata": {},
   "source": [
    "## Parametre Tuning with variation 2"
   ]
  },
  {
   "cell_type": "code",
   "execution_count": 13,
   "metadata": {},
   "outputs": [
    {
     "data": {
      "text/plain": [
       "1450.8626806683774"
      ]
     },
     "execution_count": 13,
     "metadata": {},
     "output_type": "execute_result"
    }
   ],
   "source": [
    "X=train.drop(['productID'], axis=1)\n",
    "X['discount']=1-(X['avgOriginalUnitPrice']-X['avgFinalUnitPrice'])/X['avgOriginalUnitPrice']\n",
    "X=X.drop(['avgOriginalUnitPrice','avgFinalUnitPrice'],axis=1)\n",
    "X=X.drop(['meanAge','maritalStatus','meanUserLevel'],axis=1)\n",
    "X['brandID_str']=X['brandID'].astype(str)\n",
    "X['attribute1_str']=X['attribute1'].astype(str)\n",
    "X['attribute2_str']=X['attribute2'].astype(str)\n",
    "X['weekday_str']=X['weekday'].astype(str)\n",
    "X=X.drop(['brandID','attribute1','attribute2','weekday'],axis=1)\n",
    "X=pd.get_dummies(X)\n",
    "XX=X.drop('sales',axis=1)\n",
    "yy=X['sales']\n",
    "XX_train, XX_test, yy_train, yy_test = train_test_split(XX,yy,train_size=int(0.7*len(XX)), random_state=42)\n",
    "\n",
    "gbr = GradientBoostingRegressor(random_state=31)\n",
    "gbr.fit(XX_train,yy_train)\n",
    "MSE(gbr.predict(XX_test),yy_test)"
   ]
  },
  {
   "cell_type": "markdown",
   "metadata": {},
   "source": [
    "Base model gave a MSE=1450. Parameter tuning will be performed upon the base model."
   ]
  },
  {
   "cell_type": "markdown",
   "metadata": {},
   "source": [
    "### learning_rate"
   ]
  },
  {
   "cell_type": "code",
   "execution_count": 14,
   "metadata": {},
   "outputs": [
    {
     "data": {
      "image/png": "[encoded data removed]",
      "text/plain": [
       "<Figure size 432x288 with 1 Axes>"
      ]
     },
     "metadata": {
      "needs_background": "light"
     },
     "output_type": "display_data"
    }
   ],
   "source": [
    "learning_rates = [1, 0.5, 0.25, 0.1, 0.05, 0.01]\n",
    "train_mse = []\n",
    "test_mse = []\n",
    "for item in learning_rates:\n",
    "    model = GradientBoostingRegressor(random_state=31,learning_rate=item)\n",
    "    model.fit(XX_train, yy_train)\n",
    "    train_mse.append(MSE(model.predict(XX_train),yy_train))\n",
    "    test_mse.append(MSE(model.predict(XX_test),yy_test))\n",
    "    \n",
    "from matplotlib.legend_handler import HandlerLine2D\n",
    "plt.plot(learning_rates, test_mse, label='test MSE')\n",
    "plt.plot(learning_rates, train_mse,label='train MSE')\n",
    "plt.ylabel('MSE_results')\n",
    "plt.xlabel('learning_rates')\n",
    "plt.show()"
   ]
  },
  {
   "cell_type": "markdown",
   "metadata": {},
   "source": [
    "Result: 0.01 is the optimal learning rate."
   ]
  },
  {
   "cell_type": "markdown",
   "metadata": {},
   "source": [
    "### N_estimators"
   ]
  },
  {
   "cell_type": "code",
   "execution_count": 15,
   "metadata": {},
   "outputs": [
    {
     "data": {
      "image/png": "[encoded data removed]",
      "text/plain": [
       "<Figure size 432x288 with 1 Axes>"
      ]
     },
     "metadata": {
      "needs_background": "light"
     },
     "output_type": "display_data"
    }
   ],
   "source": [
    "n_estimators = [1, 2, 4, 8, 16, 32, 64, 100, 200]\n",
    "train_mse = []\n",
    "test_mse = []\n",
    "for item in n_estimators:\n",
    "    model = GradientBoostingRegressor(random_state=31,n_estimators=item)\n",
    "    model.fit(XX_train, yy_train)\n",
    "    train_mse.append(MSE(model.predict(XX_train),yy_train))\n",
    "    test_mse.append(MSE(model.predict(XX_test),yy_test))\n",
    "    \n",
    "plt.plot(n_estimators, test_mse, label='test MSE')\n",
    "plt.plot(n_estimators, train_mse,label='train MSE')\n",
    "plt.ylabel('MSE_results')\n",
    "plt.xlabel('n_estimators')\n",
    "plt.show()"
   ]
  },
  {
   "cell_type": "markdown",
   "metadata": {},
   "source": [
    "Increasing the number of estimators may result in overfitting also. In our case, using 64 trees is optimal."
   ]
  },
  {
   "cell_type": "markdown",
   "metadata": {},
   "source": [
    "## max_depth"
   ]
  },
  {
   "cell_type": "code",
   "execution_count": 16,
   "metadata": {},
   "outputs": [
    {
     "data": {
      "image/png": "[encoded data removed]",
      "text/plain": [
       "<Figure size 432x288 with 1 Axes>"
      ]
     },
     "metadata": {
      "needs_background": "light"
     },
     "output_type": "display_data"
    }
   ],
   "source": [
    "max_depths = np.linspace(1, 32, 32, endpoint=True)\n",
    "train_mse = []\n",
    "test_mse = []\n",
    "for item in max_depths:\n",
    "    model = GradientBoostingRegressor(random_state=31,max_depth=item)\n",
    "    model.fit(XX_train, yy_train)\n",
    "    train_mse.append(MSE(model.predict(XX_train),yy_train))\n",
    "    test_mse.append(MSE(model.predict(XX_test),yy_test))\n",
    "    \n",
    "plt.plot(max_depths, test_mse, label='test MSE')\n",
    "plt.plot(max_depths, train_mse,label='train MSE')\n",
    "plt.ylabel('MSE_results')\n",
    "plt.xlabel('max_depths')\n",
    "plt.show()"
   ]
  },
  {
   "cell_type": "markdown",
   "metadata": {},
   "source": [
    "\n",
    "In our case, using depth=5 is optimal."
   ]
  },
  {
   "cell_type": "markdown",
   "metadata": {},
   "source": [
    "## max_features\n"
   ]
  },
  {
   "cell_type": "code",
   "execution_count": 17,
   "metadata": {},
   "outputs": [
    {
     "data": {
      "image/png": "[encoded data removed]",
      "text/plain": [
       "<Figure size 432x288 with 1 Axes>"
      ]
     },
     "metadata": {
      "needs_background": "light"
     },
     "output_type": "display_data"
    }
   ],
   "source": [
    "max_features = list(range(1,XX.shape[1]))\n",
    "train_mse = []\n",
    "test_mse = []\n",
    "\n",
    "for item in max_features:\n",
    "   model = GradientBoostingRegressor(random_state=31,max_features=item)\n",
    "   model.fit(XX_train, yy_train)\n",
    "   train_mse.append(MSE(model.predict(XX_train),yy_train))\n",
    "   test_mse.append(MSE(model.predict(XX_test),yy_test))\n",
    "    \n",
    "plt.plot(max_features, test_mse, label='test MSE')\n",
    "plt.plot(max_features, train_mse,label='train MSE')\n",
    "plt.ylabel('MSE_results')\n",
    "plt.xlabel('max_features')\n",
    "plt.show()"
   ]
  },
  {
   "cell_type": "markdown",
   "metadata": {},
   "source": [
    "As the graph does not converge, there is no best max_features"
   ]
  },
  {
   "cell_type": "markdown",
   "metadata": {},
   "source": [
    "## After tuning: New Model with MSE1400"
   ]
  },
  {
   "cell_type": "code",
   "execution_count": 18,
   "metadata": {},
   "outputs": [
    {
     "data": {
      "text/plain": [
       "1399.985198478923"
      ]
     },
     "execution_count": 18,
     "metadata": {},
     "output_type": "execute_result"
    }
   ],
   "source": [
    "XX=X.drop('sales',axis=1)\n",
    "yy=X['sales']\n",
    "XX_train, XX_test, yy_train, yy_test = train_test_split(XX,yy,train_size=int(0.7*len(XX)), random_state=42)\n",
    "gbr = GradientBoostingRegressor(random_state=31,learning_rate=0.1,n_estimators=64,max_depth=5)\n",
    "gbr.fit(XX_train,yy_train)\n",
    "MSE(gbr.predict(XX_test),yy_test)"
   ]
  },
  {
   "cell_type": "code",
   "execution_count": 19,
   "metadata": {},
   "outputs": [
    {
     "data": {
      "text/plain": [
       "0.878566052021219"
      ]
     },
     "execution_count": 19,
     "metadata": {},
     "output_type": "execute_result"
    }
   ],
   "source": [
    "from sklearn.metrics import r2_score\n",
    "y_true = yy_test\n",
    "y_pred = gbr.predict(XX_test)\n",
    "r2_score(y_true, y_pred)"
   ]
  },
  {
   "cell_type": "markdown",
   "metadata": {},
   "source": [
    "This model explained 88% of the variation."
   ]
  },
  {
   "cell_type": "markdown",
   "metadata": {},
   "source": [
    "## GBR with K-fold to tune parameter"
   ]
  },
  {
   "cell_type": "code",
   "execution_count": 20,
   "metadata": {},
   "outputs": [
    {
     "data": {
      "text/html": [
       "<div>\n",
       "<style scoped>\n",
       "    .dataframe tbody tr th:only-of-type {\n",
       "        vertical-align: middle;\n",
       "    }\n",
       "\n",
       "    .dataframe tbody tr th {\n",
       "        vertical-align: top;\n",
       "    }\n",
       "\n",
       "    .dataframe thead th {\n",
       "        text-align: right;\n",
       "    }\n",
       "</style>\n",
       "<table border=\"1\" class=\"dataframe\">\n",
       "  <thead>\n",
       "    <tr style=\"text-align: right;\">\n",
       "      <th></th>\n",
       "      <th>clickVolume</th>\n",
       "      <th>ma14SalesVolume</th>\n",
       "      <th>gender</th>\n",
       "      <th>meanEducation</th>\n",
       "      <th>plus</th>\n",
       "      <th>meanPurchasePower</th>\n",
       "      <th>meanCityLevel</th>\n",
       "      <th>discount</th>\n",
       "      <th>brandID_str_10</th>\n",
       "      <th>brandID_str_11</th>\n",
       "      <th>...</th>\n",
       "      <th>attribute2_str_80.0</th>\n",
       "      <th>attribute2_str_90.0</th>\n",
       "      <th>weekday_str_1</th>\n",
       "      <th>weekday_str_2</th>\n",
       "      <th>weekday_str_3</th>\n",
       "      <th>weekday_str_4</th>\n",
       "      <th>weekday_str_5</th>\n",
       "      <th>weekday_str_6</th>\n",
       "      <th>weekday_str_7</th>\n",
       "      <th>sales</th>\n",
       "    </tr>\n",
       "  </thead>\n",
       "  <tbody>\n",
       "    <tr>\n",
       "      <th>0</th>\n",
       "      <td>2418.0</td>\n",
       "      <td>56.928571</td>\n",
       "      <td>0.338983</td>\n",
       "      <td>2.929825</td>\n",
       "      <td>0.269841</td>\n",
       "      <td>2.120690</td>\n",
       "      <td>1.943396</td>\n",
       "      <td>0.777015</td>\n",
       "      <td>0</td>\n",
       "      <td>0</td>\n",
       "      <td>...</td>\n",
       "      <td>0</td>\n",
       "      <td>0</td>\n",
       "      <td>0</td>\n",
       "      <td>0</td>\n",
       "      <td>0</td>\n",
       "      <td>0</td>\n",
       "      <td>1</td>\n",
       "      <td>0</td>\n",
       "      <td>0</td>\n",
       "      <td>82</td>\n",
       "    </tr>\n",
       "    <tr>\n",
       "      <th>1</th>\n",
       "      <td>1723.0</td>\n",
       "      <td>49.285714</td>\n",
       "      <td>0.217391</td>\n",
       "      <td>2.928571</td>\n",
       "      <td>0.191489</td>\n",
       "      <td>2.302326</td>\n",
       "      <td>2.093023</td>\n",
       "      <td>0.741343</td>\n",
       "      <td>0</td>\n",
       "      <td>0</td>\n",
       "      <td>...</td>\n",
       "      <td>0</td>\n",
       "      <td>0</td>\n",
       "      <td>0</td>\n",
       "      <td>0</td>\n",
       "      <td>0</td>\n",
       "      <td>0</td>\n",
       "      <td>0</td>\n",
       "      <td>1</td>\n",
       "      <td>0</td>\n",
       "      <td>48</td>\n",
       "    </tr>\n",
       "    <tr>\n",
       "      <th>2</th>\n",
       "      <td>1666.0</td>\n",
       "      <td>48.857143</td>\n",
       "      <td>0.148148</td>\n",
       "      <td>2.941176</td>\n",
       "      <td>0.357143</td>\n",
       "      <td>2.153846</td>\n",
       "      <td>2.104167</td>\n",
       "      <td>0.719499</td>\n",
       "      <td>0</td>\n",
       "      <td>0</td>\n",
       "      <td>...</td>\n",
       "      <td>0</td>\n",
       "      <td>0</td>\n",
       "      <td>0</td>\n",
       "      <td>0</td>\n",
       "      <td>0</td>\n",
       "      <td>1</td>\n",
       "      <td>0</td>\n",
       "      <td>0</td>\n",
       "      <td>0</td>\n",
       "      <td>56</td>\n",
       "    </tr>\n",
       "    <tr>\n",
       "      <th>3</th>\n",
       "      <td>386.0</td>\n",
       "      <td>19.714286</td>\n",
       "      <td>0.333333</td>\n",
       "      <td>3.111111</td>\n",
       "      <td>0.272727</td>\n",
       "      <td>2.444444</td>\n",
       "      <td>2.888889</td>\n",
       "      <td>0.581755</td>\n",
       "      <td>0</td>\n",
       "      <td>0</td>\n",
       "      <td>...</td>\n",
       "      <td>1</td>\n",
       "      <td>0</td>\n",
       "      <td>0</td>\n",
       "      <td>0</td>\n",
       "      <td>0</td>\n",
       "      <td>1</td>\n",
       "      <td>0</td>\n",
       "      <td>0</td>\n",
       "      <td>0</td>\n",
       "      <td>17</td>\n",
       "    </tr>\n",
       "    <tr>\n",
       "      <th>4</th>\n",
       "      <td>1419.0</td>\n",
       "      <td>66.214286</td>\n",
       "      <td>0.183673</td>\n",
       "      <td>2.978723</td>\n",
       "      <td>0.218182</td>\n",
       "      <td>2.468085</td>\n",
       "      <td>2.042553</td>\n",
       "      <td>0.734709</td>\n",
       "      <td>0</td>\n",
       "      <td>0</td>\n",
       "      <td>...</td>\n",
       "      <td>0</td>\n",
       "      <td>0</td>\n",
       "      <td>0</td>\n",
       "      <td>0</td>\n",
       "      <td>0</td>\n",
       "      <td>1</td>\n",
       "      <td>0</td>\n",
       "      <td>0</td>\n",
       "      <td>0</td>\n",
       "      <td>61</td>\n",
       "    </tr>\n",
       "  </tbody>\n",
       "</table>\n",
       "<p>5 rows × 54 columns</p>\n",
       "</div>"
      ],
      "text/plain": [
       "   clickVolume  ma14SalesVolume    gender  meanEducation      plus  \\\n",
       "0       2418.0        56.928571  0.338983       2.929825  0.269841   \n",
       "1       1723.0        49.285714  0.217391       2.928571  0.191489   \n",
       "2       1666.0        48.857143  0.148148       2.941176  0.357143   \n",
       "3        386.0        19.714286  0.333333       3.111111  0.272727   \n",
       "4       1419.0        66.214286  0.183673       2.978723  0.218182   \n",
       "\n",
       "   meanPurchasePower  meanCityLevel  discount  brandID_str_10  brandID_str_11  \\\n",
       "0           2.120690       1.943396  0.777015               0               0   \n",
       "1           2.302326       2.093023  0.741343               0               0   \n",
       "2           2.153846       2.104167  0.719499               0               0   \n",
       "3           2.444444       2.888889  0.581755               0               0   \n",
       "4           2.468085       2.042553  0.734709               0               0   \n",
       "\n",
       "   ...  attribute2_str_80.0  attribute2_str_90.0  weekday_str_1  \\\n",
       "0  ...                    0                    0              0   \n",
       "1  ...                    0                    0              0   \n",
       "2  ...                    0                    0              0   \n",
       "3  ...                    1                    0              0   \n",
       "4  ...                    0                    0              0   \n",
       "\n",
       "   weekday_str_2  weekday_str_3  weekday_str_4  weekday_str_5  weekday_str_6  \\\n",
       "0              0              0              0              1              0   \n",
       "1              0              0              0              0              1   \n",
       "2              0              0              1              0              0   \n",
       "3              0              0              1              0              0   \n",
       "4              0              0              1              0              0   \n",
       "\n",
       "   weekday_str_7  sales  \n",
       "0              0     82  \n",
       "1              0     48  \n",
       "2              0     56  \n",
       "3              0     17  \n",
       "4              0     61  \n",
       "\n",
       "[5 rows x 54 columns]"
      ]
     },
     "execution_count": 20,
     "metadata": {},
     "output_type": "execute_result"
    }
   ],
   "source": [
    "X=train.drop(['productID'], axis=1)\n",
    "X['discount']=1-(X['avgOriginalUnitPrice']-X['avgFinalUnitPrice'])/X['avgOriginalUnitPrice']\n",
    "X=X.drop(['avgOriginalUnitPrice','avgFinalUnitPrice'],axis=1)\n",
    "X=X.drop(['meanAge','maritalStatus','meanUserLevel'],axis=1)\n",
    "X['brandID_str']=X['brandID'].astype(str)\n",
    "X['attribute1_str']=X['attribute1'].astype(str)\n",
    "X['attribute2_str']=X['attribute2'].astype(str)\n",
    "X['weekday_str']=X['weekday'].astype(str)\n",
    "X=X.drop(['brandID','attribute1','attribute2','weekday'],axis=1)\n",
    "X=pd.get_dummies(X)\n",
    "XX=X.drop('sales',axis=1)\n",
    "yy=X['sales']\n",
    "data_new = pd.concat([XX,yy],axis=1)\n",
    "data_new.head()"
   ]
  },
  {
   "cell_type": "markdown",
   "metadata": {},
   "source": [
    "### learning_rate with K-Fold"
   ]
  },
  {
   "cell_type": "code",
   "execution_count": 21,
   "metadata": {},
   "outputs": [],
   "source": [
    "from sklearn.model_selection import KFold"
   ]
  },
  {
   "cell_type": "code",
   "execution_count": 22,
   "metadata": {},
   "outputs": [
    {
     "data": {
      "image/png": "[encoded data removed]",
      "text/plain": [
       "<Figure size 432x288 with 1 Axes>"
      ]
     },
     "metadata": {
      "needs_background": "light"
     },
     "output_type": "display_data"
    }
   ],
   "source": [
    "def MSE_rf(item):\n",
    "    rf=GradientBoostingRegressor(random_state=31,learning_rate=item)\n",
    "    kf = KFold(n_splits=5)\n",
    "    mse_train=[]\n",
    "    mse_test=[]\n",
    "    for train_index, test_index in kf.split(data_new):\n",
    "        data_new_train = data_new.iloc[train_index]\n",
    "        data_new_test=data_new.iloc[test_index]\n",
    "        rf.fit(data_new_train.iloc[:,:-1],data_new_train['sales'])\n",
    "        mse_train.append(MSE(rf.predict(data_new_train.iloc[:,:-1]),data_new_train['sales']))\n",
    "        mse_test.append(MSE(rf.predict(data_new_test.iloc[:,:-1]),data_new_test['sales'])) \n",
    "    return np.mean(mse_train),np.mean(mse_test)\n",
    "\n",
    "learning_rates = [1, 0.5, 0.25, 0.1, 0.05, 0.01]\n",
    "mse_vect_test= []\n",
    "mse_vect_train= []\n",
    "for i in learning_rates:\n",
    "    mse_vect_test.append(MSE_rf(i)[1])\n",
    "    mse_vect_train.append(MSE_rf(i)[0])    \n",
    "    \n",
    "plt.plot(learning_rates,mse_vect_test,label='test MSE')\n",
    "plt.plot(learning_rates,mse_vect_train,label='train MSE')\n",
    "plt.xlabel('learning_rates')\n",
    "plt.ylabel('MSE')\n",
    "plt.legend(loc=1)\n",
    "plt.show()"
   ]
  },
  {
   "cell_type": "markdown",
   "metadata": {},
   "source": [
    "### N_estimators with K-Fold"
   ]
  },
  {
   "cell_type": "code",
   "execution_count": 23,
   "metadata": {},
   "outputs": [
    {
     "data": {
      "image/png": "[encoded data removed]",
      "text/plain": [
       "<Figure size 432x288 with 1 Axes>"
      ]
     },
     "metadata": {
      "needs_background": "light"
     },
     "output_type": "display_data"
    }
   ],
   "source": [
    "def MSE_rf(item):\n",
    "    rf=GradientBoostingRegressor(random_state=31,n_estimators=item)\n",
    "    kf = KFold(n_splits=5)\n",
    "    mse_train=[]\n",
    "    mse_test=[]\n",
    "    for train_index, test_index in kf.split(data_new):\n",
    "        data_new_train = data_new.iloc[train_index]\n",
    "        data_new_test=data_new.iloc[test_index]\n",
    "        rf.fit(data_new_train.iloc[:,:-1],data_new_train['sales'])\n",
    "        mse_train.append(MSE(rf.predict(data_new_train.iloc[:,:-1]),data_new_train['sales']))\n",
    "        mse_test.append(MSE(rf.predict(data_new_test.iloc[:,:-1]),data_new_test['sales'])) \n",
    "    return np.mean(mse_train),np.mean(mse_test)\n",
    "\n",
    "n_estimators = [1, 2, 4, 8, 16, 32, 64, 100, 200]\n",
    "mse_vect_test= []\n",
    "mse_vect_train= []\n",
    "for i in n_estimators:\n",
    "    mse_vect_test.append(MSE_rf(i)[1])\n",
    "    mse_vect_train.append(MSE_rf(i)[0])    \n",
    "    \n",
    "plt.plot(n_estimators,mse_vect_test,label='test MSE')\n",
    "plt.plot(n_estimators,mse_vect_train,label='train MSE')\n",
    "plt.xlabel('n_estimators')\n",
    "plt.ylabel('MSE')\n",
    "plt.legend(loc=1)\n",
    "plt.show()"
   ]
  },
  {
   "cell_type": "markdown",
   "metadata": {},
   "source": [
    "### max_depth with K-Fold"
   ]
  },
  {
   "cell_type": "code",
   "execution_count": 43,
   "metadata": {},
   "outputs": [
    {
     "data": {
      "image/png": "[encoded data removed]",
      "text/plain": [
       "<Figure size 432x288 with 1 Axes>"
      ]
     },
     "metadata": {
      "needs_background": "light"
     },
     "output_type": "display_data"
    }
   ],
   "source": [
    "def MSE_rf(item):\n",
    "    rf=GradientBoostingRegressor(random_state=31,max_depth=item)\n",
    "    kf = KFold(n_splits=5)\n",
    "    mse_train=[]\n",
    "    mse_test=[]\n",
    "    for train_index, test_index in kf.split(data_new):\n",
    "        data_new_train = data_new.iloc[train_index]\n",
    "        data_new_test=data_new.iloc[test_index]\n",
    "        rf.fit(data_new_train.iloc[:,:-1],data_new_train['sales'])\n",
    "        mse_train.append(MSE(rf.predict(data_new_train.iloc[:,:-1]),data_new_train['sales']))\n",
    "        mse_test.append(MSE(rf.predict(data_new_test.iloc[:,:-1]),data_new_test['sales'])) \n",
    "    return np.mean(mse_train),np.mean(mse_test)\n",
    "\n",
    "max_depths = np.linspace(1, 32, 32, endpoint=True)\n",
    "mse_vect_test= []\n",
    "mse_vect_train= []\n",
    "for i in max_depths:\n",
    "    mse_vect_test.append(MSE_rf(i)[1])\n",
    "    mse_vect_train.append(MSE_rf(i)[0])    \n",
    "    \n",
    "plt.plot(max_depths,mse_vect_test,label='test MSE')\n",
    "plt.plot(max_depths,mse_vect_train,label='train MSE')\n",
    "plt.xlabel('max_depth')\n",
    "plt.ylabel('MSE')\n",
    "plt.legend(loc=1)\n",
    "plt.show()"
   ]
  },
  {
   "cell_type": "markdown",
   "metadata": {},
   "source": [
    "### max_features with K-Fold"
   ]
  },
  {
   "cell_type": "code",
   "execution_count": 44,
   "metadata": {},
   "outputs": [
    {
     "data": {
      "image/png": "[encoded data removed]",
      "text/plain": [
       "<Figure size 432x288 with 1 Axes>"
      ]
     },
     "metadata": {
      "needs_background": "light"
     },
     "output_type": "display_data"
    }
   ],
   "source": [
    "def MSE_rf(item):\n",
    "    rf=GradientBoostingRegressor(random_state=31,max_features=item)\n",
    "    kf = KFold(n_splits=5)\n",
    "    mse_train=[]\n",
    "    mse_test=[]\n",
    "    for train_index, test_index in kf.split(data_new):\n",
    "        data_new_train = data_new.iloc[train_index]\n",
    "        data_new_test=data_new.iloc[test_index]\n",
    "        rf.fit(data_new_train.iloc[:,:-1],data_new_train['sales'])\n",
    "        mse_train.append(MSE(rf.predict(data_new_train.iloc[:,:-1]),data_new_train['sales']))\n",
    "        mse_test.append(MSE(rf.predict(data_new_test.iloc[:,:-1]),data_new_test['sales'])) \n",
    "    return np.mean(mse_train),np.mean(mse_test)\n",
    "\n",
    "max_features = list(range(1,XX.shape[1]))\n",
    "mse_vect_test= []\n",
    "mse_vect_train= []\n",
    "for i in max_features:\n",
    "    mse_vect_test.append(MSE_rf(i)[1])\n",
    "    mse_vect_train.append(MSE_rf(i)[0])    \n",
    "    \n",
    "plt.plot(max_features,mse_vect_test,label='test MSE')\n",
    "plt.plot(max_features,mse_vect_train,label='train MSE')\n",
    "plt.xlabel('max_features')\n",
    "plt.ylabel('MSE')\n",
    "plt.legend(loc=1)\n",
    "plt.show()"
   ]
  },
  {
   "cell_type": "markdown",
   "metadata": {},
   "source": [
    "The parametre tuning with KFold method gave the same results as the one without KFold method"
   ]
  },
  {
   "cell_type": "markdown",
   "metadata": {},
   "source": [
    "# SVM"
   ]
  },
  {
   "cell_type": "code",
   "execution_count": 46,
   "metadata": {},
   "outputs": [],
   "source": [
    "from sklearn.svm import SVR\n",
    "from sklearn.preprocessing import StandardScaler"
   ]
  },
  {
   "cell_type": "code",
   "execution_count": 47,
   "metadata": {},
   "outputs": [
    {
     "name": "stdout",
     "output_type": "stream",
     "text": [
      "(4148, 18) (2491, 18) (1657, 17)\n"
     ]
    }
   ],
   "source": [
    "train=pd.read_csv('Data-train.csv',index_col=0)\n",
    "test=pd.read_csv('Data-test.csv',index_col=0)\n",
    "data= pd.concat([train,test])\n",
    "print(data.shape,train.shape,test.shape)"
   ]
  },
  {
   "cell_type": "code",
   "execution_count": 50,
   "metadata": {},
   "outputs": [
    {
     "data": {
      "text/html": [
       "<div>\n",
       "<style scoped>\n",
       "    .dataframe tbody tr th:only-of-type {\n",
       "        vertical-align: middle;\n",
       "    }\n",
       "\n",
       "    .dataframe tbody tr th {\n",
       "        vertical-align: top;\n",
       "    }\n",
       "\n",
       "    .dataframe thead th {\n",
       "        text-align: right;\n",
       "    }\n",
       "</style>\n",
       "<table border=\"1\" class=\"dataframe\">\n",
       "  <thead>\n",
       "    <tr style=\"text-align: right;\">\n",
       "      <th></th>\n",
       "      <th>clickVolume</th>\n",
       "      <th>ma14SalesVolume</th>\n",
       "      <th>gender</th>\n",
       "      <th>meanEducation</th>\n",
       "      <th>plus</th>\n",
       "      <th>meanPurchasePower</th>\n",
       "      <th>meanCityLevel</th>\n",
       "      <th>sales</th>\n",
       "      <th>discount</th>\n",
       "      <th>brandID_str_10</th>\n",
       "      <th>...</th>\n",
       "      <th>attribute2_str_70.0</th>\n",
       "      <th>attribute2_str_80.0</th>\n",
       "      <th>attribute2_str_90.0</th>\n",
       "      <th>weekday_str_1</th>\n",
       "      <th>weekday_str_2</th>\n",
       "      <th>weekday_str_3</th>\n",
       "      <th>weekday_str_4</th>\n",
       "      <th>weekday_str_5</th>\n",
       "      <th>weekday_str_6</th>\n",
       "      <th>weekday_str_7</th>\n",
       "    </tr>\n",
       "  </thead>\n",
       "  <tbody>\n",
       "    <tr>\n",
       "      <th>0</th>\n",
       "      <td>2418.0</td>\n",
       "      <td>56.928571</td>\n",
       "      <td>0.338983</td>\n",
       "      <td>2.929825</td>\n",
       "      <td>0.269841</td>\n",
       "      <td>2.120690</td>\n",
       "      <td>1.943396</td>\n",
       "      <td>82.0</td>\n",
       "      <td>0.777015</td>\n",
       "      <td>0</td>\n",
       "      <td>...</td>\n",
       "      <td>0</td>\n",
       "      <td>0</td>\n",
       "      <td>0</td>\n",
       "      <td>0</td>\n",
       "      <td>0</td>\n",
       "      <td>0</td>\n",
       "      <td>0</td>\n",
       "      <td>1</td>\n",
       "      <td>0</td>\n",
       "      <td>0</td>\n",
       "    </tr>\n",
       "    <tr>\n",
       "      <th>1</th>\n",
       "      <td>1723.0</td>\n",
       "      <td>49.285714</td>\n",
       "      <td>0.217391</td>\n",
       "      <td>2.928571</td>\n",
       "      <td>0.191489</td>\n",
       "      <td>2.302326</td>\n",
       "      <td>2.093023</td>\n",
       "      <td>48.0</td>\n",
       "      <td>0.741343</td>\n",
       "      <td>0</td>\n",
       "      <td>...</td>\n",
       "      <td>0</td>\n",
       "      <td>0</td>\n",
       "      <td>0</td>\n",
       "      <td>0</td>\n",
       "      <td>0</td>\n",
       "      <td>0</td>\n",
       "      <td>0</td>\n",
       "      <td>0</td>\n",
       "      <td>1</td>\n",
       "      <td>0</td>\n",
       "    </tr>\n",
       "    <tr>\n",
       "      <th>2</th>\n",
       "      <td>1666.0</td>\n",
       "      <td>48.857143</td>\n",
       "      <td>0.148148</td>\n",
       "      <td>2.941176</td>\n",
       "      <td>0.357143</td>\n",
       "      <td>2.153846</td>\n",
       "      <td>2.104167</td>\n",
       "      <td>56.0</td>\n",
       "      <td>0.719499</td>\n",
       "      <td>0</td>\n",
       "      <td>...</td>\n",
       "      <td>0</td>\n",
       "      <td>0</td>\n",
       "      <td>0</td>\n",
       "      <td>0</td>\n",
       "      <td>0</td>\n",
       "      <td>0</td>\n",
       "      <td>1</td>\n",
       "      <td>0</td>\n",
       "      <td>0</td>\n",
       "      <td>0</td>\n",
       "    </tr>\n",
       "    <tr>\n",
       "      <th>3</th>\n",
       "      <td>386.0</td>\n",
       "      <td>19.714286</td>\n",
       "      <td>0.333333</td>\n",
       "      <td>3.111111</td>\n",
       "      <td>0.272727</td>\n",
       "      <td>2.444444</td>\n",
       "      <td>2.888889</td>\n",
       "      <td>17.0</td>\n",
       "      <td>0.581755</td>\n",
       "      <td>0</td>\n",
       "      <td>...</td>\n",
       "      <td>0</td>\n",
       "      <td>1</td>\n",
       "      <td>0</td>\n",
       "      <td>0</td>\n",
       "      <td>0</td>\n",
       "      <td>0</td>\n",
       "      <td>1</td>\n",
       "      <td>0</td>\n",
       "      <td>0</td>\n",
       "      <td>0</td>\n",
       "    </tr>\n",
       "    <tr>\n",
       "      <th>4</th>\n",
       "      <td>1419.0</td>\n",
       "      <td>66.214286</td>\n",
       "      <td>0.183673</td>\n",
       "      <td>2.978723</td>\n",
       "      <td>0.218182</td>\n",
       "      <td>2.468085</td>\n",
       "      <td>2.042553</td>\n",
       "      <td>61.0</td>\n",
       "      <td>0.734709</td>\n",
       "      <td>0</td>\n",
       "      <td>...</td>\n",
       "      <td>0</td>\n",
       "      <td>0</td>\n",
       "      <td>0</td>\n",
       "      <td>0</td>\n",
       "      <td>0</td>\n",
       "      <td>0</td>\n",
       "      <td>1</td>\n",
       "      <td>0</td>\n",
       "      <td>0</td>\n",
       "      <td>0</td>\n",
       "    </tr>\n",
       "  </tbody>\n",
       "</table>\n",
       "<p>5 rows × 54 columns</p>\n",
       "</div>"
      ],
      "text/plain": [
       "   clickVolume  ma14SalesVolume    gender  meanEducation      plus  \\\n",
       "0       2418.0        56.928571  0.338983       2.929825  0.269841   \n",
       "1       1723.0        49.285714  0.217391       2.928571  0.191489   \n",
       "2       1666.0        48.857143  0.148148       2.941176  0.357143   \n",
       "3        386.0        19.714286  0.333333       3.111111  0.272727   \n",
       "4       1419.0        66.214286  0.183673       2.978723  0.218182   \n",
       "\n",
       "   meanPurchasePower  meanCityLevel  sales  discount  brandID_str_10  ...  \\\n",
       "0           2.120690       1.943396   82.0  0.777015               0  ...   \n",
       "1           2.302326       2.093023   48.0  0.741343               0  ...   \n",
       "2           2.153846       2.104167   56.0  0.719499               0  ...   \n",
       "3           2.444444       2.888889   17.0  0.581755               0  ...   \n",
       "4           2.468085       2.042553   61.0  0.734709               0  ...   \n",
       "\n",
       "   attribute2_str_70.0  attribute2_str_80.0  attribute2_str_90.0  \\\n",
       "0                    0                    0                    0   \n",
       "1                    0                    0                    0   \n",
       "2                    0                    0                    0   \n",
       "3                    0                    1                    0   \n",
       "4                    0                    0                    0   \n",
       "\n",
       "   weekday_str_1  weekday_str_2  weekday_str_3  weekday_str_4  weekday_str_5  \\\n",
       "0              0              0              0              0              1   \n",
       "1              0              0              0              0              0   \n",
       "2              0              0              0              1              0   \n",
       "3              0              0              0              1              0   \n",
       "4              0              0              0              1              0   \n",
       "\n",
       "   weekday_str_6  weekday_str_7  \n",
       "0              0              0  \n",
       "1              1              0  \n",
       "2              0              0  \n",
       "3              0              0  \n",
       "4              0              0  \n",
       "\n",
       "[5 rows x 54 columns]"
      ]
     },
     "execution_count": 50,
     "metadata": {},
     "output_type": "execute_result"
    }
   ],
   "source": [
    "X=data.drop(['productID'], axis=1)\n",
    "X['discount']=1-(X['avgOriginalUnitPrice']-X['avgFinalUnitPrice'])/X['avgOriginalUnitPrice']\n",
    "X=X.drop(['avgOriginalUnitPrice','avgFinalUnitPrice'],axis=1)\n",
    "X=X.drop(['meanAge','maritalStatus','meanUserLevel'],axis=1)\n",
    "X['brandID_str']=X['brandID'].astype(str)\n",
    "X['attribute1_str']=X['attribute1'].astype(str)\n",
    "X['attribute2_str']=X['attribute2'].astype(str)\n",
    "X['weekday_str']=X['weekday'].astype(str)\n",
    "X=X.drop(['brandID','attribute1','attribute2','weekday'],axis=1)\n",
    "X=pd.get_dummies(X)\n",
    "X.head()"
   ]
  },
  {
   "cell_type": "markdown",
   "metadata": {},
   "source": [
    "standardize the csv\n",
    "<br>note y should not be standardized"
   ]
  },
  {
   "cell_type": "code",
   "execution_count": 48,
   "metadata": {},
   "outputs": [],
   "source": [
    "ss=StandardScaler(with_mean=False)"
   ]
  },
  {
   "cell_type": "code",
   "execution_count": 51,
   "metadata": {},
   "outputs": [],
   "source": [
    "XX=X.drop('sales',axis=1)\n",
    "yy=X['sales']\n",
    "XX= ss.fit_transform(XX)"
   ]
  },
  {
   "cell_type": "code",
   "execution_count": 52,
   "metadata": {},
   "outputs": [
    {
     "name": "stdout",
     "output_type": "stream",
     "text": [
      "(2490, 53) (2490,)\n"
     ]
    }
   ],
   "source": [
    "TrainX = XX[:2490,:]\n",
    "Trainy = yy[:2490]\n",
    "print(TrainX.shape,Trainy.shape)\n",
    "data = pd.concat([pd.DataFrame(TrainX),pd.DataFrame(Trainy)],axis=1)"
   ]
  },
  {
   "cell_type": "markdown",
   "metadata": {},
   "source": [
    "linear, C = 100"
   ]
  },
  {
   "cell_type": "code",
   "execution_count": 54,
   "metadata": {},
   "outputs": [],
   "source": [
    "TrainX_train, TrainX_test, Trainy_train, Trainy_test = train_test_split(TrainX,Trainy,train_size=int(0.7*len(TrainX)), random_state=42)"
   ]
  },
  {
   "cell_type": "code",
   "execution_count": 55,
   "metadata": {},
   "outputs": [
    {
     "data": {
      "text/plain": [
       "1077.1549537126118"
      ]
     },
     "execution_count": 55,
     "metadata": {},
     "output_type": "execute_result"
    }
   ],
   "source": [
    "clf1 = SVR(C=100, kernel='linear')\n",
    "clf1.fit(TrainX_train,Trainy_train)\n",
    "MSE(clf1.predict(TrainX_test),Trainy_test)"
   ]
  },
  {
   "cell_type": "markdown",
   "metadata": {},
   "source": [
    "radial, C=54"
   ]
  },
  {
   "cell_type": "code",
   "execution_count": 57,
   "metadata": {},
   "outputs": [
    {
     "data": {
      "text/plain": [
       "7284.938186360635"
      ]
     },
     "execution_count": 57,
     "metadata": {},
     "output_type": "execute_result"
    }
   ],
   "source": [
    "clf4 = SVR()\n",
    "clf4.fit(TrainX_train,Trainy_train)\n",
    "MSE(clf4.predict(TrainX_test),Trainy_test)"
   ]
  },
  {
   "cell_type": "markdown",
   "metadata": {},
   "source": [
    "radial, C=100"
   ]
  },
  {
   "cell_type": "code",
   "execution_count": 58,
   "metadata": {},
   "outputs": [
    {
     "data": {
      "text/plain": [
       "1344.567779490386"
      ]
     },
     "execution_count": 58,
     "metadata": {},
     "output_type": "execute_result"
    }
   ],
   "source": [
    "clf2 = SVR(C=100, kernel='rbf')\n",
    "clf2.fit(TrainX_train,Trainy_train)\n",
    "MSE(clf2.predict(TrainX_test),Trainy_test)"
   ]
  },
  {
   "cell_type": "markdown",
   "metadata": {},
   "source": [
    "radial, C=200 (as C increases, MSE drops)"
   ]
  },
  {
   "cell_type": "code",
   "execution_count": 59,
   "metadata": {},
   "outputs": [
    {
     "data": {
      "text/plain": [
       "1174.7834712205743"
      ]
     },
     "execution_count": 59,
     "metadata": {},
     "output_type": "execute_result"
    }
   ],
   "source": [
    "clf5 = SVR(C=200, kernel='rbf')\n",
    "clf5.fit(TrainX_train,Trainy_train)\n",
    "MSE(clf5.predict(TrainX_test),Trainy_test)"
   ]
  },
  {
   "cell_type": "markdown",
   "metadata": {},
   "source": [
    "poly, degree=2"
   ]
  },
  {
   "cell_type": "code",
   "execution_count": 60,
   "metadata": {},
   "outputs": [
    {
     "data": {
      "text/plain": [
       "1147.9522368112455"
      ]
     },
     "execution_count": 60,
     "metadata": {},
     "output_type": "execute_result"
    }
   ],
   "source": [
    "clf3 = SVR(C=100, kernel='poly', degree=2)\n",
    "clf3.fit(TrainX_train,Trainy_train)\n",
    "MSE(clf3.predict(TrainX_test),Trainy_test)"
   ]
  },
  {
   "cell_type": "markdown",
   "metadata": {},
   "source": [
    "poly, degree=3"
   ]
  },
  {
   "cell_type": "code",
   "execution_count": 61,
   "metadata": {},
   "outputs": [
    {
     "data": {
      "text/plain": [
       "1048.1870359454792"
      ]
     },
     "execution_count": 61,
     "metadata": {},
     "output_type": "execute_result"
    }
   ],
   "source": [
    "clf6 = SVR(C=100, kernel='poly', degree=3)\n",
    "clf6.fit(TrainX_train,Trainy_train)\n",
    "MSE(clf6.predict(TrainX_test),Trainy_test)"
   ]
  },
  {
   "cell_type": "markdown",
   "metadata": {},
   "source": [
    "${R^2}$"
   ]
  },
  {
   "cell_type": "code",
   "execution_count": 65,
   "metadata": {},
   "outputs": [
    {
     "data": {
      "text/plain": [
       "0.8631744129045433"
      ]
     },
     "execution_count": 65,
     "metadata": {},
     "output_type": "execute_result"
    }
   ],
   "source": [
    "from sklearn.metrics import r2_score\n",
    "y_true = Trainy_test\n",
    "y_pred = clf6.predict(TrainX_test)\n",
    "r2 = r2_score(y_true, y_pred)\n",
    "r2"
   ]
  },
  {
   "cell_type": "code",
   "execution_count": 66,
   "metadata": {},
   "outputs": [
    {
     "data": {
      "text/plain": [
       "0.8593930721518925"
      ]
     },
     "execution_count": 66,
     "metadata": {},
     "output_type": "execute_result"
    }
   ],
   "source": [
    "y_true = Trainy_test\n",
    "y_pred = clf1.predict(TrainX_test)\n",
    "r2 = r2_score(y_true, y_pred)\n",
    "r2"
   ]
  },
  {
   "cell_type": "code",
   "execution_count": 67,
   "metadata": {},
   "outputs": [
    {
     "data": {
      "text/plain": [
       "0.8244862133288435"
      ]
     },
     "execution_count": 67,
     "metadata": {},
     "output_type": "execute_result"
    }
   ],
   "source": [
    "y_true = Trainy_test\n",
    "y_pred = clf2.predict(TrainX_test)\n",
    "r2 = r2_score(y_true, y_pred)\n",
    "r2"
   ]
  },
  {
   "cell_type": "markdown",
   "metadata": {},
   "source": [
    "Now do the data processing on data-test"
   ]
  },
  {
   "cell_type": "code",
   "execution_count": 62,
   "metadata": {},
   "outputs": [
    {
     "data": {
      "text/plain": [
       "((1657, 53), (1657,))"
      ]
     },
     "execution_count": 62,
     "metadata": {},
     "output_type": "execute_result"
    }
   ],
   "source": [
    "TestX = XX[2491:,:]\n",
    "Testy = yy[2491:]\n",
    "TestX.shape,Testy.shape"
   ]
  },
  {
   "cell_type": "code",
   "execution_count": 63,
   "metadata": {},
   "outputs": [],
   "source": [
    "results = clf6.predict(TestX)"
   ]
  },
  {
   "cell_type": "code",
   "execution_count": 64,
   "metadata": {},
   "outputs": [
    {
     "data": {
      "text/html": [
       "<div>\n",
       "<style scoped>\n",
       "    .dataframe tbody tr th:only-of-type {\n",
       "        vertical-align: middle;\n",
       "    }\n",
       "\n",
       "    .dataframe tbody tr th {\n",
       "        vertical-align: top;\n",
       "    }\n",
       "\n",
       "    .dataframe thead th {\n",
       "        text-align: right;\n",
       "    }\n",
       "</style>\n",
       "<table border=\"1\" class=\"dataframe\">\n",
       "  <thead>\n",
       "    <tr style=\"text-align: right;\">\n",
       "      <th></th>\n",
       "      <th>0</th>\n",
       "    </tr>\n",
       "  </thead>\n",
       "  <tbody>\n",
       "    <tr>\n",
       "      <th>count</th>\n",
       "      <td>1657.000000</td>\n",
       "    </tr>\n",
       "    <tr>\n",
       "      <th>mean</th>\n",
       "      <td>48.498078</td>\n",
       "    </tr>\n",
       "    <tr>\n",
       "      <th>std</th>\n",
       "      <td>81.504152</td>\n",
       "    </tr>\n",
       "    <tr>\n",
       "      <th>min</th>\n",
       "      <td>-17.560977</td>\n",
       "    </tr>\n",
       "    <tr>\n",
       "      <th>25%</th>\n",
       "      <td>11.166680</td>\n",
       "    </tr>\n",
       "    <tr>\n",
       "      <th>50%</th>\n",
       "      <td>23.879035</td>\n",
       "    </tr>\n",
       "    <tr>\n",
       "      <th>75%</th>\n",
       "      <td>53.299039</td>\n",
       "    </tr>\n",
       "    <tr>\n",
       "      <th>max</th>\n",
       "      <td>1278.635480</td>\n",
       "    </tr>\n",
       "  </tbody>\n",
       "</table>\n",
       "</div>"
      ],
      "text/plain": [
       "                 0\n",
       "count  1657.000000\n",
       "mean     48.498078\n",
       "std      81.504152\n",
       "min     -17.560977\n",
       "25%      11.166680\n",
       "50%      23.879035\n",
       "75%      53.299039\n",
       "max    1278.635480"
      ]
     },
     "execution_count": 64,
     "metadata": {},
     "output_type": "execute_result"
    }
   ],
   "source": [
    "results=pd.DataFrame(results)\n",
    "results.describe()"
   ]
  },
  {
   "cell_type": "markdown",
   "metadata": {},
   "source": [
    "Conclusion on SVM Models: The SVM model is not selected because it generates prediction up to -17 thus it is evaluated to be unstable."
   ]
  },
  {
   "cell_type": "markdown",
   "metadata": {},
   "source": [
    "# Sales Prediction and Inventory Decision with the best model (Gradient boosting)"
   ]
  },
  {
   "cell_type": "code",
   "execution_count": 27,
   "metadata": {},
   "outputs": [],
   "source": [
    "X=train.drop(['productID'], axis=1)\n",
    "X['discount']=1-(X['avgOriginalUnitPrice']-X['avgFinalUnitPrice'])/X['avgOriginalUnitPrice']\n",
    "X=X.drop(['avgOriginalUnitPrice','avgFinalUnitPrice'],axis=1)\n",
    "X=X.drop(['meanAge','maritalStatus','meanUserLevel'],axis=1)\n",
    "X['brandID_str']=X['brandID'].astype(str)\n",
    "X['attribute1_str']=X['attribute1'].astype(str)\n",
    "X['attribute2_str']=X['attribute2'].astype(str)\n",
    "X['weekday_str']=X['weekday'].astype(str)\n",
    "X=X.drop(['brandID','attribute1','attribute2','weekday'],axis=1)\n",
    "X=pd.get_dummies(X)\n",
    "XX=X.drop('sales',axis=1)\n",
    "yy=X['sales']"
   ]
  },
  {
   "cell_type": "markdown",
   "metadata": {},
   "source": [
    "import the model with best parametres:"
   ]
  },
  {
   "cell_type": "code",
   "execution_count": 28,
   "metadata": {},
   "outputs": [],
   "source": [
    "gbr = GradientBoostingRegressor(random_state=31,learning_rate=0.1,n_estimators=64,max_depth=5)"
   ]
  },
  {
   "cell_type": "code",
   "execution_count": 29,
   "metadata": {},
   "outputs": [
    {
     "data": {
      "text/plain": [
       "GradientBoostingRegressor(max_depth=5, n_estimators=64, random_state=31)"
      ]
     },
     "execution_count": 29,
     "metadata": {},
     "output_type": "execute_result"
    }
   ],
   "source": [
    "gbr.fit(XX,yy)"
   ]
  },
  {
   "cell_type": "code",
   "execution_count": 30,
   "metadata": {},
   "outputs": [
    {
     "data": {
      "text/html": [
       "<div>\n",
       "<style scoped>\n",
       "    .dataframe tbody tr th:only-of-type {\n",
       "        vertical-align: middle;\n",
       "    }\n",
       "\n",
       "    .dataframe tbody tr th {\n",
       "        vertical-align: top;\n",
       "    }\n",
       "\n",
       "    .dataframe thead th {\n",
       "        text-align: right;\n",
       "    }\n",
       "</style>\n",
       "<table border=\"1\" class=\"dataframe\">\n",
       "  <thead>\n",
       "    <tr style=\"text-align: right;\">\n",
       "      <th></th>\n",
       "      <th>productID</th>\n",
       "      <th>brandID</th>\n",
       "      <th>attribute1</th>\n",
       "      <th>attribute2</th>\n",
       "      <th>clickVolume</th>\n",
       "      <th>avgOriginalUnitPrice</th>\n",
       "      <th>avgFinalUnitPrice</th>\n",
       "      <th>ma14SalesVolume</th>\n",
       "      <th>weekday</th>\n",
       "      <th>meanAge</th>\n",
       "      <th>gender</th>\n",
       "      <th>meanEducation</th>\n",
       "      <th>maritalStatus</th>\n",
       "      <th>plus</th>\n",
       "      <th>meanPurchasePower</th>\n",
       "      <th>meanUserLevel</th>\n",
       "      <th>meanCityLevel</th>\n",
       "    </tr>\n",
       "  </thead>\n",
       "  <tbody>\n",
       "    <tr>\n",
       "      <th>0</th>\n",
       "      <td>35</td>\n",
       "      <td>2</td>\n",
       "      <td>4.0</td>\n",
       "      <td>100.0</td>\n",
       "      <td>1772.0</td>\n",
       "      <td>118.00</td>\n",
       "      <td>57.293333</td>\n",
       "      <td>26.357143</td>\n",
       "      <td>5</td>\n",
       "      <td>29.411765</td>\n",
       "      <td>0.078431</td>\n",
       "      <td>3.148936</td>\n",
       "      <td>0.551020</td>\n",
       "      <td>0.307692</td>\n",
       "      <td>2.346939</td>\n",
       "      <td>2.596154</td>\n",
       "      <td>2.140000</td>\n",
       "    </tr>\n",
       "    <tr>\n",
       "      <th>1</th>\n",
       "      <td>52</td>\n",
       "      <td>32</td>\n",
       "      <td>3.0</td>\n",
       "      <td>100.0</td>\n",
       "      <td>837.0</td>\n",
       "      <td>250.00</td>\n",
       "      <td>250.000000</td>\n",
       "      <td>34.000000</td>\n",
       "      <td>2</td>\n",
       "      <td>27.142857</td>\n",
       "      <td>0.285714</td>\n",
       "      <td>3.285714</td>\n",
       "      <td>0.571429</td>\n",
       "      <td>0.285714</td>\n",
       "      <td>2.142857</td>\n",
       "      <td>3.285714</td>\n",
       "      <td>1.800000</td>\n",
       "    </tr>\n",
       "    <tr>\n",
       "      <th>2</th>\n",
       "      <td>23</td>\n",
       "      <td>25</td>\n",
       "      <td>3.0</td>\n",
       "      <td>100.0</td>\n",
       "      <td>596.0</td>\n",
       "      <td>69.90</td>\n",
       "      <td>59.900000</td>\n",
       "      <td>45.142857</td>\n",
       "      <td>7</td>\n",
       "      <td>33.333333</td>\n",
       "      <td>0.333333</td>\n",
       "      <td>2.500000</td>\n",
       "      <td>0.666667</td>\n",
       "      <td>0.200000</td>\n",
       "      <td>2.666667</td>\n",
       "      <td>2.000000</td>\n",
       "      <td>3.000000</td>\n",
       "    </tr>\n",
       "    <tr>\n",
       "      <th>3</th>\n",
       "      <td>49</td>\n",
       "      <td>25</td>\n",
       "      <td>3.0</td>\n",
       "      <td>80.0</td>\n",
       "      <td>726.0</td>\n",
       "      <td>139.90</td>\n",
       "      <td>83.212500</td>\n",
       "      <td>11.357143</td>\n",
       "      <td>3</td>\n",
       "      <td>25.333333</td>\n",
       "      <td>0.400000</td>\n",
       "      <td>3.000000</td>\n",
       "      <td>0.500000</td>\n",
       "      <td>0.200000</td>\n",
       "      <td>2.714286</td>\n",
       "      <td>2.400000</td>\n",
       "      <td>2.076923</td>\n",
       "    </tr>\n",
       "    <tr>\n",
       "      <th>4</th>\n",
       "      <td>4</td>\n",
       "      <td>25</td>\n",
       "      <td>3.0</td>\n",
       "      <td>70.0</td>\n",
       "      <td>1664.0</td>\n",
       "      <td>127.03</td>\n",
       "      <td>112.175000</td>\n",
       "      <td>29.428571</td>\n",
       "      <td>1</td>\n",
       "      <td>30.461538</td>\n",
       "      <td>0.346154</td>\n",
       "      <td>2.916667</td>\n",
       "      <td>0.423077</td>\n",
       "      <td>0.153846</td>\n",
       "      <td>2.423077</td>\n",
       "      <td>4.717949</td>\n",
       "      <td>1.840000</td>\n",
       "    </tr>\n",
       "  </tbody>\n",
       "</table>\n",
       "</div>"
      ],
      "text/plain": [
       "   productID  brandID  attribute1  attribute2  clickVolume  \\\n",
       "0         35        2         4.0       100.0       1772.0   \n",
       "1         52       32         3.0       100.0        837.0   \n",
       "2         23       25         3.0       100.0        596.0   \n",
       "3         49       25         3.0        80.0        726.0   \n",
       "4          4       25         3.0        70.0       1664.0   \n",
       "\n",
       "   avgOriginalUnitPrice  avgFinalUnitPrice  ma14SalesVolume  weekday  \\\n",
       "0                118.00          57.293333        26.357143        5   \n",
       "1                250.00         250.000000        34.000000        2   \n",
       "2                 69.90          59.900000        45.142857        7   \n",
       "3                139.90          83.212500        11.357143        3   \n",
       "4                127.03         112.175000        29.428571        1   \n",
       "\n",
       "     meanAge    gender  meanEducation  maritalStatus      plus  \\\n",
       "0  29.411765  0.078431       3.148936       0.551020  0.307692   \n",
       "1  27.142857  0.285714       3.285714       0.571429  0.285714   \n",
       "2  33.333333  0.333333       2.500000       0.666667  0.200000   \n",
       "3  25.333333  0.400000       3.000000       0.500000  0.200000   \n",
       "4  30.461538  0.346154       2.916667       0.423077  0.153846   \n",
       "\n",
       "   meanPurchasePower  meanUserLevel  meanCityLevel  \n",
       "0           2.346939       2.596154       2.140000  \n",
       "1           2.142857       3.285714       1.800000  \n",
       "2           2.666667       2.000000       3.000000  \n",
       "3           2.714286       2.400000       2.076923  \n",
       "4           2.423077       4.717949       1.840000  "
      ]
     },
     "execution_count": 30,
     "metadata": {},
     "output_type": "execute_result"
    }
   ],
   "source": [
    "test=pd.read_csv('Data-test.csv',index_col=0)\n",
    "test.head()"
   ]
  },
  {
   "cell_type": "markdown",
   "metadata": {},
   "source": [
    "data processing on the test dataset"
   ]
  },
  {
   "cell_type": "code",
   "execution_count": 33,
   "metadata": {},
   "outputs": [],
   "source": [
    "X=test.drop(['productID'], axis=1)\n",
    "X['discount']=1-(X['avgOriginalUnitPrice']-X['avgFinalUnitPrice'])/X['avgOriginalUnitPrice']\n",
    "X=X.drop(['avgOriginalUnitPrice','avgFinalUnitPrice'],axis=1)\n",
    "X=X.drop(['meanAge','maritalStatus','meanUserLevel'],axis=1)\n",
    "X['brandID_str']=X['brandID'].astype(str)\n",
    "X['attribute1_str']=X['attribute1'].astype(str)\n",
    "X['attribute2_str']=X['attribute2'].astype(str)\n",
    "X['weekday_str']=X['weekday'].astype(str)\n",
    "X=X.drop(['brandID','attribute1','attribute2','weekday'],axis=1)\n",
    "X=pd.get_dummies(X)"
   ]
  },
  {
   "cell_type": "code",
   "execution_count": 34,
   "metadata": {},
   "outputs": [
    {
     "data": {
      "text/plain": [
       "array([ 59.,  22.,  12., ..., 275.,  14.,  20.])"
      ]
     },
     "execution_count": 34,
     "metadata": {},
     "output_type": "execute_result"
    }
   ],
   "source": [
    "pred_sales = np.rint(gbr.predict(X))\n",
    "pred_sales"
   ]
  },
  {
   "cell_type": "code",
   "execution_count": 35,
   "metadata": {},
   "outputs": [],
   "source": [
    "pred_sales = pd.DataFrame(pred_sales)\n",
    "pred_sales = pred_sales.clip(lower=0, upper=None)"
   ]
  },
  {
   "cell_type": "code",
   "execution_count": 36,
   "metadata": {},
   "outputs": [
    {
     "data": {
      "text/html": [
       "<div>\n",
       "<style scoped>\n",
       "    .dataframe tbody tr th:only-of-type {\n",
       "        vertical-align: middle;\n",
       "    }\n",
       "\n",
       "    .dataframe tbody tr th {\n",
       "        vertical-align: top;\n",
       "    }\n",
       "\n",
       "    .dataframe thead th {\n",
       "        text-align: right;\n",
       "    }\n",
       "</style>\n",
       "<table border=\"1\" class=\"dataframe\">\n",
       "  <thead>\n",
       "    <tr style=\"text-align: right;\">\n",
       "      <th></th>\n",
       "      <th>0</th>\n",
       "    </tr>\n",
       "  </thead>\n",
       "  <tbody>\n",
       "    <tr>\n",
       "      <th>count</th>\n",
       "      <td>1657.000000</td>\n",
       "    </tr>\n",
       "    <tr>\n",
       "      <th>mean</th>\n",
       "      <td>53.713941</td>\n",
       "    </tr>\n",
       "    <tr>\n",
       "      <th>std</th>\n",
       "      <td>87.651961</td>\n",
       "    </tr>\n",
       "    <tr>\n",
       "      <th>min</th>\n",
       "      <td>-0.000000</td>\n",
       "    </tr>\n",
       "    <tr>\n",
       "      <th>25%</th>\n",
       "      <td>12.000000</td>\n",
       "    </tr>\n",
       "    <tr>\n",
       "      <th>50%</th>\n",
       "      <td>24.000000</td>\n",
       "    </tr>\n",
       "    <tr>\n",
       "      <th>75%</th>\n",
       "      <td>57.000000</td>\n",
       "    </tr>\n",
       "    <tr>\n",
       "      <th>max</th>\n",
       "      <td>840.000000</td>\n",
       "    </tr>\n",
       "  </tbody>\n",
       "</table>\n",
       "</div>"
      ],
      "text/plain": [
       "                 0\n",
       "count  1657.000000\n",
       "mean     53.713941\n",
       "std      87.651961\n",
       "min      -0.000000\n",
       "25%      12.000000\n",
       "50%      24.000000\n",
       "75%      57.000000\n",
       "max     840.000000"
      ]
     },
     "execution_count": 36,
     "metadata": {},
     "output_type": "execute_result"
    }
   ],
   "source": [
    "pred_sales.describe()"
   ]
  },
  {
   "cell_type": "markdown",
   "metadata": {},
   "source": [
    "Assume the sales will follow exponential distribuion"
   ]
  },
  {
   "cell_type": "code",
   "execution_count": 37,
   "metadata": {},
   "outputs": [],
   "source": [
    "Price=20\n",
    "Cost=12\n",
    "salvage=8\n",
    "Over=Cost-salvage\n",
    "Under=Price-Cost"
   ]
  },
  {
   "cell_type": "code",
   "execution_count": 38,
   "metadata": {},
   "outputs": [
    {
     "data": {
      "text/html": [
       "<div>\n",
       "<style scoped>\n",
       "    .dataframe tbody tr th:only-of-type {\n",
       "        vertical-align: middle;\n",
       "    }\n",
       "\n",
       "    .dataframe tbody tr th {\n",
       "        vertical-align: top;\n",
       "    }\n",
       "\n",
       "    .dataframe thead th {\n",
       "        text-align: right;\n",
       "    }\n",
       "</style>\n",
       "<table border=\"1\" class=\"dataframe\">\n",
       "  <thead>\n",
       "    <tr style=\"text-align: right;\">\n",
       "      <th></th>\n",
       "      <th>0</th>\n",
       "    </tr>\n",
       "  </thead>\n",
       "  <tbody>\n",
       "    <tr>\n",
       "      <th>0</th>\n",
       "      <td>65.0</td>\n",
       "    </tr>\n",
       "    <tr>\n",
       "      <th>1</th>\n",
       "      <td>24.0</td>\n",
       "    </tr>\n",
       "    <tr>\n",
       "      <th>2</th>\n",
       "      <td>13.0</td>\n",
       "    </tr>\n",
       "    <tr>\n",
       "      <th>3</th>\n",
       "      <td>29.0</td>\n",
       "    </tr>\n",
       "    <tr>\n",
       "      <th>4</th>\n",
       "      <td>51.0</td>\n",
       "    </tr>\n",
       "    <tr>\n",
       "      <th>...</th>\n",
       "      <td>...</td>\n",
       "    </tr>\n",
       "    <tr>\n",
       "      <th>1652</th>\n",
       "      <td>27.0</td>\n",
       "    </tr>\n",
       "    <tr>\n",
       "      <th>1653</th>\n",
       "      <td>85.0</td>\n",
       "    </tr>\n",
       "    <tr>\n",
       "      <th>1654</th>\n",
       "      <td>302.0</td>\n",
       "    </tr>\n",
       "    <tr>\n",
       "      <th>1655</th>\n",
       "      <td>15.0</td>\n",
       "    </tr>\n",
       "    <tr>\n",
       "      <th>1656</th>\n",
       "      <td>22.0</td>\n",
       "    </tr>\n",
       "  </tbody>\n",
       "</table>\n",
       "<p>1657 rows × 1 columns</p>\n",
       "</div>"
      ],
      "text/plain": [
       "          0\n",
       "0      65.0\n",
       "1      24.0\n",
       "2      13.0\n",
       "3      29.0\n",
       "4      51.0\n",
       "...     ...\n",
       "1652   27.0\n",
       "1653   85.0\n",
       "1654  302.0\n",
       "1655   15.0\n",
       "1656   22.0\n",
       "\n",
       "[1657 rows x 1 columns]"
      ]
     },
     "execution_count": 38,
     "metadata": {},
     "output_type": "execute_result"
    }
   ],
   "source": [
    "inventory=np.rint(-pred_sales * np.log(1 - Under/(Under + Over)))\n",
    "inventory"
   ]
  },
  {
   "cell_type": "code",
   "execution_count": 39,
   "metadata": {},
   "outputs": [
    {
     "data": {
      "text/html": [
       "<div>\n",
       "<style scoped>\n",
       "    .dataframe tbody tr th:only-of-type {\n",
       "        vertical-align: middle;\n",
       "    }\n",
       "\n",
       "    .dataframe tbody tr th {\n",
       "        vertical-align: top;\n",
       "    }\n",
       "\n",
       "    .dataframe thead th {\n",
       "        text-align: right;\n",
       "    }\n",
       "</style>\n",
       "<table border=\"1\" class=\"dataframe\">\n",
       "  <thead>\n",
       "    <tr style=\"text-align: right;\">\n",
       "      <th></th>\n",
       "      <th>productID</th>\n",
       "      <th>brandID</th>\n",
       "      <th>attribute1</th>\n",
       "      <th>attribute2</th>\n",
       "      <th>clickVolume</th>\n",
       "      <th>avgOriginalUnitPrice</th>\n",
       "      <th>avgFinalUnitPrice</th>\n",
       "      <th>ma14SalesVolume</th>\n",
       "      <th>weekday</th>\n",
       "      <th>meanAge</th>\n",
       "      <th>gender</th>\n",
       "      <th>meanEducation</th>\n",
       "      <th>maritalStatus</th>\n",
       "      <th>plus</th>\n",
       "      <th>meanPurchasePower</th>\n",
       "      <th>meanUserLevel</th>\n",
       "      <th>meanCityLevel</th>\n",
       "      <th>sales</th>\n",
       "      <th>inventory</th>\n",
       "    </tr>\n",
       "  </thead>\n",
       "  <tbody>\n",
       "    <tr>\n",
       "      <th>0</th>\n",
       "      <td>35</td>\n",
       "      <td>2</td>\n",
       "      <td>4.0</td>\n",
       "      <td>100.0</td>\n",
       "      <td>1772.0</td>\n",
       "      <td>118.00</td>\n",
       "      <td>57.293333</td>\n",
       "      <td>26.357143</td>\n",
       "      <td>5</td>\n",
       "      <td>29.411765</td>\n",
       "      <td>0.078431</td>\n",
       "      <td>3.148936</td>\n",
       "      <td>0.551020</td>\n",
       "      <td>0.307692</td>\n",
       "      <td>2.346939</td>\n",
       "      <td>2.596154</td>\n",
       "      <td>2.140000</td>\n",
       "      <td>59.0</td>\n",
       "      <td>65.0</td>\n",
       "    </tr>\n",
       "    <tr>\n",
       "      <th>1</th>\n",
       "      <td>52</td>\n",
       "      <td>32</td>\n",
       "      <td>3.0</td>\n",
       "      <td>100.0</td>\n",
       "      <td>837.0</td>\n",
       "      <td>250.00</td>\n",
       "      <td>250.000000</td>\n",
       "      <td>34.000000</td>\n",
       "      <td>2</td>\n",
       "      <td>27.142857</td>\n",
       "      <td>0.285714</td>\n",
       "      <td>3.285714</td>\n",
       "      <td>0.571429</td>\n",
       "      <td>0.285714</td>\n",
       "      <td>2.142857</td>\n",
       "      <td>3.285714</td>\n",
       "      <td>1.800000</td>\n",
       "      <td>22.0</td>\n",
       "      <td>24.0</td>\n",
       "    </tr>\n",
       "    <tr>\n",
       "      <th>2</th>\n",
       "      <td>23</td>\n",
       "      <td>25</td>\n",
       "      <td>3.0</td>\n",
       "      <td>100.0</td>\n",
       "      <td>596.0</td>\n",
       "      <td>69.90</td>\n",
       "      <td>59.900000</td>\n",
       "      <td>45.142857</td>\n",
       "      <td>7</td>\n",
       "      <td>33.333333</td>\n",
       "      <td>0.333333</td>\n",
       "      <td>2.500000</td>\n",
       "      <td>0.666667</td>\n",
       "      <td>0.200000</td>\n",
       "      <td>2.666667</td>\n",
       "      <td>2.000000</td>\n",
       "      <td>3.000000</td>\n",
       "      <td>12.0</td>\n",
       "      <td>13.0</td>\n",
       "    </tr>\n",
       "    <tr>\n",
       "      <th>3</th>\n",
       "      <td>49</td>\n",
       "      <td>25</td>\n",
       "      <td>3.0</td>\n",
       "      <td>80.0</td>\n",
       "      <td>726.0</td>\n",
       "      <td>139.90</td>\n",
       "      <td>83.212500</td>\n",
       "      <td>11.357143</td>\n",
       "      <td>3</td>\n",
       "      <td>25.333333</td>\n",
       "      <td>0.400000</td>\n",
       "      <td>3.000000</td>\n",
       "      <td>0.500000</td>\n",
       "      <td>0.200000</td>\n",
       "      <td>2.714286</td>\n",
       "      <td>2.400000</td>\n",
       "      <td>2.076923</td>\n",
       "      <td>26.0</td>\n",
       "      <td>29.0</td>\n",
       "    </tr>\n",
       "    <tr>\n",
       "      <th>4</th>\n",
       "      <td>4</td>\n",
       "      <td>25</td>\n",
       "      <td>3.0</td>\n",
       "      <td>70.0</td>\n",
       "      <td>1664.0</td>\n",
       "      <td>127.03</td>\n",
       "      <td>112.175000</td>\n",
       "      <td>29.428571</td>\n",
       "      <td>1</td>\n",
       "      <td>30.461538</td>\n",
       "      <td>0.346154</td>\n",
       "      <td>2.916667</td>\n",
       "      <td>0.423077</td>\n",
       "      <td>0.153846</td>\n",
       "      <td>2.423077</td>\n",
       "      <td>4.717949</td>\n",
       "      <td>1.840000</td>\n",
       "      <td>46.0</td>\n",
       "      <td>51.0</td>\n",
       "    </tr>\n",
       "  </tbody>\n",
       "</table>\n",
       "</div>"
      ],
      "text/plain": [
       "   productID  brandID  attribute1  attribute2  clickVolume  \\\n",
       "0         35        2         4.0       100.0       1772.0   \n",
       "1         52       32         3.0       100.0        837.0   \n",
       "2         23       25         3.0       100.0        596.0   \n",
       "3         49       25         3.0        80.0        726.0   \n",
       "4          4       25         3.0        70.0       1664.0   \n",
       "\n",
       "   avgOriginalUnitPrice  avgFinalUnitPrice  ma14SalesVolume  weekday  \\\n",
       "0                118.00          57.293333        26.357143        5   \n",
       "1                250.00         250.000000        34.000000        2   \n",
       "2                 69.90          59.900000        45.142857        7   \n",
       "3                139.90          83.212500        11.357143        3   \n",
       "4                127.03         112.175000        29.428571        1   \n",
       "\n",
       "     meanAge    gender  meanEducation  maritalStatus      plus  \\\n",
       "0  29.411765  0.078431       3.148936       0.551020  0.307692   \n",
       "1  27.142857  0.285714       3.285714       0.571429  0.285714   \n",
       "2  33.333333  0.333333       2.500000       0.666667  0.200000   \n",
       "3  25.333333  0.400000       3.000000       0.500000  0.200000   \n",
       "4  30.461538  0.346154       2.916667       0.423077  0.153846   \n",
       "\n",
       "   meanPurchasePower  meanUserLevel  meanCityLevel  sales  inventory  \n",
       "0           2.346939       2.596154       2.140000   59.0       65.0  \n",
       "1           2.142857       3.285714       1.800000   22.0       24.0  \n",
       "2           2.666667       2.000000       3.000000   12.0       13.0  \n",
       "3           2.714286       2.400000       2.076923   26.0       29.0  \n",
       "4           2.423077       4.717949       1.840000   46.0       51.0  "
      ]
     },
     "execution_count": 39,
     "metadata": {},
     "output_type": "execute_result"
    }
   ],
   "source": [
    "test['sales']=pred_sales\n",
    "test['inventory']=inventory\n",
    "test.head()"
   ]
  },
  {
   "cell_type": "code",
   "execution_count": 40,
   "metadata": {},
   "outputs": [],
   "source": [
    "test.to_csv('group22.csv')"
   ]
  },
  {
   "cell_type": "code",
   "execution_count": 41,
   "metadata": {},
   "outputs": [
    {
     "data": {
      "text/plain": [
       "677148.0"
      ]
     },
     "execution_count": 41,
     "metadata": {},
     "output_type": "execute_result"
    }
   ],
   "source": [
    "profit = np.sum(test['sales'])*(Price -Cost) - np.sum(test['inventory']-test['sales'])*(Cost-salvage)\n",
    "profit"
   ]
  }
 ],
 "metadata": {
  "kernelspec": {
   "display_name": "Python 3",
   "language": "python",
   "name": "python3"
  },
  "language_info": {
   "codemirror_mode": {
    "name": "ipython",
    "version": 3
   },
   "file_extension": ".py",
   "mimetype": "text/x-python",
   "name": "python",
   "nbconvert_exporter": "python",
   "pygments_lexer": "ipython3",
   "version": "3.8.5"
  }
 },
 "nbformat": 4,
 "nbformat_minor": 5
}
